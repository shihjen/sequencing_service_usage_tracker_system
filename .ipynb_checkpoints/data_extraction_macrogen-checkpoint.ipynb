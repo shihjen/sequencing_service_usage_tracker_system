{
 "cells": [
  {
   "cell_type": "code",
   "execution_count": 1,
   "id": "32e3d2f7-b7df-4962-a8a4-b55a7869125e",
   "metadata": {},
   "outputs": [],
   "source": [
    "# import required libraries\n",
    "import pandas as pd\n",
    "import numpy as np\n",
    "import os"
   ]
  },
  {
   "cell_type": "code",
   "execution_count": 2,
   "id": "0653dd08-1a19-4a6d-b9fe-06c6a1d5ea1c",
   "metadata": {},
   "outputs": [],
   "source": [
    "# function to extract the specific row of the table \n",
    "def process_html(file):\n",
    "        reduced_file = file.iloc[1:-6,:]\n",
    "        return reduced_file.iloc[:,:2]                              "
   ]
  },
  {
   "cell_type": "code",
   "execution_count": 3,
   "id": "2e127b25-2edb-43f7-b9a0-374f585e1dfc",
   "metadata": {
    "tags": []
   },
   "outputs": [
    {
     "name": "stdout",
     "output_type": "stream",
     "text": [
      "Number of table extracted: 74\n"
     ]
    }
   ],
   "source": [
    "# directory containing HTML files\n",
    "html_dir = 'data/html_data'\n",
    "\n",
    "# List to store DataFrames\n",
    "html_dfs = []\n",
    "\n",
    "# iterate over files in the directory\n",
    "for file in os.listdir(html_dir):\n",
    "    if file.endswith('.html'):\n",
    "        # Construct the full path to the HTML file\n",
    "        file_path = os.path.join(html_dir, file)\n",
    "        \n",
    "        # Read HTML tables from the file\n",
    "        tables = pd.read_html(file_path)\n",
    "        \n",
    "        # Append the DataFrames to the list\n",
    "        html_dfs.extend(tables)\n",
    "        \n",
    "print('Number of table extracted:', len(html_dfs))"
   ]
  },
  {
   "cell_type": "code",
   "execution_count": 4,
   "id": "d40bb31e-ab63-403f-b32e-710565e32907",
   "metadata": {},
   "outputs": [
    {
     "data": {
      "text/html": [
       "<div>\n",
       "<style scoped>\n",
       "    .dataframe tbody tr th:only-of-type {\n",
       "        vertical-align: middle;\n",
       "    }\n",
       "\n",
       "    .dataframe tbody tr th {\n",
       "        vertical-align: top;\n",
       "    }\n",
       "\n",
       "    .dataframe thead th {\n",
       "        text-align: right;\n",
       "    }\n",
       "</style>\n",
       "<table border=\"1\" class=\"dataframe\">\n",
       "  <thead>\n",
       "    <tr style=\"text-align: right;\">\n",
       "      <th></th>\n",
       "      <th>Description</th>\n",
       "      <th>Number_Samples</th>\n",
       "    </tr>\n",
       "  </thead>\n",
       "  <tbody>\n",
       "    <tr>\n",
       "      <th>1</th>\n",
       "      <td>[200331FN-006] PCR product Sequencing</td>\n",
       "      <td>18.00</td>\n",
       "    </tr>\n",
       "    <tr>\n",
       "      <th>2</th>\n",
       "      <td>[200401FN-001] PCR product Sequencing</td>\n",
       "      <td>2.00</td>\n",
       "    </tr>\n",
       "    <tr>\n",
       "      <th>3</th>\n",
       "      <td>[200401FN-002] PCR product Sequencing</td>\n",
       "      <td>4.00</td>\n",
       "    </tr>\n",
       "    <tr>\n",
       "      <th>4</th>\n",
       "      <td>[200402FN-001] PCR product Sequencing</td>\n",
       "      <td>32.00</td>\n",
       "    </tr>\n",
       "    <tr>\n",
       "      <th>5</th>\n",
       "      <td>[200402FN-002] PCR product Sequencing</td>\n",
       "      <td>2.00</td>\n",
       "    </tr>\n",
       "    <tr>\n",
       "      <th>...</th>\n",
       "      <td>...</td>\n",
       "      <td>...</td>\n",
       "    </tr>\n",
       "    <tr>\n",
       "      <th>11</th>\n",
       "      <td>[230508FN-002] PCR product Sequencing</td>\n",
       "      <td>30.00</td>\n",
       "    </tr>\n",
       "    <tr>\n",
       "      <th>12</th>\n",
       "      <td>[230509FN-001] PCR product Sequencing</td>\n",
       "      <td>40.00</td>\n",
       "    </tr>\n",
       "    <tr>\n",
       "      <th>13</th>\n",
       "      <td>[230510FN-001] PCR product Sequencing</td>\n",
       "      <td>8.00</td>\n",
       "    </tr>\n",
       "    <tr>\n",
       "      <th>14</th>\n",
       "      <td>[230510FN-007] PCR product Sequencing</td>\n",
       "      <td>18.00</td>\n",
       "    </tr>\n",
       "    <tr>\n",
       "      <th>15</th>\n",
       "      <td>[230510FN-020] PCR product Sequencing</td>\n",
       "      <td>4.00</td>\n",
       "    </tr>\n",
       "  </tbody>\n",
       "</table>\n",
       "<p>965 rows × 2 columns</p>\n",
       "</div>"
      ],
      "text/plain": [
       "                              Description Number_Samples\n",
       "1   [200331FN-006] PCR product Sequencing          18.00\n",
       "2   [200401FN-001] PCR product Sequencing           2.00\n",
       "3   [200401FN-002] PCR product Sequencing           4.00\n",
       "4   [200402FN-001] PCR product Sequencing          32.00\n",
       "5   [200402FN-002] PCR product Sequencing           2.00\n",
       "..                                    ...            ...\n",
       "11  [230508FN-002] PCR product Sequencing          30.00\n",
       "12  [230509FN-001] PCR product Sequencing          40.00\n",
       "13  [230510FN-001] PCR product Sequencing           8.00\n",
       "14  [230510FN-007] PCR product Sequencing          18.00\n",
       "15  [230510FN-020] PCR product Sequencing           4.00\n",
       "\n",
       "[965 rows x 2 columns]"
      ]
     },
     "metadata": {},
     "output_type": "display_data"
    }
   ],
   "source": [
    "# processed the extracted tables and concat into a single dataframe\n",
    "processed_df = []\n",
    "\n",
    "for df in html_dfs:\n",
    "    processed_df.append(process_html(df))\n",
    "    \n",
    "merged_data = pd.concat(processed_df, axis=0)\n",
    "merged_data.columns = ['Description', 'Number_Samples']\n",
    "merged_data = merged_data[merged_data['Number_Samples']!='Subtotal']\n",
    "display(merged_data)"
   ]
  },
  {
   "cell_type": "code",
   "execution_count": 5,
   "id": "af16abe9-8e8d-4965-8308-541cca45b789",
   "metadata": {},
   "outputs": [],
   "source": [
    "# extract the order ID and order date from the description column\n",
    "merged_data['Order_ID'] = merged_data['Description'].apply(lambda x: x.split(' ')[0]).str.strip('[').str.strip(']')\n",
    "\n",
    "merged_data['Order_Date'] = merged_data['Order_ID'].apply(lambda x: x.split('F')[0])\n",
    "merged_data['Order_Date'] = pd.to_datetime(merged_data['Order_Date'], format='%y%m%d')\n",
    "merged_data['Order_Date'] = merged_data['Order_Date'].dt.strftime('%Y-%m-%d')"
   ]
  },
  {
   "cell_type": "code",
   "execution_count": 6,
   "id": "635a88d8-8ee4-492f-a799-3ac0902af2ee",
   "metadata": {},
   "outputs": [],
   "source": [
    "# subset the dataframe with selected column, sort by date and export into Excel file\n",
    "invoice = merged_data[['Order_ID','Order_Date','Number_Samples']]\n",
    "sorted_invoice = invoice.sort_values(by='Order_Date')\n",
    "sorted_invoice.to_excel('data/marcogen_invoice.xlsx')"
   ]
  }
 ],
 "metadata": {
  "kernelspec": {
   "display_name": "Python 3 (ipykernel)",
   "language": "python",
   "name": "python3"
  },
  "language_info": {
   "codemirror_mode": {
    "name": "ipython",
    "version": 3
   },
   "file_extension": ".py",
   "mimetype": "text/x-python",
   "name": "python",
   "nbconvert_exporter": "python",
   "pygments_lexer": "ipython3",
   "version": "3.9.12"
  }
 },
 "nbformat": 4,
 "nbformat_minor": 5
}
