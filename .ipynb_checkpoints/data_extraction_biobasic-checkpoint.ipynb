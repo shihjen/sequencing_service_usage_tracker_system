{
 "cells": [
  {
   "cell_type": "code",
   "execution_count": 1,
   "id": "e0217a92-1db2-4b86-9205-5534f945c1af",
   "metadata": {},
   "outputs": [],
   "source": [
    "# import essential libraries\n",
    "import pandas as pd\n",
    "import numpy as np"
   ]
  },
  {
   "cell_type": "code",
   "execution_count": 2,
   "id": "7a2897ac-7856-4220-a345-c4428f3405cb",
   "metadata": {},
   "outputs": [],
   "source": [
    "# load the dataset\n",
    "csv2023 = pd.read_csv('data/biobasic2023.csv')\n",
    "csv2024 = pd.read_csv('data/biobasic2024.csv')"
   ]
  },
  {
   "cell_type": "code",
   "execution_count": 3,
   "id": "969fd67d-211a-4196-b10e-f23505421730",
   "metadata": {},
   "outputs": [],
   "source": [
    "# define a function to process the ingested csv file\n",
    "def process_csv(data): \n",
    "    # subset the data for manipulation\n",
    "    data2 = data.iloc[1:, 0:8]\n",
    "    \n",
    "    # rename the columns\n",
    "    data2.columns = ['Order_ID','Order_Date','Status','Lab','Package','User','Type','Number_Samples']\n",
    "\n",
    "    # removed columns not used in analysis\n",
    "    data4 = data2.drop(columns=['Status', 'Lab', 'Package', 'Type'], axis=1)\n",
    "    \n",
    "    # exclude data with missing value\n",
    "    data4.dropna(inplace=True)\n",
    "    \n",
    "    # extract the user name\n",
    "    data4['User'] = data4['User'].apply(lambda x: x.split(' (')[0])\n",
    "    \n",
    "    # convert the order_date into datetime format\n",
    "    data4['Order_Date'] = pd.to_datetime(data4['Order_Date'], format='%Y-%m-%d', errors='coerce')\n",
    "    \n",
    "    fil = data4[data4['Order_Date'].isna()]\n",
    "    data5 = data4.drop(index=fil.index.tolist())\n",
    "    \n",
    "    data5['Order_Date'] = data5['Order_Date'].dt.strftime('%Y-%m-%d')\n",
    "    \n",
    "    return data5"
   ]
  },
  {
   "cell_type": "code",
   "execution_count": 4,
   "id": "9da3c336-1e93-4449-b51f-b07d4f7caa53",
   "metadata": {},
   "outputs": [
    {
     "name": "stdout",
     "output_type": "stream",
     "text": [
      "<class 'pandas.core.frame.DataFrame'>\n",
      "Int64Index: 234 entries, 1 to 270\n",
      "Data columns (total 4 columns):\n",
      " #   Column          Non-Null Count  Dtype \n",
      "---  ------          --------------  ----- \n",
      " 0   Order_ID        234 non-null    object\n",
      " 1   Order_Date      234 non-null    object\n",
      " 2   User            234 non-null    object\n",
      " 3   Number_Samples  234 non-null    object\n",
      "dtypes: object(4)\n",
      "memory usage: 9.1+ KB\n",
      "None\n",
      "<class 'pandas.core.frame.DataFrame'>\n",
      "Int64Index: 137 entries, 1 to 157\n",
      "Data columns (total 4 columns):\n",
      " #   Column          Non-Null Count  Dtype \n",
      "---  ------          --------------  ----- \n",
      " 0   Order_ID        137 non-null    object\n",
      " 1   Order_Date      137 non-null    object\n",
      " 2   User            137 non-null    object\n",
      " 3   Number_Samples  137 non-null    object\n",
      "dtypes: object(4)\n",
      "memory usage: 5.4+ KB\n",
      "None\n"
     ]
    }
   ],
   "source": [
    "# process the datasets\n",
    "df2023 = process_csv(csv2023)\n",
    "df2024 = process_csv(csv2024)\n",
    "\n",
    "# display the summary of the processed dataset\n",
    "print(df2023.info())\n",
    "print(df2024.info())"
   ]
  },
  {
   "cell_type": "code",
   "execution_count": 5,
   "id": "1dc45e60-a7a1-49e4-8da3-5bacdcc58bef",
   "metadata": {},
   "outputs": [],
   "source": [
    "# merged the 2 dataframes\n",
    "invoices = pd.concat([df2023, df2024], axis=0)\n",
    "\n",
    "# sort the dataframe by the order date\n",
    "sorted_invoice = invoices.sort_values(by='Order_Date')\n",
    "\n",
    "# export the sorted dataframe into Excel file\n",
    "sorted_invoice.to_excel('data/biobasic_invoice.xlsx')"
   ]
  }
 ],
 "metadata": {
  "kernelspec": {
   "display_name": "Python 3 (ipykernel)",
   "language": "python",
   "name": "python3"
  },
  "language_info": {
   "codemirror_mode": {
    "name": "ipython",
    "version": 3
   },
   "file_extension": ".py",
   "mimetype": "text/x-python",
   "name": "python",
   "nbconvert_exporter": "python",
   "pygments_lexer": "ipython3",
   "version": "3.9.12"
  }
 },
 "nbformat": 4,
 "nbformat_minor": 5
}
