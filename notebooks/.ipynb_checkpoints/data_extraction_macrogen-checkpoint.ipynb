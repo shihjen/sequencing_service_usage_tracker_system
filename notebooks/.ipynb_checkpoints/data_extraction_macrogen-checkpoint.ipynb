{
 "cells": [
  {
   "cell_type": "code",
   "execution_count": 1,
   "id": "32e3d2f7-b7df-4962-a8a4-b55a7869125e",
   "metadata": {},
   "outputs": [],
   "source": [
    "# import required libraries\n",
    "import pandas as pd\n",
    "import numpy as np\n",
    "import os"
   ]
  },
  {
   "cell_type": "code",
   "execution_count": 2,
   "id": "3a359451-cb93-4403-876f-a198e18d65e0",
   "metadata": {},
   "outputs": [],
   "source": [
    "def trim_dataframe(df):\n",
    "    # Create a boolean mask where 'Subtotal' is present\n",
    "    mask = df.apply(lambda row: row.astype(str).str.contains('Subtotal')).any(axis=1)\n",
    "    \n",
    "    # Find the index of the first occurrence of 'Subtotal'\n",
    "    if mask.any():\n",
    "        subtotal_index = mask.idxmax()  # Get the index of the first True value\n",
    "        \n",
    "        # Return the DataFrame up to the row before 'Subtotal'\n",
    "        trimmed_df = df.iloc[:subtotal_index-1]\n",
    "    else:\n",
    "        # If 'Subtotal' is not found, return the original DataFrame\n",
    "        trimmed_df = df\n",
    "    \n",
    "    return trimmed_df"
   ]
  },
  {
   "cell_type": "code",
   "execution_count": 3,
   "id": "2e127b25-2edb-43f7-b9a0-374f585e1dfc",
   "metadata": {
    "tags": []
   },
   "outputs": [
    {
     "name": "stdout",
     "output_type": "stream",
     "text": [
      "Number of table extracted: 74\n"
     ]
    }
   ],
   "source": [
    "# directory containing HTML files\n",
    "html_dir = '../data/html_data'\n",
    "\n",
    "# List to store DataFrames\n",
    "html_dfs = []\n",
    "\n",
    "# iterate over files in the directory\n",
    "for file in os.listdir(html_dir):\n",
    "    if file.endswith('.html'):\n",
    "        # Construct the full path to the HTML file\n",
    "        file_path = os.path.join(html_dir, file)\n",
    "        \n",
    "        # Read HTML tables from the file\n",
    "        tables = pd.read_html(file_path)\n",
    "        \n",
    "        # Append the DataFrames to the list\n",
    "        html_dfs.extend(tables)\n",
    "        \n",
    "print('Number of table extracted:', len(html_dfs))"
   ]
  },
  {
   "cell_type": "code",
   "execution_count": 4,
   "id": "46c0f5ce-763f-403b-84db-c23beb4907b0",
   "metadata": {},
   "outputs": [],
   "source": [
    "processed_dfs = []\n",
    "for df in html_dfs:\n",
    "    trimmed_df = trim_dataframe(df.iloc[1:,:])\n",
    "    processed_dfs.append(trimmed_df.iloc[:,:2])"
   ]
  },
  {
   "cell_type": "code",
   "execution_count": 5,
   "id": "47f8bb6f-1ea1-494b-a015-46f634ae8d3e",
   "metadata": {},
   "outputs": [],
   "source": [
    "cont = []\n",
    "for df in processed_dfs:\n",
    "    if df.shape[0] == 0:\n",
    "        continue\n",
    "    else:\n",
    "        if '[' in df.iloc[0, 0]:\n",
    "            cont.append(df)"
   ]
  },
  {
   "cell_type": "code",
   "execution_count": 6,
   "id": "f5714d73-4c90-464b-95f6-ee4c79fad277",
   "metadata": {},
   "outputs": [],
   "source": [
    "merged_data = pd.concat(cont, axis=0)\n",
    "merged_data.columns = ['Description', 'Number_Samples']"
   ]
  },
  {
   "cell_type": "code",
   "execution_count": 7,
   "id": "af16abe9-8e8d-4965-8308-541cca45b789",
   "metadata": {},
   "outputs": [],
   "source": [
    "# extract the order ID and order date from the description column\n",
    "merged_data['Order_ID'] = merged_data['Description'].apply(lambda x: x.split(' ')[0]).str.strip('[').str.strip(']')\n",
    "\n",
    "merged_data['Order_Date'] = merged_data['Order_ID'].apply(lambda x: x.split('F')[0])\n",
    "merged_data['Order_Date'] = pd.to_datetime(merged_data['Order_Date'], format='%y%m%d')\n",
    "merged_data['Order_Date'] = merged_data['Order_Date'].dt.strftime('%Y-%m-%d')"
   ]
  },
  {
   "cell_type": "code",
   "execution_count": 8,
   "id": "635a88d8-8ee4-492f-a799-3ac0902af2ee",
   "metadata": {},
   "outputs": [],
   "source": [
    "# subset the dataframe with selected column, sort by date and export into Excel file\n",
    "invoice = merged_data[['Order_ID','Order_Date','Number_Samples']]\n",
    "sorted_invoice = invoice.sort_values(by='Order_Date')\n",
    "sorted_invoice.to_excel('../data/macrogen_invoice.xlsx', index=False)"
   ]
  }
 ],
 "metadata": {
  "kernelspec": {
   "display_name": "Python 3 (ipykernel)",
   "language": "python",
   "name": "python3"
  },
  "language_info": {
   "codemirror_mode": {
    "name": "ipython",
    "version": 3
   },
   "file_extension": ".py",
   "mimetype": "text/x-python",
   "name": "python",
   "nbconvert_exporter": "python",
   "pygments_lexer": "ipython3",
   "version": "3.9.12"
  }
 },
 "nbformat": 4,
 "nbformat_minor": 5
}
