{
 "cells": [
  {
   "cell_type": "code",
   "execution_count": 1,
   "id": "98f93c9a-481d-4515-8cbc-a94c501cc9e7",
   "metadata": {},
   "outputs": [],
   "source": [
    "# import required libraries\n",
    "import pandas as pd\n",
    "import numpy as np\n",
    "import plotly.express as px\n",
    "import plotly.graph_objects as go"
   ]
  },
  {
   "cell_type": "code",
   "execution_count": 2,
   "id": "9da5e9cd-a836-4769-92d1-6fe19f1b8fbb",
   "metadata": {},
   "outputs": [
    {
     "data": {
      "text/html": [
       "<div>\n",
       "<style scoped>\n",
       "    .dataframe tbody tr th:only-of-type {\n",
       "        vertical-align: middle;\n",
       "    }\n",
       "\n",
       "    .dataframe tbody tr th {\n",
       "        vertical-align: top;\n",
       "    }\n",
       "\n",
       "    .dataframe thead th {\n",
       "        text-align: right;\n",
       "    }\n",
       "</style>\n",
       "<table border=\"1\" class=\"dataframe\">\n",
       "  <thead>\n",
       "    <tr style=\"text-align: right;\">\n",
       "      <th></th>\n",
       "      <th>Order_ID</th>\n",
       "      <th>Order_Date</th>\n",
       "      <th>Number_Samples</th>\n",
       "    </tr>\n",
       "  </thead>\n",
       "  <tbody>\n",
       "    <tr>\n",
       "      <th>0</th>\n",
       "      <td>200204FA-006</td>\n",
       "      <td>2020-02-04</td>\n",
       "      <td>2.0</td>\n",
       "    </tr>\n",
       "    <tr>\n",
       "      <th>1</th>\n",
       "      <td>200227FN-090</td>\n",
       "      <td>2020-02-27</td>\n",
       "      <td>4.0</td>\n",
       "    </tr>\n",
       "    <tr>\n",
       "      <th>2</th>\n",
       "      <td>200228FN-075</td>\n",
       "      <td>2020-02-28</td>\n",
       "      <td>11.0</td>\n",
       "    </tr>\n",
       "    <tr>\n",
       "      <th>3</th>\n",
       "      <td>200228FN-055</td>\n",
       "      <td>2020-02-28</td>\n",
       "      <td>4.0</td>\n",
       "    </tr>\n",
       "    <tr>\n",
       "      <th>4</th>\n",
       "      <td>200303FN-008</td>\n",
       "      <td>2020-03-03</td>\n",
       "      <td>8.0</td>\n",
       "    </tr>\n",
       "  </tbody>\n",
       "</table>\n",
       "</div>"
      ],
      "text/plain": [
       "       Order_ID  Order_Date  Number_Samples\n",
       "0  200204FA-006  2020-02-04             2.0\n",
       "1  200227FN-090  2020-02-27             4.0\n",
       "2  200228FN-075  2020-02-28            11.0\n",
       "3  200228FN-055  2020-02-28             4.0\n",
       "4  200303FN-008  2020-03-03             8.0"
      ]
     },
     "metadata": {},
     "output_type": "display_data"
    },
    {
     "data": {
      "text/html": [
       "<div>\n",
       "<style scoped>\n",
       "    .dataframe tbody tr th:only-of-type {\n",
       "        vertical-align: middle;\n",
       "    }\n",
       "\n",
       "    .dataframe tbody tr th {\n",
       "        vertical-align: top;\n",
       "    }\n",
       "\n",
       "    .dataframe thead th {\n",
       "        text-align: right;\n",
       "    }\n",
       "</style>\n",
       "<table border=\"1\" class=\"dataframe\">\n",
       "  <thead>\n",
       "    <tr style=\"text-align: right;\">\n",
       "      <th></th>\n",
       "      <th>Order_ID</th>\n",
       "      <th>Order_Date</th>\n",
       "      <th>User</th>\n",
       "      <th>Number_Samples</th>\n",
       "    </tr>\n",
       "  </thead>\n",
       "  <tbody>\n",
       "    <tr>\n",
       "      <th>0</th>\n",
       "      <td>165901</td>\n",
       "      <td>2023-05-17</td>\n",
       "      <td>Justin Zik</td>\n",
       "      <td>2</td>\n",
       "    </tr>\n",
       "    <tr>\n",
       "      <th>1</th>\n",
       "      <td>165972</td>\n",
       "      <td>2023-05-18</td>\n",
       "      <td>Clement Ng</td>\n",
       "      <td>12</td>\n",
       "    </tr>\n",
       "    <tr>\n",
       "      <th>2</th>\n",
       "      <td>166008</td>\n",
       "      <td>2023-05-18</td>\n",
       "      <td>Wanzhen</td>\n",
       "      <td>20</td>\n",
       "    </tr>\n",
       "    <tr>\n",
       "      <th>3</th>\n",
       "      <td>166078</td>\n",
       "      <td>2023-05-19</td>\n",
       "      <td>Clement Ng</td>\n",
       "      <td>12</td>\n",
       "    </tr>\n",
       "    <tr>\n",
       "      <th>4</th>\n",
       "      <td>166119</td>\n",
       "      <td>2023-05-22</td>\n",
       "      <td>Clement Ng</td>\n",
       "      <td>4</td>\n",
       "    </tr>\n",
       "  </tbody>\n",
       "</table>\n",
       "</div>"
      ],
      "text/plain": [
       "   Order_ID  Order_Date        User  Number_Samples\n",
       "0    165901  2023-05-17  Justin Zik               2\n",
       "1    165972  2023-05-18  Clement Ng              12\n",
       "2    166008  2023-05-18     Wanzhen              20\n",
       "3    166078  2023-05-19  Clement Ng              12\n",
       "4    166119  2023-05-22  Clement Ng               4"
      ]
     },
     "metadata": {},
     "output_type": "display_data"
    },
    {
     "data": {
      "text/html": [
       "<div>\n",
       "<style scoped>\n",
       "    .dataframe tbody tr th:only-of-type {\n",
       "        vertical-align: middle;\n",
       "    }\n",
       "\n",
       "    .dataframe tbody tr th {\n",
       "        vertical-align: top;\n",
       "    }\n",
       "\n",
       "    .dataframe thead th {\n",
       "        text-align: right;\n",
       "    }\n",
       "</style>\n",
       "<table border=\"1\" class=\"dataframe\">\n",
       "  <thead>\n",
       "    <tr style=\"text-align: right;\">\n",
       "      <th></th>\n",
       "      <th>Order_ID</th>\n",
       "      <th>Order_Date</th>\n",
       "      <th>User</th>\n",
       "      <th>Number_Samples</th>\n",
       "    </tr>\n",
       "  </thead>\n",
       "  <tbody>\n",
       "    <tr>\n",
       "      <th>0</th>\n",
       "      <td>190508FN-095</td>\n",
       "      <td>2019-05-08</td>\n",
       "      <td>NaN</td>\n",
       "      <td>18</td>\n",
       "    </tr>\n",
       "    <tr>\n",
       "      <th>1</th>\n",
       "      <td>190509FN-067</td>\n",
       "      <td>2019-05-09</td>\n",
       "      <td>NaN</td>\n",
       "      <td>4</td>\n",
       "    </tr>\n",
       "    <tr>\n",
       "      <th>2</th>\n",
       "      <td>190508FN-082</td>\n",
       "      <td>2019-05-08</td>\n",
       "      <td>NaN</td>\n",
       "      <td>4</td>\n",
       "    </tr>\n",
       "    <tr>\n",
       "      <th>3</th>\n",
       "      <td>190513FN-027</td>\n",
       "      <td>2019-05-13</td>\n",
       "      <td>NaN</td>\n",
       "      <td>8</td>\n",
       "    </tr>\n",
       "    <tr>\n",
       "      <th>4</th>\n",
       "      <td>190513FN-043</td>\n",
       "      <td>2019-05-13</td>\n",
       "      <td>NaN</td>\n",
       "      <td>24</td>\n",
       "    </tr>\n",
       "  </tbody>\n",
       "</table>\n",
       "</div>"
      ],
      "text/plain": [
       "       Order_ID  Order_Date User  Number_Samples\n",
       "0  190508FN-095  2019-05-08  NaN              18\n",
       "1  190509FN-067  2019-05-09  NaN               4\n",
       "2  190508FN-082  2019-05-08  NaN               4\n",
       "3  190513FN-027  2019-05-13  NaN               8\n",
       "4  190513FN-043  2019-05-13  NaN              24"
      ]
     },
     "metadata": {},
     "output_type": "display_data"
    }
   ],
   "source": [
    "# load the dataset\n",
    "macrogen_record = pd.read_excel('../data/macrogen_invoice.xlsx')\n",
    "biobasic_record = pd.read_excel('../data/biobasic_invoice.xlsx')\n",
    "all_records = pd.read_csv('../data/all_records.csv')\n",
    "\n",
    "display(macrogen_record.head())\n",
    "display(biobasic_record.head())\n",
    "display(all_records.head())"
   ]
  },
  {
   "cell_type": "code",
   "execution_count": 3,
   "id": "aff844b6-5b26-44db-81fd-9b51d193087e",
   "metadata": {},
   "outputs": [
    {
     "name": "stdout",
     "output_type": "stream",
     "text": [
      "<class 'pandas.core.frame.DataFrame'>\n",
      "RangeIndex: 1799 entries, 0 to 1798\n",
      "Data columns (total 4 columns):\n",
      " #   Column          Non-Null Count  Dtype \n",
      "---  ------          --------------  ----- \n",
      " 0   Order_ID        1799 non-null   object\n",
      " 1   Order_Date      1799 non-null   object\n",
      " 2   User            1382 non-null   object\n",
      " 3   Number_Samples  1799 non-null   int64 \n",
      "dtypes: int64(1), object(3)\n",
      "memory usage: 56.3+ KB\n"
     ]
    }
   ],
   "source": [
    "all_records.info()"
   ]
  },
  {
   "cell_type": "code",
   "execution_count": 4,
   "id": "10b1536d-5b41-4c89-b9cd-41c29cff2942",
   "metadata": {},
   "outputs": [],
   "source": [
    "# convert the column 'Order_Date' into datetime data type\n",
    "biobasic_record['Order_Date'] = pd.to_datetime(biobasic_record['Order_Date'], format='%Y-%m-%d')\n",
    "\n",
    "# extract/create 3 new columns --- year, month and day\n",
    "biobasic_record['Year'] = biobasic_record['Order_Date'].dt.year\n",
    "biobasic_record['Month'] = biobasic_record['Order_Date'].dt.month\n",
    "biobasic_record['Day'] = biobasic_record['Order_Date'].dt.day"
   ]
  },
  {
   "cell_type": "code",
   "execution_count": 5,
   "id": "fbbe6974-d994-4420-99fe-992b226326e6",
   "metadata": {},
   "outputs": [],
   "source": [
    "# convert the column 'Order_Date' into datetime data type\n",
    "macrogen_record['Order_Date'] = pd.to_datetime(macrogen_record['Order_Date'], format='%Y-%m-%d')\n",
    "\n",
    "# extract/create 3 new columns --- year, month and day\n",
    "macrogen_record['Year'] = macrogen_record['Order_Date'].dt.year\n",
    "macrogen_record['Month'] = macrogen_record['Order_Date'].dt.month\n",
    "macrogen_record['Day'] = macrogen_record['Order_Date'].dt.day"
   ]
  },
  {
   "cell_type": "code",
   "execution_count": 50,
   "id": "65cea6c3-2f51-44c8-86bc-4d73d8fbb279",
   "metadata": {},
   "outputs": [],
   "source": [
    "# convert the column 'Order_Date' into datetime data type\n",
    "all_records['Order_Date'] = pd.to_datetime(all_records['Order_Date'], format='%Y-%m-%d')\n",
    "\n",
    "# extract/create 3 new columns --- year, month and day\n",
    "all_records['Year'] = all_records['Order_Date'].dt.year\n",
    "all_records['Month'] = all_records['Order_Date'].dt.month\n",
    "all_records['Day'] = all_records['Order_Date'].dt.day"
   ]
  },
  {
   "cell_type": "code",
   "execution_count": 7,
   "id": "084d3d45-1a20-4cf1-83a1-8d26fb58cd93",
   "metadata": {},
   "outputs": [],
   "source": [
    "# function to preprocess the data for plotting heatmap\n",
    "def preprocess_heatmap(data):\n",
    "    import pandas as pd\n",
    "    daily_total = data.groupby(['Year','Month','Day'])['Number_Samples'].sum().reset_index()\n",
    "    \n",
    "    years = daily_total['Year'].unique()\n",
    "    months = daily_total['Month'].unique()\n",
    "    days = np.arange(1,32)\n",
    "\n",
    "    index = pd.MultiIndex.from_product([years, months, days], names = ['Year','Month', 'Day'])\n",
    "\n",
    "    daily_total = daily_total.set_index(['Year','Month', 'Day']).reindex(index, fill_value=0).reset_index()\n",
    "    return daily_total"
   ]
  },
  {
   "cell_type": "code",
   "execution_count": 8,
   "id": "03a4d432-3202-45f4-b889-ac0959bf92e2",
   "metadata": {},
   "outputs": [],
   "source": [
    "# function to plot heatmap\n",
    "def plot_heatmap(data, year):\n",
    "    import pandas as pd\n",
    "    import plotly.graph_objects as go\n",
    "    \n",
    "    selected_data = data[data['Year'] == year]\n",
    "    pivot = selected_data.pivot('Month', 'Day', 'Number_Samples').fillna(0)\n",
    "\n",
    "    # create the heatmap using Plotly Graph Objects\n",
    "    fig = go.Figure(data=go.Heatmap(\n",
    "        z=pivot.values,\n",
    "        x=pivot.columns,\n",
    "        y=pivot.index,\n",
    "        colorscale='sunset_r',\n",
    "        colorbar=dict(title='Number of Samples Sequenced'),\n",
    "        hovertemplate='Month: %{y}<br>Day: %{x}<br>Number of Samples Sequenced: %{customdata}<extra></extra>',\n",
    "        customdata=pivot.values\n",
    "    ))\n",
    "\n",
    "    # add border lines by drawing rectangles around each cell\n",
    "    shapes = []\n",
    "    for i, row in enumerate(pivot.index):\n",
    "        for j, col in enumerate(pivot.columns):\n",
    "            shapes.append(\n",
    "                go.layout.Shape(\n",
    "                    type=\"rect\",\n",
    "                    x0=col - 0.5, x1=col + 0.5,\n",
    "                    y0=row - 0.5, y1=row + 0.5,\n",
    "                    line=dict(color='grey', width=1)\n",
    "                )\n",
    "            )\n",
    "\n",
    "    fig.update_layout(\n",
    "        title=f'Number of Samples Sequenced in {year}',\n",
    "        xaxis_title='Day',\n",
    "        yaxis_title='Month',\n",
    "        xaxis=dict(\n",
    "            tickmode='array',\n",
    "            tickvals=list(range(1, 32)),\n",
    "        ),\n",
    "        yaxis=dict(\n",
    "            tickmode='array',\n",
    "            tickvals=pivot.index.tolist(),\n",
    "            ticktext=['Jan', 'Feb', 'Mar', 'Apr', 'May', 'Jun', 'Jul', 'Aug', 'Sep', 'Oct', 'Nov', 'Dec']\n",
    "        ),\n",
    "        shapes=shapes,\n",
    "        height=500,\n",
    "        width=1200,\n",
    "        template='plotly_dark'\n",
    "    )\n",
    "\n",
    "    fig.show()"
   ]
  },
  {
   "cell_type": "code",
   "execution_count": 9,
   "id": "c80dfac1-809d-4163-a046-0e65c05175fc",
   "metadata": {},
   "outputs": [],
   "source": [
    "# function to plot bubble chart\n",
    "def plot_bubble(data, year):\n",
    "    import plotly.express as px\n",
    "    import pandas as pd\n",
    "    \n",
    "    # remove the negative value in the data\n",
    "    df = data[data['Number_Samples'] > 0]\n",
    "\n",
    "    # aggregate the data by summing the 'Value' for each 'Vendor' and 'Category' combination\n",
    "    aggregated_data = df.query(f'Year == {year}').groupby(['Month', 'User']).agg({'Number_Samples': 'sum'}).reset_index()\n",
    "\n",
    "    # create the bubble chart using the aggregated data\n",
    "    fig = px.scatter(\n",
    "        aggregated_data, \n",
    "        x='Month', \n",
    "        y='Number_Samples', \n",
    "        size='Number_Samples',  # column to determine the size of the bubbles\n",
    "        color='User', \n",
    "        size_max=60, \n",
    "        height=1000,\n",
    "        width=1200,\n",
    "    )\n",
    "\n",
    "    fig.update_layout(template='plotly_dark')\n",
    "    fig.show()"
   ]
  },
  {
   "cell_type": "code",
   "execution_count": 66,
   "id": "2e4d574a-e583-4c2b-8e98-916f3ee1229d",
   "metadata": {},
   "outputs": [],
   "source": [
    "# function to plot bar chart\n",
    "def plot_bar(data, year):\n",
    "    import plotly.graph_objects as go\n",
    "    import pandas as pd\n",
    "\n",
    "    # list of all months\n",
    "    all_months = ['Jan', 'Feb', 'Mar', 'Apr', 'May', 'Jun', 'Jul', 'Aug', 'Sep', 'Oct', 'Nov', 'Dec']\n",
    "    month_numbers = list(range(1, 13))  # Corresponding month numbers 1 to 12\n",
    "\n",
    "    # create a DataFrame to ensure all months are included\n",
    "    full_months_df = pd.DataFrame({\n",
    "        'Month': month_numbers,\n",
    "        'Month_Name': all_months\n",
    "    })\n",
    "\n",
    "    # filter data for the selected year\n",
    "    selected_data = data[data['Year'] == year]\n",
    "\n",
    "    # group by month and sum the number of samples\n",
    "    monthly_usage = selected_data.groupby('Month')['Number_Samples'].sum().reset_index()\n",
    "\n",
    "    # Merge to ensure all months are included\n",
    "    df = pd.merge(full_months_df, monthly_usage, on='Month', how='left').fillna(0)\n",
    "\n",
    "    # Create the bar plot with a specified color\n",
    "    fig = go.Figure(data=[go.Bar(x=df['Month_Name'], y=df['Number_Samples'], marker_color='#AA336A')])\n",
    "\n",
    "    # Update layout\n",
    "    fig.update_layout(\n",
    "        xaxis_title='Month',\n",
    "        yaxis_title='Number of Reactions',\n",
    "        height=800,\n",
    "        xaxis=dict(\n",
    "            tickmode='array',\n",
    "            tickvals=all_months,\n",
    "            ticktext=all_months\n",
    "        ),\n",
    "        template='plotly_dark'\n",
    "    )\n",
    "\n",
    "    # Show plot\n",
    "    fig.show()\n"
   ]
  },
  {
   "cell_type": "code",
   "execution_count": 35,
   "id": "0538bef7-c16d-426d-bd17-ec4725ab4e6b",
   "metadata": {},
   "outputs": [
    {
     "data": {
      "application/vnd.plotly.v1+json": {
       "config": {
        "plotlyServerURL": "https://plot.ly"
       },
       "data": [
        {
         "hovertemplate": "User=Clement Ng<br>Month=%{x}<br>Number_Samples=%{marker.size}<extra></extra>",
         "legendgroup": "Clement Ng",
         "marker": {
          "color": "#636efa",
          "size": [
           6,
           44,
           316,
           21,
           77,
           98,
           102,
           108,
           36,
           100,
           72
          ],
          "sizemode": "area",
          "sizeref": 0.08777777777777777,
          "symbol": "circle"
         },
         "mode": "markers",
         "name": "Clement Ng",
         "orientation": "v",
         "showlegend": true,
         "type": "scatter",
         "x": [
          1,
          2,
          3,
          4,
          5,
          6,
          8,
          9,
          10,
          11,
          12
         ],
         "xaxis": "x",
         "y": [
          6,
          44,
          316,
          21,
          77,
          98,
          102,
          108,
          36,
          100,
          72
         ],
         "yaxis": "y"
        },
        {
         "hovertemplate": "User=Jade Chun Ye Yu<br>Month=%{x}<br>Number_Samples=%{marker.size}<extra></extra>",
         "legendgroup": "Jade Chun Ye Yu",
         "marker": {
          "color": "#EF553B",
          "size": [
           8,
           18,
           8,
           8
          ],
          "sizemode": "area",
          "sizeref": 0.08777777777777777,
          "symbol": "circle"
         },
         "mode": "markers",
         "name": "Jade Chun Ye Yu",
         "orientation": "v",
         "showlegend": true,
         "type": "scatter",
         "x": [
          1,
          8,
          10,
          11
         ],
         "xaxis": "x",
         "y": [
          8,
          18,
          8,
          8
         ],
         "yaxis": "y"
        },
        {
         "hovertemplate": "User=Justin Zik<br>Month=%{x}<br>Number_Samples=%{marker.size}<extra></extra>",
         "legendgroup": "Justin Zik",
         "marker": {
          "color": "#00cc96",
          "size": [
           102,
           68,
           183,
           60,
           26,
           8,
           66,
           137,
           52,
           113,
           74,
           46
          ],
          "sizemode": "area",
          "sizeref": 0.08777777777777777,
          "symbol": "circle"
         },
         "mode": "markers",
         "name": "Justin Zik",
         "orientation": "v",
         "showlegend": true,
         "type": "scatter",
         "x": [
          1,
          2,
          3,
          4,
          5,
          6,
          7,
          8,
          9,
          10,
          11,
          12
         ],
         "xaxis": "x",
         "y": [
          102,
          68,
          183,
          60,
          26,
          8,
          66,
          137,
          52,
          113,
          74,
          46
         ],
         "yaxis": "y"
        },
        {
         "hovertemplate": "User=Liu Yao<br>Month=%{x}<br>Number_Samples=%{marker.size}<extra></extra>",
         "legendgroup": "Liu Yao",
         "marker": {
          "color": "#ab63fa",
          "size": [
           92,
           57,
           4
          ],
          "sizemode": "area",
          "sizeref": 0.08777777777777777,
          "symbol": "circle"
         },
         "mode": "markers",
         "name": "Liu Yao",
         "orientation": "v",
         "showlegend": true,
         "type": "scatter",
         "x": [
          1,
          2,
          3
         ],
         "xaxis": "x",
         "y": [
          92,
          57,
          4
         ],
         "yaxis": "y"
        },
        {
         "hovertemplate": "User=Rachel<br>Month=%{x}<br>Number_Samples=%{marker.size}<extra></extra>",
         "legendgroup": "Rachel",
         "marker": {
          "color": "#FFA15A",
          "size": [
           48,
           32,
           28,
           22
          ],
          "sizemode": "area",
          "sizeref": 0.08777777777777777,
          "symbol": "circle"
         },
         "mode": "markers",
         "name": "Rachel",
         "orientation": "v",
         "showlegend": true,
         "type": "scatter",
         "x": [
          1,
          2,
          3,
          4
         ],
         "xaxis": "x",
         "y": [
          48,
          32,
          28,
          22
         ],
         "yaxis": "y"
        },
        {
         "hovertemplate": "User=Su Tong<br>Month=%{x}<br>Number_Samples=%{marker.size}<extra></extra>",
         "legendgroup": "Su Tong",
         "marker": {
          "color": "#19d3f3",
          "size": [
           28,
           6,
           14,
           21,
           256,
           24,
           40,
           86,
           114,
           36,
           52,
           57
          ],
          "sizemode": "area",
          "sizeref": 0.08777777777777777,
          "symbol": "circle"
         },
         "mode": "markers",
         "name": "Su Tong",
         "orientation": "v",
         "showlegend": true,
         "type": "scatter",
         "x": [
          1,
          2,
          3,
          4,
          5,
          6,
          7,
          8,
          9,
          10,
          11,
          12
         ],
         "xaxis": "x",
         "y": [
          28,
          6,
          14,
          21,
          256,
          24,
          40,
          86,
          114,
          36,
          52,
          57
         ],
         "yaxis": "y"
        },
        {
         "hovertemplate": "User=Wanzhen<br>Month=%{x}<br>Number_Samples=%{marker.size}<extra></extra>",
         "legendgroup": "Wanzhen",
         "marker": {
          "color": "#FF6692",
          "size": [
           43,
           8,
           38,
           38,
           108,
           58,
           54,
           94,
           70,
           48,
           103,
           27
          ],
          "sizemode": "area",
          "sizeref": 0.08777777777777777,
          "symbol": "circle"
         },
         "mode": "markers",
         "name": "Wanzhen",
         "orientation": "v",
         "showlegend": true,
         "type": "scatter",
         "x": [
          1,
          2,
          3,
          4,
          5,
          6,
          7,
          8,
          9,
          10,
          11,
          12
         ],
         "xaxis": "x",
         "y": [
          43,
          8,
          38,
          38,
          108,
          58,
          54,
          94,
          70,
          48,
          103,
          27
         ],
         "yaxis": "y"
        },
        {
         "hovertemplate": "User=Rei<br>Month=%{x}<br>Number_Samples=%{marker.size}<extra></extra>",
         "legendgroup": "Rei",
         "marker": {
          "color": "#B6E880",
          "size": [
           70,
           6,
           20,
           34,
           36
          ],
          "sizemode": "area",
          "sizeref": 0.08777777777777777,
          "symbol": "circle"
         },
         "mode": "markers",
         "name": "Rei",
         "orientation": "v",
         "showlegend": true,
         "type": "scatter",
         "x": [
          3,
          4,
          10,
          11,
          12
         ],
         "xaxis": "x",
         "y": [
          70,
          6,
          20,
          34,
          36
         ],
         "yaxis": "y"
        },
        {
         "hovertemplate": "User=Dylan Alexander<br>Month=%{x}<br>Number_Samples=%{marker.size}<extra></extra>",
         "legendgroup": "Dylan Alexander",
         "marker": {
          "color": "#FF97FF",
          "size": [
           12,
           8,
           20,
           8,
           52,
           47,
           37
          ],
          "sizemode": "area",
          "sizeref": 0.08777777777777777,
          "symbol": "circle"
         },
         "mode": "markers",
         "name": "Dylan Alexander",
         "orientation": "v",
         "showlegend": true,
         "type": "scatter",
         "x": [
          5,
          6,
          7,
          8,
          10,
          11,
          12
         ],
         "xaxis": "x",
         "y": [
          12,
          8,
          20,
          8,
          52,
          47,
          37
         ],
         "yaxis": "y"
        },
        {
         "hovertemplate": "User=Sharifah<br>Month=%{x}<br>Number_Samples=%{marker.size}<extra></extra>",
         "legendgroup": "Sharifah",
         "marker": {
          "color": "#FECB52",
          "size": [
           36,
           30,
           141,
           80,
           57
          ],
          "sizemode": "area",
          "sizeref": 0.08777777777777777,
          "symbol": "circle"
         },
         "mode": "markers",
         "name": "Sharifah",
         "orientation": "v",
         "showlegend": true,
         "type": "scatter",
         "x": [
          6,
          7,
          8,
          9,
          10
         ],
         "xaxis": "x",
         "y": [
          36,
          30,
          141,
          80,
          57
         ],
         "yaxis": "y"
        },
        {
         "hovertemplate": "User=Elaine Sng<br>Month=%{x}<br>Number_Samples=%{marker.size}<extra></extra>",
         "legendgroup": "Elaine Sng",
         "marker": {
          "color": "#636efa",
          "size": [
           20,
           38,
           18
          ],
          "sizemode": "area",
          "sizeref": 0.08777777777777777,
          "symbol": "circle"
         },
         "mode": "markers",
         "name": "Elaine Sng",
         "orientation": "v",
         "showlegend": true,
         "type": "scatter",
         "x": [
          7,
          8,
          9
         ],
         "xaxis": "x",
         "y": [
          20,
          38,
          18
         ],
         "yaxis": "y"
        },
        {
         "hovertemplate": "User=Si Yin<br>Month=%{x}<br>Number_Samples=%{marker.size}<extra></extra>",
         "legendgroup": "Si Yin",
         "marker": {
          "color": "#EF553B",
          "size": [
           4,
           8,
           20,
           48,
           32,
           48
          ],
          "sizemode": "area",
          "sizeref": 0.08777777777777777,
          "symbol": "circle"
         },
         "mode": "markers",
         "name": "Si Yin",
         "orientation": "v",
         "showlegend": true,
         "type": "scatter",
         "x": [
          7,
          8,
          9,
          10,
          11,
          12
         ],
         "xaxis": "x",
         "y": [
          4,
          8,
          20,
          48,
          32,
          48
         ],
         "yaxis": "y"
        }
       ],
       "layout": {
        "height": 1000,
        "legend": {
         "itemsizing": "constant",
         "title": {
          "text": "User"
         },
         "tracegroupgap": 0
        },
        "margin": {
         "t": 60
        },
        "template": {
         "data": {
          "bar": [
           {
            "error_x": {
             "color": "#f2f5fa"
            },
            "error_y": {
             "color": "#f2f5fa"
            },
            "marker": {
             "line": {
              "color": "rgb(17,17,17)",
              "width": 0.5
             },
             "pattern": {
              "fillmode": "overlay",
              "size": 10,
              "solidity": 0.2
             }
            },
            "type": "bar"
           }
          ],
          "barpolar": [
           {
            "marker": {
             "line": {
              "color": "rgb(17,17,17)",
              "width": 0.5
             },
             "pattern": {
              "fillmode": "overlay",
              "size": 10,
              "solidity": 0.2
             }
            },
            "type": "barpolar"
           }
          ],
          "carpet": [
           {
            "aaxis": {
             "endlinecolor": "#A2B1C6",
             "gridcolor": "#506784",
             "linecolor": "#506784",
             "minorgridcolor": "#506784",
             "startlinecolor": "#A2B1C6"
            },
            "baxis": {
             "endlinecolor": "#A2B1C6",
             "gridcolor": "#506784",
             "linecolor": "#506784",
             "minorgridcolor": "#506784",
             "startlinecolor": "#A2B1C6"
            },
            "type": "carpet"
           }
          ],
          "choropleth": [
           {
            "colorbar": {
             "outlinewidth": 0,
             "ticks": ""
            },
            "type": "choropleth"
           }
          ],
          "contour": [
           {
            "colorbar": {
             "outlinewidth": 0,
             "ticks": ""
            },
            "colorscale": [
             [
              0,
              "#0d0887"
             ],
             [
              0.1111111111111111,
              "#46039f"
             ],
             [
              0.2222222222222222,
              "#7201a8"
             ],
             [
              0.3333333333333333,
              "#9c179e"
             ],
             [
              0.4444444444444444,
              "#bd3786"
             ],
             [
              0.5555555555555556,
              "#d8576b"
             ],
             [
              0.6666666666666666,
              "#ed7953"
             ],
             [
              0.7777777777777778,
              "#fb9f3a"
             ],
             [
              0.8888888888888888,
              "#fdca26"
             ],
             [
              1,
              "#f0f921"
             ]
            ],
            "type": "contour"
           }
          ],
          "contourcarpet": [
           {
            "colorbar": {
             "outlinewidth": 0,
             "ticks": ""
            },
            "type": "contourcarpet"
           }
          ],
          "heatmap": [
           {
            "colorbar": {
             "outlinewidth": 0,
             "ticks": ""
            },
            "colorscale": [
             [
              0,
              "#0d0887"
             ],
             [
              0.1111111111111111,
              "#46039f"
             ],
             [
              0.2222222222222222,
              "#7201a8"
             ],
             [
              0.3333333333333333,
              "#9c179e"
             ],
             [
              0.4444444444444444,
              "#bd3786"
             ],
             [
              0.5555555555555556,
              "#d8576b"
             ],
             [
              0.6666666666666666,
              "#ed7953"
             ],
             [
              0.7777777777777778,
              "#fb9f3a"
             ],
             [
              0.8888888888888888,
              "#fdca26"
             ],
             [
              1,
              "#f0f921"
             ]
            ],
            "type": "heatmap"
           }
          ],
          "heatmapgl": [
           {
            "colorbar": {
             "outlinewidth": 0,
             "ticks": ""
            },
            "colorscale": [
             [
              0,
              "#0d0887"
             ],
             [
              0.1111111111111111,
              "#46039f"
             ],
             [
              0.2222222222222222,
              "#7201a8"
             ],
             [
              0.3333333333333333,
              "#9c179e"
             ],
             [
              0.4444444444444444,
              "#bd3786"
             ],
             [
              0.5555555555555556,
              "#d8576b"
             ],
             [
              0.6666666666666666,
              "#ed7953"
             ],
             [
              0.7777777777777778,
              "#fb9f3a"
             ],
             [
              0.8888888888888888,
              "#fdca26"
             ],
             [
              1,
              "#f0f921"
             ]
            ],
            "type": "heatmapgl"
           }
          ],
          "histogram": [
           {
            "marker": {
             "pattern": {
              "fillmode": "overlay",
              "size": 10,
              "solidity": 0.2
             }
            },
            "type": "histogram"
           }
          ],
          "histogram2d": [
           {
            "colorbar": {
             "outlinewidth": 0,
             "ticks": ""
            },
            "colorscale": [
             [
              0,
              "#0d0887"
             ],
             [
              0.1111111111111111,
              "#46039f"
             ],
             [
              0.2222222222222222,
              "#7201a8"
             ],
             [
              0.3333333333333333,
              "#9c179e"
             ],
             [
              0.4444444444444444,
              "#bd3786"
             ],
             [
              0.5555555555555556,
              "#d8576b"
             ],
             [
              0.6666666666666666,
              "#ed7953"
             ],
             [
              0.7777777777777778,
              "#fb9f3a"
             ],
             [
              0.8888888888888888,
              "#fdca26"
             ],
             [
              1,
              "#f0f921"
             ]
            ],
            "type": "histogram2d"
           }
          ],
          "histogram2dcontour": [
           {
            "colorbar": {
             "outlinewidth": 0,
             "ticks": ""
            },
            "colorscale": [
             [
              0,
              "#0d0887"
             ],
             [
              0.1111111111111111,
              "#46039f"
             ],
             [
              0.2222222222222222,
              "#7201a8"
             ],
             [
              0.3333333333333333,
              "#9c179e"
             ],
             [
              0.4444444444444444,
              "#bd3786"
             ],
             [
              0.5555555555555556,
              "#d8576b"
             ],
             [
              0.6666666666666666,
              "#ed7953"
             ],
             [
              0.7777777777777778,
              "#fb9f3a"
             ],
             [
              0.8888888888888888,
              "#fdca26"
             ],
             [
              1,
              "#f0f921"
             ]
            ],
            "type": "histogram2dcontour"
           }
          ],
          "mesh3d": [
           {
            "colorbar": {
             "outlinewidth": 0,
             "ticks": ""
            },
            "type": "mesh3d"
           }
          ],
          "parcoords": [
           {
            "line": {
             "colorbar": {
              "outlinewidth": 0,
              "ticks": ""
             }
            },
            "type": "parcoords"
           }
          ],
          "pie": [
           {
            "automargin": true,
            "type": "pie"
           }
          ],
          "scatter": [
           {
            "marker": {
             "line": {
              "color": "#283442"
             }
            },
            "type": "scatter"
           }
          ],
          "scatter3d": [
           {
            "line": {
             "colorbar": {
              "outlinewidth": 0,
              "ticks": ""
             }
            },
            "marker": {
             "colorbar": {
              "outlinewidth": 0,
              "ticks": ""
             }
            },
            "type": "scatter3d"
           }
          ],
          "scattercarpet": [
           {
            "marker": {
             "colorbar": {
              "outlinewidth": 0,
              "ticks": ""
             }
            },
            "type": "scattercarpet"
           }
          ],
          "scattergeo": [
           {
            "marker": {
             "colorbar": {
              "outlinewidth": 0,
              "ticks": ""
             }
            },
            "type": "scattergeo"
           }
          ],
          "scattergl": [
           {
            "marker": {
             "line": {
              "color": "#283442"
             }
            },
            "type": "scattergl"
           }
          ],
          "scattermapbox": [
           {
            "marker": {
             "colorbar": {
              "outlinewidth": 0,
              "ticks": ""
             }
            },
            "type": "scattermapbox"
           }
          ],
          "scatterpolar": [
           {
            "marker": {
             "colorbar": {
              "outlinewidth": 0,
              "ticks": ""
             }
            },
            "type": "scatterpolar"
           }
          ],
          "scatterpolargl": [
           {
            "marker": {
             "colorbar": {
              "outlinewidth": 0,
              "ticks": ""
             }
            },
            "type": "scatterpolargl"
           }
          ],
          "scatterternary": [
           {
            "marker": {
             "colorbar": {
              "outlinewidth": 0,
              "ticks": ""
             }
            },
            "type": "scatterternary"
           }
          ],
          "surface": [
           {
            "colorbar": {
             "outlinewidth": 0,
             "ticks": ""
            },
            "colorscale": [
             [
              0,
              "#0d0887"
             ],
             [
              0.1111111111111111,
              "#46039f"
             ],
             [
              0.2222222222222222,
              "#7201a8"
             ],
             [
              0.3333333333333333,
              "#9c179e"
             ],
             [
              0.4444444444444444,
              "#bd3786"
             ],
             [
              0.5555555555555556,
              "#d8576b"
             ],
             [
              0.6666666666666666,
              "#ed7953"
             ],
             [
              0.7777777777777778,
              "#fb9f3a"
             ],
             [
              0.8888888888888888,
              "#fdca26"
             ],
             [
              1,
              "#f0f921"
             ]
            ],
            "type": "surface"
           }
          ],
          "table": [
           {
            "cells": {
             "fill": {
              "color": "#506784"
             },
             "line": {
              "color": "rgb(17,17,17)"
             }
            },
            "header": {
             "fill": {
              "color": "#2a3f5f"
             },
             "line": {
              "color": "rgb(17,17,17)"
             }
            },
            "type": "table"
           }
          ]
         },
         "layout": {
          "annotationdefaults": {
           "arrowcolor": "#f2f5fa",
           "arrowhead": 0,
           "arrowwidth": 1
          },
          "autotypenumbers": "strict",
          "coloraxis": {
           "colorbar": {
            "outlinewidth": 0,
            "ticks": ""
           }
          },
          "colorscale": {
           "diverging": [
            [
             0,
             "#8e0152"
            ],
            [
             0.1,
             "#c51b7d"
            ],
            [
             0.2,
             "#de77ae"
            ],
            [
             0.3,
             "#f1b6da"
            ],
            [
             0.4,
             "#fde0ef"
            ],
            [
             0.5,
             "#f7f7f7"
            ],
            [
             0.6,
             "#e6f5d0"
            ],
            [
             0.7,
             "#b8e186"
            ],
            [
             0.8,
             "#7fbc41"
            ],
            [
             0.9,
             "#4d9221"
            ],
            [
             1,
             "#276419"
            ]
           ],
           "sequential": [
            [
             0,
             "#0d0887"
            ],
            [
             0.1111111111111111,
             "#46039f"
            ],
            [
             0.2222222222222222,
             "#7201a8"
            ],
            [
             0.3333333333333333,
             "#9c179e"
            ],
            [
             0.4444444444444444,
             "#bd3786"
            ],
            [
             0.5555555555555556,
             "#d8576b"
            ],
            [
             0.6666666666666666,
             "#ed7953"
            ],
            [
             0.7777777777777778,
             "#fb9f3a"
            ],
            [
             0.8888888888888888,
             "#fdca26"
            ],
            [
             1,
             "#f0f921"
            ]
           ],
           "sequentialminus": [
            [
             0,
             "#0d0887"
            ],
            [
             0.1111111111111111,
             "#46039f"
            ],
            [
             0.2222222222222222,
             "#7201a8"
            ],
            [
             0.3333333333333333,
             "#9c179e"
            ],
            [
             0.4444444444444444,
             "#bd3786"
            ],
            [
             0.5555555555555556,
             "#d8576b"
            ],
            [
             0.6666666666666666,
             "#ed7953"
            ],
            [
             0.7777777777777778,
             "#fb9f3a"
            ],
            [
             0.8888888888888888,
             "#fdca26"
            ],
            [
             1,
             "#f0f921"
            ]
           ]
          },
          "colorway": [
           "#636efa",
           "#EF553B",
           "#00cc96",
           "#ab63fa",
           "#FFA15A",
           "#19d3f3",
           "#FF6692",
           "#B6E880",
           "#FF97FF",
           "#FECB52"
          ],
          "font": {
           "color": "#f2f5fa"
          },
          "geo": {
           "bgcolor": "rgb(17,17,17)",
           "lakecolor": "rgb(17,17,17)",
           "landcolor": "rgb(17,17,17)",
           "showlakes": true,
           "showland": true,
           "subunitcolor": "#506784"
          },
          "hoverlabel": {
           "align": "left"
          },
          "hovermode": "closest",
          "mapbox": {
           "style": "dark"
          },
          "paper_bgcolor": "rgb(17,17,17)",
          "plot_bgcolor": "rgb(17,17,17)",
          "polar": {
           "angularaxis": {
            "gridcolor": "#506784",
            "linecolor": "#506784",
            "ticks": ""
           },
           "bgcolor": "rgb(17,17,17)",
           "radialaxis": {
            "gridcolor": "#506784",
            "linecolor": "#506784",
            "ticks": ""
           }
          },
          "scene": {
           "xaxis": {
            "backgroundcolor": "rgb(17,17,17)",
            "gridcolor": "#506784",
            "gridwidth": 2,
            "linecolor": "#506784",
            "showbackground": true,
            "ticks": "",
            "zerolinecolor": "#C8D4E3"
           },
           "yaxis": {
            "backgroundcolor": "rgb(17,17,17)",
            "gridcolor": "#506784",
            "gridwidth": 2,
            "linecolor": "#506784",
            "showbackground": true,
            "ticks": "",
            "zerolinecolor": "#C8D4E3"
           },
           "zaxis": {
            "backgroundcolor": "rgb(17,17,17)",
            "gridcolor": "#506784",
            "gridwidth": 2,
            "linecolor": "#506784",
            "showbackground": true,
            "ticks": "",
            "zerolinecolor": "#C8D4E3"
           }
          },
          "shapedefaults": {
           "line": {
            "color": "#f2f5fa"
           }
          },
          "sliderdefaults": {
           "bgcolor": "#C8D4E3",
           "bordercolor": "rgb(17,17,17)",
           "borderwidth": 1,
           "tickwidth": 0
          },
          "ternary": {
           "aaxis": {
            "gridcolor": "#506784",
            "linecolor": "#506784",
            "ticks": ""
           },
           "baxis": {
            "gridcolor": "#506784",
            "linecolor": "#506784",
            "ticks": ""
           },
           "bgcolor": "rgb(17,17,17)",
           "caxis": {
            "gridcolor": "#506784",
            "linecolor": "#506784",
            "ticks": ""
           }
          },
          "title": {
           "x": 0.05
          },
          "updatemenudefaults": {
           "bgcolor": "#506784",
           "borderwidth": 0
          },
          "xaxis": {
           "automargin": true,
           "gridcolor": "#283442",
           "linecolor": "#506784",
           "ticks": "",
           "title": {
            "standoff": 15
           },
           "zerolinecolor": "#283442",
           "zerolinewidth": 2
          },
          "yaxis": {
           "automargin": true,
           "gridcolor": "#283442",
           "linecolor": "#506784",
           "ticks": "",
           "title": {
            "standoff": 15
           },
           "zerolinecolor": "#283442",
           "zerolinewidth": 2
          }
         }
        },
        "width": 1200,
        "xaxis": {
         "anchor": "y",
         "autorange": true,
         "domain": [
          0,
          1
         ],
         "range": [
          -0.020002023582830653,
          12.96070973494191
         ],
         "title": {
          "text": "Month"
         },
         "type": "linear"
        },
        "yaxis": {
         "anchor": "x",
         "autorange": true,
         "domain": [
          0,
          1
         ],
         "range": [
          -16.91023477549258,
          355.12135608984266
         ],
         "title": {
          "text": "Number_Samples"
         },
         "type": "linear"
        }
       }
      },
      "image/png": "[encoded data removed]",
      "text/html": [
       "<div>                            <div id=\"25972b04-474b-4aa3-9951-ab5c843369db\" class=\"plotly-graph-div\" style=\"height:1000px; width:1200px;\"></div>            <script type=\"text/javascript\">                require([\"plotly\"], function(Plotly) {                    window.PLOTLYENV=window.PLOTLYENV || {};                                    if (document.getElementById(\"25972b04-474b-4aa3-9951-ab5c843369db\")) {                    Plotly.newPlot(                        \"25972b04-474b-4aa3-9951-ab5c843369db\",                        [{\"hovertemplate\":\"User=Clement Ng\\u003cbr\\u003eMonth=%{x}\\u003cbr\\u003eNumber_Samples=%{marker.size}\\u003cextra\\u003e\\u003c\\u002fextra\\u003e\",\"legendgroup\":\"Clement Ng\",\"marker\":{\"color\":\"#636efa\",\"size\":[6,44,316,21,77,98,102,108,36,100,72],\"sizemode\":\"area\",\"sizeref\":0.08777777777777777,\"symbol\":\"circle\"},\"mode\":\"markers\",\"name\":\"Clement Ng\",\"orientation\":\"v\",\"showlegend\":true,\"x\":[1,2,3,4,5,6,8,9,10,11,12],\"xaxis\":\"x\",\"y\":[6,44,316,21,77,98,102,108,36,100,72],\"yaxis\":\"y\",\"type\":\"scatter\"},{\"hovertemplate\":\"User=Jade Chun Ye Yu\\u003cbr\\u003eMonth=%{x}\\u003cbr\\u003eNumber_Samples=%{marker.size}\\u003cextra\\u003e\\u003c\\u002fextra\\u003e\",\"legendgroup\":\"Jade Chun Ye Yu\",\"marker\":{\"color\":\"#EF553B\",\"size\":[8,18,8,8],\"sizemode\":\"area\",\"sizeref\":0.08777777777777777,\"symbol\":\"circle\"},\"mode\":\"markers\",\"name\":\"Jade Chun Ye Yu\",\"orientation\":\"v\",\"showlegend\":true,\"x\":[1,8,10,11],\"xaxis\":\"x\",\"y\":[8,18,8,8],\"yaxis\":\"y\",\"type\":\"scatter\"},{\"hovertemplate\":\"User=Justin Zik\\u003cbr\\u003eMonth=%{x}\\u003cbr\\u003eNumber_Samples=%{marker.size}\\u003cextra\\u003e\\u003c\\u002fextra\\u003e\",\"legendgroup\":\"Justin Zik\",\"marker\":{\"color\":\"#00cc96\",\"size\":[102,68,183,60,26,8,66,137,52,113,74,46],\"sizemode\":\"area\",\"sizeref\":0.08777777777777777,\"symbol\":\"circle\"},\"mode\":\"markers\",\"name\":\"Justin Zik\",\"orientation\":\"v\",\"showlegend\":true,\"x\":[1,2,3,4,5,6,7,8,9,10,11,12],\"xaxis\":\"x\",\"y\":[102,68,183,60,26,8,66,137,52,113,74,46],\"yaxis\":\"y\",\"type\":\"scatter\"},{\"hovertemplate\":\"User=Liu Yao\\u003cbr\\u003eMonth=%{x}\\u003cbr\\u003eNumber_Samples=%{marker.size}\\u003cextra\\u003e\\u003c\\u002fextra\\u003e\",\"legendgroup\":\"Liu Yao\",\"marker\":{\"color\":\"#ab63fa\",\"size\":[92,57,4],\"sizemode\":\"area\",\"sizeref\":0.08777777777777777,\"symbol\":\"circle\"},\"mode\":\"markers\",\"name\":\"Liu Yao\",\"orientation\":\"v\",\"showlegend\":true,\"x\":[1,2,3],\"xaxis\":\"x\",\"y\":[92,57,4],\"yaxis\":\"y\",\"type\":\"scatter\"},{\"hovertemplate\":\"User=Rachel\\u003cbr\\u003eMonth=%{x}\\u003cbr\\u003eNumber_Samples=%{marker.size}\\u003cextra\\u003e\\u003c\\u002fextra\\u003e\",\"legendgroup\":\"Rachel\",\"marker\":{\"color\":\"#FFA15A\",\"size\":[48,32,28,22],\"sizemode\":\"area\",\"sizeref\":0.08777777777777777,\"symbol\":\"circle\"},\"mode\":\"markers\",\"name\":\"Rachel\",\"orientation\":\"v\",\"showlegend\":true,\"x\":[1,2,3,4],\"xaxis\":\"x\",\"y\":[48,32,28,22],\"yaxis\":\"y\",\"type\":\"scatter\"},{\"hovertemplate\":\"User=Su Tong\\u003cbr\\u003eMonth=%{x}\\u003cbr\\u003eNumber_Samples=%{marker.size}\\u003cextra\\u003e\\u003c\\u002fextra\\u003e\",\"legendgroup\":\"Su Tong\",\"marker\":{\"color\":\"#19d3f3\",\"size\":[28,6,14,21,256,24,40,86,114,36,52,57],\"sizemode\":\"area\",\"sizeref\":0.08777777777777777,\"symbol\":\"circle\"},\"mode\":\"markers\",\"name\":\"Su Tong\",\"orientation\":\"v\",\"showlegend\":true,\"x\":[1,2,3,4,5,6,7,8,9,10,11,12],\"xaxis\":\"x\",\"y\":[28,6,14,21,256,24,40,86,114,36,52,57],\"yaxis\":\"y\",\"type\":\"scatter\"},{\"hovertemplate\":\"User=Wanzhen\\u003cbr\\u003eMonth=%{x}\\u003cbr\\u003eNumber_Samples=%{marker.size}\\u003cextra\\u003e\\u003c\\u002fextra\\u003e\",\"legendgroup\":\"Wanzhen\",\"marker\":{\"color\":\"#FF6692\",\"size\":[43,8,38,38,108,58,54,94,70,48,103,27],\"sizemode\":\"area\",\"sizeref\":0.08777777777777777,\"symbol\":\"circle\"},\"mode\":\"markers\",\"name\":\"Wanzhen\",\"orientation\":\"v\",\"showlegend\":true,\"x\":[1,2,3,4,5,6,7,8,9,10,11,12],\"xaxis\":\"x\",\"y\":[43,8,38,38,108,58,54,94,70,48,103,27],\"yaxis\":\"y\",\"type\":\"scatter\"},{\"hovertemplate\":\"User=Rei\\u003cbr\\u003eMonth=%{x}\\u003cbr\\u003eNumber_Samples=%{marker.size}\\u003cextra\\u003e\\u003c\\u002fextra\\u003e\",\"legendgroup\":\"Rei\",\"marker\":{\"color\":\"#B6E880\",\"size\":[70,6,20,34,36],\"sizemode\":\"area\",\"sizeref\":0.08777777777777777,\"symbol\":\"circle\"},\"mode\":\"markers\",\"name\":\"Rei\",\"orientation\":\"v\",\"showlegend\":true,\"x\":[3,4,10,11,12],\"xaxis\":\"x\",\"y\":[70,6,20,34,36],\"yaxis\":\"y\",\"type\":\"scatter\"},{\"hovertemplate\":\"User=Dylan Alexander\\u003cbr\\u003eMonth=%{x}\\u003cbr\\u003eNumber_Samples=%{marker.size}\\u003cextra\\u003e\\u003c\\u002fextra\\u003e\",\"legendgroup\":\"Dylan Alexander\",\"marker\":{\"color\":\"#FF97FF\",\"size\":[12,8,20,8,52,47,37],\"sizemode\":\"area\",\"sizeref\":0.08777777777777777,\"symbol\":\"circle\"},\"mode\":\"markers\",\"name\":\"Dylan Alexander\",\"orientation\":\"v\",\"showlegend\":true,\"x\":[5,6,7,8,10,11,12],\"xaxis\":\"x\",\"y\":[12,8,20,8,52,47,37],\"yaxis\":\"y\",\"type\":\"scatter\"},{\"hovertemplate\":\"User=Sharifah\\u003cbr\\u003eMonth=%{x}\\u003cbr\\u003eNumber_Samples=%{marker.size}\\u003cextra\\u003e\\u003c\\u002fextra\\u003e\",\"legendgroup\":\"Sharifah\",\"marker\":{\"color\":\"#FECB52\",\"size\":[36,30,141,80,57],\"sizemode\":\"area\",\"sizeref\":0.08777777777777777,\"symbol\":\"circle\"},\"mode\":\"markers\",\"name\":\"Sharifah\",\"orientation\":\"v\",\"showlegend\":true,\"x\":[6,7,8,9,10],\"xaxis\":\"x\",\"y\":[36,30,141,80,57],\"yaxis\":\"y\",\"type\":\"scatter\"},{\"hovertemplate\":\"User=Elaine Sng\\u003cbr\\u003eMonth=%{x}\\u003cbr\\u003eNumber_Samples=%{marker.size}\\u003cextra\\u003e\\u003c\\u002fextra\\u003e\",\"legendgroup\":\"Elaine Sng\",\"marker\":{\"color\":\"#636efa\",\"size\":[20,38,18],\"sizemode\":\"area\",\"sizeref\":0.08777777777777777,\"symbol\":\"circle\"},\"mode\":\"markers\",\"name\":\"Elaine Sng\",\"orientation\":\"v\",\"showlegend\":true,\"x\":[7,8,9],\"xaxis\":\"x\",\"y\":[20,38,18],\"yaxis\":\"y\",\"type\":\"scatter\"},{\"hovertemplate\":\"User=Si Yin\\u003cbr\\u003eMonth=%{x}\\u003cbr\\u003eNumber_Samples=%{marker.size}\\u003cextra\\u003e\\u003c\\u002fextra\\u003e\",\"legendgroup\":\"Si Yin\",\"marker\":{\"color\":\"#EF553B\",\"size\":[4,8,20,48,32,48],\"sizemode\":\"area\",\"sizeref\":0.08777777777777777,\"symbol\":\"circle\"},\"mode\":\"markers\",\"name\":\"Si Yin\",\"orientation\":\"v\",\"showlegend\":true,\"x\":[7,8,9,10,11,12],\"xaxis\":\"x\",\"y\":[4,8,20,48,32,48],\"yaxis\":\"y\",\"type\":\"scatter\"}],                        {\"template\":{\"data\":{\"barpolar\":[{\"marker\":{\"line\":{\"color\":\"rgb(17,17,17)\",\"width\":0.5},\"pattern\":{\"fillmode\":\"overlay\",\"size\":10,\"solidity\":0.2}},\"type\":\"barpolar\"}],\"bar\":[{\"error_x\":{\"color\":\"#f2f5fa\"},\"error_y\":{\"color\":\"#f2f5fa\"},\"marker\":{\"line\":{\"color\":\"rgb(17,17,17)\",\"width\":0.5},\"pattern\":{\"fillmode\":\"overlay\",\"size\":10,\"solidity\":0.2}},\"type\":\"bar\"}],\"carpet\":[{\"aaxis\":{\"endlinecolor\":\"#A2B1C6\",\"gridcolor\":\"#506784\",\"linecolor\":\"#506784\",\"minorgridcolor\":\"#506784\",\"startlinecolor\":\"#A2B1C6\"},\"baxis\":{\"endlinecolor\":\"#A2B1C6\",\"gridcolor\":\"#506784\",\"linecolor\":\"#506784\",\"minorgridcolor\":\"#506784\",\"startlinecolor\":\"#A2B1C6\"},\"type\":\"carpet\"}],\"choropleth\":[{\"colorbar\":{\"outlinewidth\":0,\"ticks\":\"\"},\"type\":\"choropleth\"}],\"contourcarpet\":[{\"colorbar\":{\"outlinewidth\":0,\"ticks\":\"\"},\"type\":\"contourcarpet\"}],\"contour\":[{\"colorbar\":{\"outlinewidth\":0,\"ticks\":\"\"},\"colorscale\":[[0.0,\"#0d0887\"],[0.1111111111111111,\"#46039f\"],[0.2222222222222222,\"#7201a8\"],[0.3333333333333333,\"#9c179e\"],[0.4444444444444444,\"#bd3786\"],[0.5555555555555556,\"#d8576b\"],[0.6666666666666666,\"#ed7953\"],[0.7777777777777778,\"#fb9f3a\"],[0.8888888888888888,\"#fdca26\"],[1.0,\"#f0f921\"]],\"type\":\"contour\"}],\"heatmapgl\":[{\"colorbar\":{\"outlinewidth\":0,\"ticks\":\"\"},\"colorscale\":[[0.0,\"#0d0887\"],[0.1111111111111111,\"#46039f\"],[0.2222222222222222,\"#7201a8\"],[0.3333333333333333,\"#9c179e\"],[0.4444444444444444,\"#bd3786\"],[0.5555555555555556,\"#d8576b\"],[0.6666666666666666,\"#ed7953\"],[0.7777777777777778,\"#fb9f3a\"],[0.8888888888888888,\"#fdca26\"],[1.0,\"#f0f921\"]],\"type\":\"heatmapgl\"}],\"heatmap\":[{\"colorbar\":{\"outlinewidth\":0,\"ticks\":\"\"},\"colorscale\":[[0.0,\"#0d0887\"],[0.1111111111111111,\"#46039f\"],[0.2222222222222222,\"#7201a8\"],[0.3333333333333333,\"#9c179e\"],[0.4444444444444444,\"#bd3786\"],[0.5555555555555556,\"#d8576b\"],[0.6666666666666666,\"#ed7953\"],[0.7777777777777778,\"#fb9f3a\"],[0.8888888888888888,\"#fdca26\"],[1.0,\"#f0f921\"]],\"type\":\"heatmap\"}],\"histogram2dcontour\":[{\"colorbar\":{\"outlinewidth\":0,\"ticks\":\"\"},\"colorscale\":[[0.0,\"#0d0887\"],[0.1111111111111111,\"#46039f\"],[0.2222222222222222,\"#7201a8\"],[0.3333333333333333,\"#9c179e\"],[0.4444444444444444,\"#bd3786\"],[0.5555555555555556,\"#d8576b\"],[0.6666666666666666,\"#ed7953\"],[0.7777777777777778,\"#fb9f3a\"],[0.8888888888888888,\"#fdca26\"],[1.0,\"#f0f921\"]],\"type\":\"histogram2dcontour\"}],\"histogram2d\":[{\"colorbar\":{\"outlinewidth\":0,\"ticks\":\"\"},\"colorscale\":[[0.0,\"#0d0887\"],[0.1111111111111111,\"#46039f\"],[0.2222222222222222,\"#7201a8\"],[0.3333333333333333,\"#9c179e\"],[0.4444444444444444,\"#bd3786\"],[0.5555555555555556,\"#d8576b\"],[0.6666666666666666,\"#ed7953\"],[0.7777777777777778,\"#fb9f3a\"],[0.8888888888888888,\"#fdca26\"],[1.0,\"#f0f921\"]],\"type\":\"histogram2d\"}],\"histogram\":[{\"marker\":{\"pattern\":{\"fillmode\":\"overlay\",\"size\":10,\"solidity\":0.2}},\"type\":\"histogram\"}],\"mesh3d\":[{\"colorbar\":{\"outlinewidth\":0,\"ticks\":\"\"},\"type\":\"mesh3d\"}],\"parcoords\":[{\"line\":{\"colorbar\":{\"outlinewidth\":0,\"ticks\":\"\"}},\"type\":\"parcoords\"}],\"pie\":[{\"automargin\":true,\"type\":\"pie\"}],\"scatter3d\":[{\"line\":{\"colorbar\":{\"outlinewidth\":0,\"ticks\":\"\"}},\"marker\":{\"colorbar\":{\"outlinewidth\":0,\"ticks\":\"\"}},\"type\":\"scatter3d\"}],\"scattercarpet\":[{\"marker\":{\"colorbar\":{\"outlinewidth\":0,\"ticks\":\"\"}},\"type\":\"scattercarpet\"}],\"scattergeo\":[{\"marker\":{\"colorbar\":{\"outlinewidth\":0,\"ticks\":\"\"}},\"type\":\"scattergeo\"}],\"scattergl\":[{\"marker\":{\"line\":{\"color\":\"#283442\"}},\"type\":\"scattergl\"}],\"scattermapbox\":[{\"marker\":{\"colorbar\":{\"outlinewidth\":0,\"ticks\":\"\"}},\"type\":\"scattermapbox\"}],\"scatterpolargl\":[{\"marker\":{\"colorbar\":{\"outlinewidth\":0,\"ticks\":\"\"}},\"type\":\"scatterpolargl\"}],\"scatterpolar\":[{\"marker\":{\"colorbar\":{\"outlinewidth\":0,\"ticks\":\"\"}},\"type\":\"scatterpolar\"}],\"scatter\":[{\"marker\":{\"line\":{\"color\":\"#283442\"}},\"type\":\"scatter\"}],\"scatterternary\":[{\"marker\":{\"colorbar\":{\"outlinewidth\":0,\"ticks\":\"\"}},\"type\":\"scatterternary\"}],\"surface\":[{\"colorbar\":{\"outlinewidth\":0,\"ticks\":\"\"},\"colorscale\":[[0.0,\"#0d0887\"],[0.1111111111111111,\"#46039f\"],[0.2222222222222222,\"#7201a8\"],[0.3333333333333333,\"#9c179e\"],[0.4444444444444444,\"#bd3786\"],[0.5555555555555556,\"#d8576b\"],[0.6666666666666666,\"#ed7953\"],[0.7777777777777778,\"#fb9f3a\"],[0.8888888888888888,\"#fdca26\"],[1.0,\"#f0f921\"]],\"type\":\"surface\"}],\"table\":[{\"cells\":{\"fill\":{\"color\":\"#506784\"},\"line\":{\"color\":\"rgb(17,17,17)\"}},\"header\":{\"fill\":{\"color\":\"#2a3f5f\"},\"line\":{\"color\":\"rgb(17,17,17)\"}},\"type\":\"table\"}]},\"layout\":{\"annotationdefaults\":{\"arrowcolor\":\"#f2f5fa\",\"arrowhead\":0,\"arrowwidth\":1},\"autotypenumbers\":\"strict\",\"coloraxis\":{\"colorbar\":{\"outlinewidth\":0,\"ticks\":\"\"}},\"colorscale\":{\"diverging\":[[0,\"#8e0152\"],[0.1,\"#c51b7d\"],[0.2,\"#de77ae\"],[0.3,\"#f1b6da\"],[0.4,\"#fde0ef\"],[0.5,\"#f7f7f7\"],[0.6,\"#e6f5d0\"],[0.7,\"#b8e186\"],[0.8,\"#7fbc41\"],[0.9,\"#4d9221\"],[1,\"#276419\"]],\"sequential\":[[0.0,\"#0d0887\"],[0.1111111111111111,\"#46039f\"],[0.2222222222222222,\"#7201a8\"],[0.3333333333333333,\"#9c179e\"],[0.4444444444444444,\"#bd3786\"],[0.5555555555555556,\"#d8576b\"],[0.6666666666666666,\"#ed7953\"],[0.7777777777777778,\"#fb9f3a\"],[0.8888888888888888,\"#fdca26\"],[1.0,\"#f0f921\"]],\"sequentialminus\":[[0.0,\"#0d0887\"],[0.1111111111111111,\"#46039f\"],[0.2222222222222222,\"#7201a8\"],[0.3333333333333333,\"#9c179e\"],[0.4444444444444444,\"#bd3786\"],[0.5555555555555556,\"#d8576b\"],[0.6666666666666666,\"#ed7953\"],[0.7777777777777778,\"#fb9f3a\"],[0.8888888888888888,\"#fdca26\"],[1.0,\"#f0f921\"]]},\"colorway\":[\"#636efa\",\"#EF553B\",\"#00cc96\",\"#ab63fa\",\"#FFA15A\",\"#19d3f3\",\"#FF6692\",\"#B6E880\",\"#FF97FF\",\"#FECB52\"],\"font\":{\"color\":\"#f2f5fa\"},\"geo\":{\"bgcolor\":\"rgb(17,17,17)\",\"lakecolor\":\"rgb(17,17,17)\",\"landcolor\":\"rgb(17,17,17)\",\"showlakes\":true,\"showland\":true,\"subunitcolor\":\"#506784\"},\"hoverlabel\":{\"align\":\"left\"},\"hovermode\":\"closest\",\"mapbox\":{\"style\":\"dark\"},\"paper_bgcolor\":\"rgb(17,17,17)\",\"plot_bgcolor\":\"rgb(17,17,17)\",\"polar\":{\"angularaxis\":{\"gridcolor\":\"#506784\",\"linecolor\":\"#506784\",\"ticks\":\"\"},\"bgcolor\":\"rgb(17,17,17)\",\"radialaxis\":{\"gridcolor\":\"#506784\",\"linecolor\":\"#506784\",\"ticks\":\"\"}},\"scene\":{\"xaxis\":{\"backgroundcolor\":\"rgb(17,17,17)\",\"gridcolor\":\"#506784\",\"gridwidth\":2,\"linecolor\":\"#506784\",\"showbackground\":true,\"ticks\":\"\",\"zerolinecolor\":\"#C8D4E3\"},\"yaxis\":{\"backgroundcolor\":\"rgb(17,17,17)\",\"gridcolor\":\"#506784\",\"gridwidth\":2,\"linecolor\":\"#506784\",\"showbackground\":true,\"ticks\":\"\",\"zerolinecolor\":\"#C8D4E3\"},\"zaxis\":{\"backgroundcolor\":\"rgb(17,17,17)\",\"gridcolor\":\"#506784\",\"gridwidth\":2,\"linecolor\":\"#506784\",\"showbackground\":true,\"ticks\":\"\",\"zerolinecolor\":\"#C8D4E3\"}},\"shapedefaults\":{\"line\":{\"color\":\"#f2f5fa\"}},\"sliderdefaults\":{\"bgcolor\":\"#C8D4E3\",\"bordercolor\":\"rgb(17,17,17)\",\"borderwidth\":1,\"tickwidth\":0},\"ternary\":{\"aaxis\":{\"gridcolor\":\"#506784\",\"linecolor\":\"#506784\",\"ticks\":\"\"},\"baxis\":{\"gridcolor\":\"#506784\",\"linecolor\":\"#506784\",\"ticks\":\"\"},\"bgcolor\":\"rgb(17,17,17)\",\"caxis\":{\"gridcolor\":\"#506784\",\"linecolor\":\"#506784\",\"ticks\":\"\"}},\"title\":{\"x\":0.05},\"updatemenudefaults\":{\"bgcolor\":\"#506784\",\"borderwidth\":0},\"xaxis\":{\"automargin\":true,\"gridcolor\":\"#283442\",\"linecolor\":\"#506784\",\"ticks\":\"\",\"title\":{\"standoff\":15},\"zerolinecolor\":\"#283442\",\"zerolinewidth\":2},\"yaxis\":{\"automargin\":true,\"gridcolor\":\"#283442\",\"linecolor\":\"#506784\",\"ticks\":\"\",\"title\":{\"standoff\":15},\"zerolinecolor\":\"#283442\",\"zerolinewidth\":2}}},\"xaxis\":{\"anchor\":\"y\",\"domain\":[0.0,1.0],\"title\":{\"text\":\"Month\"}},\"yaxis\":{\"anchor\":\"x\",\"domain\":[0.0,1.0],\"title\":{\"text\":\"Number_Samples\"}},\"legend\":{\"title\":{\"text\":\"User\"},\"tracegroupgap\":0,\"itemsizing\":\"constant\"},\"margin\":{\"t\":60},\"height\":1000,\"width\":1200},                        {\"responsive\": true}                    ).then(function(){\n",
       "                            \n",
       "var gd = document.getElementById('25972b04-474b-4aa3-9951-ab5c843369db');\n",
       "var x = new MutationObserver(function (mutations, observer) {{\n",
       "        var display = window.getComputedStyle(gd).display;\n",
       "        if (!display || display === 'none') {{\n",
       "            console.log([gd, 'removed!']);\n",
       "            Plotly.purge(gd);\n",
       "            observer.disconnect();\n",
       "        }}\n",
       "}});\n",
       "\n",
       "// Listen for the removal of the full notebook cells\n",
       "var notebookContainer = gd.closest('#notebook-container');\n",
       "if (notebookContainer) {{\n",
       "    x.observe(notebookContainer, {childList: true});\n",
       "}}\n",
       "\n",
       "// Listen for the clearing of the current output cell\n",
       "var outputEl = gd.closest('.output');\n",
       "if (outputEl) {{\n",
       "    x.observe(outputEl, {childList: true});\n",
       "}}\n",
       "\n",
       "                        })                };                });            </script>        </div>"
      ]
     },
     "metadata": {},
     "output_type": "display_data"
    }
   ],
   "source": [
    "plot_bubble(all_records, 2023)"
   ]
  },
  {
   "cell_type": "code",
   "execution_count": 64,
   "id": "7e052af2-6776-49b2-8610-180896c370d5",
   "metadata": {},
   "outputs": [
    {
     "data": {
      "application/vnd.plotly.v1+json": {
       "config": {
        "plotlyServerURL": "https://plot.ly"
       },
       "data": [
        {
         "marker": {
          "color": "#AA336A"
         },
         "type": "bar",
         "x": [
          "Jan",
          "Feb",
          "Mar",
          "Apr",
          "May",
          "Jun",
          "Jul",
          "Aug",
          "Sep",
          "Oct",
          "Nov",
          "Dec"
         ],
         "y": [
          327,
          262,
          469,
          92,
          0,
          631,
          466,
          776,
          302,
          7,
          286,
          447
         ]
        }
       ],
       "layout": {
        "autosize": true,
        "template": {
         "data": {
          "bar": [
           {
            "error_x": {
             "color": "#f2f5fa"
            },
            "error_y": {
             "color": "#f2f5fa"
            },
            "marker": {
             "line": {
              "color": "rgb(17,17,17)",
              "width": 0.5
             },
             "pattern": {
              "fillmode": "overlay",
              "size": 10,
              "solidity": 0.2
             }
            },
            "type": "bar"
           }
          ],
          "barpolar": [
           {
            "marker": {
             "line": {
              "color": "rgb(17,17,17)",
              "width": 0.5
             },
             "pattern": {
              "fillmode": "overlay",
              "size": 10,
              "solidity": 0.2
             }
            },
            "type": "barpolar"
           }
          ],
          "carpet": [
           {
            "aaxis": {
             "endlinecolor": "#A2B1C6",
             "gridcolor": "#506784",
             "linecolor": "#506784",
             "minorgridcolor": "#506784",
             "startlinecolor": "#A2B1C6"
            },
            "baxis": {
             "endlinecolor": "#A2B1C6",
             "gridcolor": "#506784",
             "linecolor": "#506784",
             "minorgridcolor": "#506784",
             "startlinecolor": "#A2B1C6"
            },
            "type": "carpet"
           }
          ],
          "choropleth": [
           {
            "colorbar": {
             "outlinewidth": 0,
             "ticks": ""
            },
            "type": "choropleth"
           }
          ],
          "contour": [
           {
            "colorbar": {
             "outlinewidth": 0,
             "ticks": ""
            },
            "colorscale": [
             [
              0,
              "#0d0887"
             ],
             [
              0.1111111111111111,
              "#46039f"
             ],
             [
              0.2222222222222222,
              "#7201a8"
             ],
             [
              0.3333333333333333,
              "#9c179e"
             ],
             [
              0.4444444444444444,
              "#bd3786"
             ],
             [
              0.5555555555555556,
              "#d8576b"
             ],
             [
              0.6666666666666666,
              "#ed7953"
             ],
             [
              0.7777777777777778,
              "#fb9f3a"
             ],
             [
              0.8888888888888888,
              "#fdca26"
             ],
             [
              1,
              "#f0f921"
             ]
            ],
            "type": "contour"
           }
          ],
          "contourcarpet": [
           {
            "colorbar": {
             "outlinewidth": 0,
             "ticks": ""
            },
            "type": "contourcarpet"
           }
          ],
          "heatmap": [
           {
            "colorbar": {
             "outlinewidth": 0,
             "ticks": ""
            },
            "colorscale": [
             [
              0,
              "#0d0887"
             ],
             [
              0.1111111111111111,
              "#46039f"
             ],
             [
              0.2222222222222222,
              "#7201a8"
             ],
             [
              0.3333333333333333,
              "#9c179e"
             ],
             [
              0.4444444444444444,
              "#bd3786"
             ],
             [
              0.5555555555555556,
              "#d8576b"
             ],
             [
              0.6666666666666666,
              "#ed7953"
             ],
             [
              0.7777777777777778,
              "#fb9f3a"
             ],
             [
              0.8888888888888888,
              "#fdca26"
             ],
             [
              1,
              "#f0f921"
             ]
            ],
            "type": "heatmap"
           }
          ],
          "heatmapgl": [
           {
            "colorbar": {
             "outlinewidth": 0,
             "ticks": ""
            },
            "colorscale": [
             [
              0,
              "#0d0887"
             ],
             [
              0.1111111111111111,
              "#46039f"
             ],
             [
              0.2222222222222222,
              "#7201a8"
             ],
             [
              0.3333333333333333,
              "#9c179e"
             ],
             [
              0.4444444444444444,
              "#bd3786"
             ],
             [
              0.5555555555555556,
              "#d8576b"
             ],
             [
              0.6666666666666666,
              "#ed7953"
             ],
             [
              0.7777777777777778,
              "#fb9f3a"
             ],
             [
              0.8888888888888888,
              "#fdca26"
             ],
             [
              1,
              "#f0f921"
             ]
            ],
            "type": "heatmapgl"
           }
          ],
          "histogram": [
           {
            "marker": {
             "pattern": {
              "fillmode": "overlay",
              "size": 10,
              "solidity": 0.2
             }
            },
            "type": "histogram"
           }
          ],
          "histogram2d": [
           {
            "colorbar": {
             "outlinewidth": 0,
             "ticks": ""
            },
            "colorscale": [
             [
              0,
              "#0d0887"
             ],
             [
              0.1111111111111111,
              "#46039f"
             ],
             [
              0.2222222222222222,
              "#7201a8"
             ],
             [
              0.3333333333333333,
              "#9c179e"
             ],
             [
              0.4444444444444444,
              "#bd3786"
             ],
             [
              0.5555555555555556,
              "#d8576b"
             ],
             [
              0.6666666666666666,
              "#ed7953"
             ],
             [
              0.7777777777777778,
              "#fb9f3a"
             ],
             [
              0.8888888888888888,
              "#fdca26"
             ],
             [
              1,
              "#f0f921"
             ]
            ],
            "type": "histogram2d"
           }
          ],
          "histogram2dcontour": [
           {
            "colorbar": {
             "outlinewidth": 0,
             "ticks": ""
            },
            "colorscale": [
             [
              0,
              "#0d0887"
             ],
             [
              0.1111111111111111,
              "#46039f"
             ],
             [
              0.2222222222222222,
              "#7201a8"
             ],
             [
              0.3333333333333333,
              "#9c179e"
             ],
             [
              0.4444444444444444,
              "#bd3786"
             ],
             [
              0.5555555555555556,
              "#d8576b"
             ],
             [
              0.6666666666666666,
              "#ed7953"
             ],
             [
              0.7777777777777778,
              "#fb9f3a"
             ],
             [
              0.8888888888888888,
              "#fdca26"
             ],
             [
              1,
              "#f0f921"
             ]
            ],
            "type": "histogram2dcontour"
           }
          ],
          "mesh3d": [
           {
            "colorbar": {
             "outlinewidth": 0,
             "ticks": ""
            },
            "type": "mesh3d"
           }
          ],
          "parcoords": [
           {
            "line": {
             "colorbar": {
              "outlinewidth": 0,
              "ticks": ""
             }
            },
            "type": "parcoords"
           }
          ],
          "pie": [
           {
            "automargin": true,
            "type": "pie"
           }
          ],
          "scatter": [
           {
            "marker": {
             "line": {
              "color": "#283442"
             }
            },
            "type": "scatter"
           }
          ],
          "scatter3d": [
           {
            "line": {
             "colorbar": {
              "outlinewidth": 0,
              "ticks": ""
             }
            },
            "marker": {
             "colorbar": {
              "outlinewidth": 0,
              "ticks": ""
             }
            },
            "type": "scatter3d"
           }
          ],
          "scattercarpet": [
           {
            "marker": {
             "colorbar": {
              "outlinewidth": 0,
              "ticks": ""
             }
            },
            "type": "scattercarpet"
           }
          ],
          "scattergeo": [
           {
            "marker": {
             "colorbar": {
              "outlinewidth": 0,
              "ticks": ""
             }
            },
            "type": "scattergeo"
           }
          ],
          "scattergl": [
           {
            "marker": {
             "line": {
              "color": "#283442"
             }
            },
            "type": "scattergl"
           }
          ],
          "scattermapbox": [
           {
            "marker": {
             "colorbar": {
              "outlinewidth": 0,
              "ticks": ""
             }
            },
            "type": "scattermapbox"
           }
          ],
          "scatterpolar": [
           {
            "marker": {
             "colorbar": {
              "outlinewidth": 0,
              "ticks": ""
             }
            },
            "type": "scatterpolar"
           }
          ],
          "scatterpolargl": [
           {
            "marker": {
             "colorbar": {
              "outlinewidth": 0,
              "ticks": ""
             }
            },
            "type": "scatterpolargl"
           }
          ],
          "scatterternary": [
           {
            "marker": {
             "colorbar": {
              "outlinewidth": 0,
              "ticks": ""
             }
            },
            "type": "scatterternary"
           }
          ],
          "surface": [
           {
            "colorbar": {
             "outlinewidth": 0,
             "ticks": ""
            },
            "colorscale": [
             [
              0,
              "#0d0887"
             ],
             [
              0.1111111111111111,
              "#46039f"
             ],
             [
              0.2222222222222222,
              "#7201a8"
             ],
             [
              0.3333333333333333,
              "#9c179e"
             ],
             [
              0.4444444444444444,
              "#bd3786"
             ],
             [
              0.5555555555555556,
              "#d8576b"
             ],
             [
              0.6666666666666666,
              "#ed7953"
             ],
             [
              0.7777777777777778,
              "#fb9f3a"
             ],
             [
              0.8888888888888888,
              "#fdca26"
             ],
             [
              1,
              "#f0f921"
             ]
            ],
            "type": "surface"
           }
          ],
          "table": [
           {
            "cells": {
             "fill": {
              "color": "#506784"
             },
             "line": {
              "color": "rgb(17,17,17)"
             }
            },
            "header": {
             "fill": {
              "color": "#2a3f5f"
             },
             "line": {
              "color": "rgb(17,17,17)"
             }
            },
            "type": "table"
           }
          ]
         },
         "layout": {
          "annotationdefaults": {
           "arrowcolor": "#f2f5fa",
           "arrowhead": 0,
           "arrowwidth": 1
          },
          "autotypenumbers": "strict",
          "coloraxis": {
           "colorbar": {
            "outlinewidth": 0,
            "ticks": ""
           }
          },
          "colorscale": {
           "diverging": [
            [
             0,
             "#8e0152"
            ],
            [
             0.1,
             "#c51b7d"
            ],
            [
             0.2,
             "#de77ae"
            ],
            [
             0.3,
             "#f1b6da"
            ],
            [
             0.4,
             "#fde0ef"
            ],
            [
             0.5,
             "#f7f7f7"
            ],
            [
             0.6,
             "#e6f5d0"
            ],
            [
             0.7,
             "#b8e186"
            ],
            [
             0.8,
             "#7fbc41"
            ],
            [
             0.9,
             "#4d9221"
            ],
            [
             1,
             "#276419"
            ]
           ],
           "sequential": [
            [
             0,
             "#0d0887"
            ],
            [
             0.1111111111111111,
             "#46039f"
            ],
            [
             0.2222222222222222,
             "#7201a8"
            ],
            [
             0.3333333333333333,
             "#9c179e"
            ],
            [
             0.4444444444444444,
             "#bd3786"
            ],
            [
             0.5555555555555556,
             "#d8576b"
            ],
            [
             0.6666666666666666,
             "#ed7953"
            ],
            [
             0.7777777777777778,
             "#fb9f3a"
            ],
            [
             0.8888888888888888,
             "#fdca26"
            ],
            [
             1,
             "#f0f921"
            ]
           ],
           "sequentialminus": [
            [
             0,
             "#0d0887"
            ],
            [
             0.1111111111111111,
             "#46039f"
            ],
            [
             0.2222222222222222,
             "#7201a8"
            ],
            [
             0.3333333333333333,
             "#9c179e"
            ],
            [
             0.4444444444444444,
             "#bd3786"
            ],
            [
             0.5555555555555556,
             "#d8576b"
            ],
            [
             0.6666666666666666,
             "#ed7953"
            ],
            [
             0.7777777777777778,
             "#fb9f3a"
            ],
            [
             0.8888888888888888,
             "#fdca26"
            ],
            [
             1,
             "#f0f921"
            ]
           ]
          },
          "colorway": [
           "#636efa",
           "#EF553B",
           "#00cc96",
           "#ab63fa",
           "#FFA15A",
           "#19d3f3",
           "#FF6692",
           "#B6E880",
           "#FF97FF",
           "#FECB52"
          ],
          "font": {
           "color": "#f2f5fa"
          },
          "geo": {
           "bgcolor": "rgb(17,17,17)",
           "lakecolor": "rgb(17,17,17)",
           "landcolor": "rgb(17,17,17)",
           "showlakes": true,
           "showland": true,
           "subunitcolor": "#506784"
          },
          "hoverlabel": {
           "align": "left"
          },
          "hovermode": "closest",
          "mapbox": {
           "style": "dark"
          },
          "paper_bgcolor": "rgb(17,17,17)",
          "plot_bgcolor": "rgb(17,17,17)",
          "polar": {
           "angularaxis": {
            "gridcolor": "#506784",
            "linecolor": "#506784",
            "ticks": ""
           },
           "bgcolor": "rgb(17,17,17)",
           "radialaxis": {
            "gridcolor": "#506784",
            "linecolor": "#506784",
            "ticks": ""
           }
          },
          "scene": {
           "xaxis": {
            "backgroundcolor": "rgb(17,17,17)",
            "gridcolor": "#506784",
            "gridwidth": 2,
            "linecolor": "#506784",
            "showbackground": true,
            "ticks": "",
            "zerolinecolor": "#C8D4E3"
           },
           "yaxis": {
            "backgroundcolor": "rgb(17,17,17)",
            "gridcolor": "#506784",
            "gridwidth": 2,
            "linecolor": "#506784",
            "showbackground": true,
            "ticks": "",
            "zerolinecolor": "#C8D4E3"
           },
           "zaxis": {
            "backgroundcolor": "rgb(17,17,17)",
            "gridcolor": "#506784",
            "gridwidth": 2,
            "linecolor": "#506784",
            "showbackground": true,
            "ticks": "",
            "zerolinecolor": "#C8D4E3"
           }
          },
          "shapedefaults": {
           "line": {
            "color": "#f2f5fa"
           }
          },
          "sliderdefaults": {
           "bgcolor": "#C8D4E3",
           "bordercolor": "rgb(17,17,17)",
           "borderwidth": 1,
           "tickwidth": 0
          },
          "ternary": {
           "aaxis": {
            "gridcolor": "#506784",
            "linecolor": "#506784",
            "ticks": ""
           },
           "baxis": {
            "gridcolor": "#506784",
            "linecolor": "#506784",
            "ticks": ""
           },
           "bgcolor": "rgb(17,17,17)",
           "caxis": {
            "gridcolor": "#506784",
            "linecolor": "#506784",
            "ticks": ""
           }
          },
          "title": {
           "x": 0.05
          },
          "updatemenudefaults": {
           "bgcolor": "#506784",
           "borderwidth": 0
          },
          "xaxis": {
           "automargin": true,
           "gridcolor": "#283442",
           "linecolor": "#506784",
           "ticks": "",
           "title": {
            "standoff": 15
           },
           "zerolinecolor": "#283442",
           "zerolinewidth": 2
          },
          "yaxis": {
           "automargin": true,
           "gridcolor": "#283442",
           "linecolor": "#506784",
           "ticks": "",
           "title": {
            "standoff": 15
           },
           "zerolinecolor": "#283442",
           "zerolinewidth": 2
          }
         }
        },
        "xaxis": {
         "autorange": true,
         "range": [
          -0.5,
          11.5
         ],
         "tickmode": "array",
         "ticktext": [
          "Jan",
          "Feb",
          "Mar",
          "Apr",
          "May",
          "Jun",
          "Jul",
          "Aug",
          "Sep",
          "Oct",
          "Nov",
          "Dec"
         ],
         "tickvals": [
          "Jan",
          "Feb",
          "Mar",
          "Apr",
          "May",
          "Jun",
          "Jul",
          "Aug",
          "Sep",
          "Oct",
          "Nov",
          "Dec"
         ],
         "title": {
          "text": "Month"
         },
         "type": "category"
        },
        "yaxis": {
         "autorange": true,
         "range": [
          0,
          816.8421052631579
         ],
         "title": {
          "text": "Number of Reactions"
         },
         "type": "linear"
        }
       }
      },
      "image/png": "[encoded data removed]",
      "text/html": [
       "<div>                            <div id=\"44032386-9061-4001-baf8-a05052bd3d98\" class=\"plotly-graph-div\" style=\"height:800px; width:100%;\"></div>            <script type=\"text/javascript\">                require([\"plotly\"], function(Plotly) {                    window.PLOTLYENV=window.PLOTLYENV || {};                                    if (document.getElementById(\"44032386-9061-4001-baf8-a05052bd3d98\")) {                    Plotly.newPlot(                        \"44032386-9061-4001-baf8-a05052bd3d98\",                        [{\"marker\":{\"color\":\"#AA336A\"},\"x\":[\"Jan\",\"Feb\",\"Mar\",\"Apr\",\"May\",\"Jun\",\"Jul\",\"Aug\",\"Sep\",\"Oct\",\"Nov\",\"Dec\"],\"y\":[327.0,262.0,469.0,92.0,0.0,631.0,466.0,776.0,302.0,7.0,286.0,447.0],\"type\":\"bar\"}],                        {\"template\":{\"data\":{\"barpolar\":[{\"marker\":{\"line\":{\"color\":\"rgb(17,17,17)\",\"width\":0.5},\"pattern\":{\"fillmode\":\"overlay\",\"size\":10,\"solidity\":0.2}},\"type\":\"barpolar\"}],\"bar\":[{\"error_x\":{\"color\":\"#f2f5fa\"},\"error_y\":{\"color\":\"#f2f5fa\"},\"marker\":{\"line\":{\"color\":\"rgb(17,17,17)\",\"width\":0.5},\"pattern\":{\"fillmode\":\"overlay\",\"size\":10,\"solidity\":0.2}},\"type\":\"bar\"}],\"carpet\":[{\"aaxis\":{\"endlinecolor\":\"#A2B1C6\",\"gridcolor\":\"#506784\",\"linecolor\":\"#506784\",\"minorgridcolor\":\"#506784\",\"startlinecolor\":\"#A2B1C6\"},\"baxis\":{\"endlinecolor\":\"#A2B1C6\",\"gridcolor\":\"#506784\",\"linecolor\":\"#506784\",\"minorgridcolor\":\"#506784\",\"startlinecolor\":\"#A2B1C6\"},\"type\":\"carpet\"}],\"choropleth\":[{\"colorbar\":{\"outlinewidth\":0,\"ticks\":\"\"},\"type\":\"choropleth\"}],\"contourcarpet\":[{\"colorbar\":{\"outlinewidth\":0,\"ticks\":\"\"},\"type\":\"contourcarpet\"}],\"contour\":[{\"colorbar\":{\"outlinewidth\":0,\"ticks\":\"\"},\"colorscale\":[[0.0,\"#0d0887\"],[0.1111111111111111,\"#46039f\"],[0.2222222222222222,\"#7201a8\"],[0.3333333333333333,\"#9c179e\"],[0.4444444444444444,\"#bd3786\"],[0.5555555555555556,\"#d8576b\"],[0.6666666666666666,\"#ed7953\"],[0.7777777777777778,\"#fb9f3a\"],[0.8888888888888888,\"#fdca26\"],[1.0,\"#f0f921\"]],\"type\":\"contour\"}],\"heatmapgl\":[{\"colorbar\":{\"outlinewidth\":0,\"ticks\":\"\"},\"colorscale\":[[0.0,\"#0d0887\"],[0.1111111111111111,\"#46039f\"],[0.2222222222222222,\"#7201a8\"],[0.3333333333333333,\"#9c179e\"],[0.4444444444444444,\"#bd3786\"],[0.5555555555555556,\"#d8576b\"],[0.6666666666666666,\"#ed7953\"],[0.7777777777777778,\"#fb9f3a\"],[0.8888888888888888,\"#fdca26\"],[1.0,\"#f0f921\"]],\"type\":\"heatmapgl\"}],\"heatmap\":[{\"colorbar\":{\"outlinewidth\":0,\"ticks\":\"\"},\"colorscale\":[[0.0,\"#0d0887\"],[0.1111111111111111,\"#46039f\"],[0.2222222222222222,\"#7201a8\"],[0.3333333333333333,\"#9c179e\"],[0.4444444444444444,\"#bd3786\"],[0.5555555555555556,\"#d8576b\"],[0.6666666666666666,\"#ed7953\"],[0.7777777777777778,\"#fb9f3a\"],[0.8888888888888888,\"#fdca26\"],[1.0,\"#f0f921\"]],\"type\":\"heatmap\"}],\"histogram2dcontour\":[{\"colorbar\":{\"outlinewidth\":0,\"ticks\":\"\"},\"colorscale\":[[0.0,\"#0d0887\"],[0.1111111111111111,\"#46039f\"],[0.2222222222222222,\"#7201a8\"],[0.3333333333333333,\"#9c179e\"],[0.4444444444444444,\"#bd3786\"],[0.5555555555555556,\"#d8576b\"],[0.6666666666666666,\"#ed7953\"],[0.7777777777777778,\"#fb9f3a\"],[0.8888888888888888,\"#fdca26\"],[1.0,\"#f0f921\"]],\"type\":\"histogram2dcontour\"}],\"histogram2d\":[{\"colorbar\":{\"outlinewidth\":0,\"ticks\":\"\"},\"colorscale\":[[0.0,\"#0d0887\"],[0.1111111111111111,\"#46039f\"],[0.2222222222222222,\"#7201a8\"],[0.3333333333333333,\"#9c179e\"],[0.4444444444444444,\"#bd3786\"],[0.5555555555555556,\"#d8576b\"],[0.6666666666666666,\"#ed7953\"],[0.7777777777777778,\"#fb9f3a\"],[0.8888888888888888,\"#fdca26\"],[1.0,\"#f0f921\"]],\"type\":\"histogram2d\"}],\"histogram\":[{\"marker\":{\"pattern\":{\"fillmode\":\"overlay\",\"size\":10,\"solidity\":0.2}},\"type\":\"histogram\"}],\"mesh3d\":[{\"colorbar\":{\"outlinewidth\":0,\"ticks\":\"\"},\"type\":\"mesh3d\"}],\"parcoords\":[{\"line\":{\"colorbar\":{\"outlinewidth\":0,\"ticks\":\"\"}},\"type\":\"parcoords\"}],\"pie\":[{\"automargin\":true,\"type\":\"pie\"}],\"scatter3d\":[{\"line\":{\"colorbar\":{\"outlinewidth\":0,\"ticks\":\"\"}},\"marker\":{\"colorbar\":{\"outlinewidth\":0,\"ticks\":\"\"}},\"type\":\"scatter3d\"}],\"scattercarpet\":[{\"marker\":{\"colorbar\":{\"outlinewidth\":0,\"ticks\":\"\"}},\"type\":\"scattercarpet\"}],\"scattergeo\":[{\"marker\":{\"colorbar\":{\"outlinewidth\":0,\"ticks\":\"\"}},\"type\":\"scattergeo\"}],\"scattergl\":[{\"marker\":{\"line\":{\"color\":\"#283442\"}},\"type\":\"scattergl\"}],\"scattermapbox\":[{\"marker\":{\"colorbar\":{\"outlinewidth\":0,\"ticks\":\"\"}},\"type\":\"scattermapbox\"}],\"scatterpolargl\":[{\"marker\":{\"colorbar\":{\"outlinewidth\":0,\"ticks\":\"\"}},\"type\":\"scatterpolargl\"}],\"scatterpolar\":[{\"marker\":{\"colorbar\":{\"outlinewidth\":0,\"ticks\":\"\"}},\"type\":\"scatterpolar\"}],\"scatter\":[{\"marker\":{\"line\":{\"color\":\"#283442\"}},\"type\":\"scatter\"}],\"scatterternary\":[{\"marker\":{\"colorbar\":{\"outlinewidth\":0,\"ticks\":\"\"}},\"type\":\"scatterternary\"}],\"surface\":[{\"colorbar\":{\"outlinewidth\":0,\"ticks\":\"\"},\"colorscale\":[[0.0,\"#0d0887\"],[0.1111111111111111,\"#46039f\"],[0.2222222222222222,\"#7201a8\"],[0.3333333333333333,\"#9c179e\"],[0.4444444444444444,\"#bd3786\"],[0.5555555555555556,\"#d8576b\"],[0.6666666666666666,\"#ed7953\"],[0.7777777777777778,\"#fb9f3a\"],[0.8888888888888888,\"#fdca26\"],[1.0,\"#f0f921\"]],\"type\":\"surface\"}],\"table\":[{\"cells\":{\"fill\":{\"color\":\"#506784\"},\"line\":{\"color\":\"rgb(17,17,17)\"}},\"header\":{\"fill\":{\"color\":\"#2a3f5f\"},\"line\":{\"color\":\"rgb(17,17,17)\"}},\"type\":\"table\"}]},\"layout\":{\"annotationdefaults\":{\"arrowcolor\":\"#f2f5fa\",\"arrowhead\":0,\"arrowwidth\":1},\"autotypenumbers\":\"strict\",\"coloraxis\":{\"colorbar\":{\"outlinewidth\":0,\"ticks\":\"\"}},\"colorscale\":{\"diverging\":[[0,\"#8e0152\"],[0.1,\"#c51b7d\"],[0.2,\"#de77ae\"],[0.3,\"#f1b6da\"],[0.4,\"#fde0ef\"],[0.5,\"#f7f7f7\"],[0.6,\"#e6f5d0\"],[0.7,\"#b8e186\"],[0.8,\"#7fbc41\"],[0.9,\"#4d9221\"],[1,\"#276419\"]],\"sequential\":[[0.0,\"#0d0887\"],[0.1111111111111111,\"#46039f\"],[0.2222222222222222,\"#7201a8\"],[0.3333333333333333,\"#9c179e\"],[0.4444444444444444,\"#bd3786\"],[0.5555555555555556,\"#d8576b\"],[0.6666666666666666,\"#ed7953\"],[0.7777777777777778,\"#fb9f3a\"],[0.8888888888888888,\"#fdca26\"],[1.0,\"#f0f921\"]],\"sequentialminus\":[[0.0,\"#0d0887\"],[0.1111111111111111,\"#46039f\"],[0.2222222222222222,\"#7201a8\"],[0.3333333333333333,\"#9c179e\"],[0.4444444444444444,\"#bd3786\"],[0.5555555555555556,\"#d8576b\"],[0.6666666666666666,\"#ed7953\"],[0.7777777777777778,\"#fb9f3a\"],[0.8888888888888888,\"#fdca26\"],[1.0,\"#f0f921\"]]},\"colorway\":[\"#636efa\",\"#EF553B\",\"#00cc96\",\"#ab63fa\",\"#FFA15A\",\"#19d3f3\",\"#FF6692\",\"#B6E880\",\"#FF97FF\",\"#FECB52\"],\"font\":{\"color\":\"#f2f5fa\"},\"geo\":{\"bgcolor\":\"rgb(17,17,17)\",\"lakecolor\":\"rgb(17,17,17)\",\"landcolor\":\"rgb(17,17,17)\",\"showlakes\":true,\"showland\":true,\"subunitcolor\":\"#506784\"},\"hoverlabel\":{\"align\":\"left\"},\"hovermode\":\"closest\",\"mapbox\":{\"style\":\"dark\"},\"paper_bgcolor\":\"rgb(17,17,17)\",\"plot_bgcolor\":\"rgb(17,17,17)\",\"polar\":{\"angularaxis\":{\"gridcolor\":\"#506784\",\"linecolor\":\"#506784\",\"ticks\":\"\"},\"bgcolor\":\"rgb(17,17,17)\",\"radialaxis\":{\"gridcolor\":\"#506784\",\"linecolor\":\"#506784\",\"ticks\":\"\"}},\"scene\":{\"xaxis\":{\"backgroundcolor\":\"rgb(17,17,17)\",\"gridcolor\":\"#506784\",\"gridwidth\":2,\"linecolor\":\"#506784\",\"showbackground\":true,\"ticks\":\"\",\"zerolinecolor\":\"#C8D4E3\"},\"yaxis\":{\"backgroundcolor\":\"rgb(17,17,17)\",\"gridcolor\":\"#506784\",\"gridwidth\":2,\"linecolor\":\"#506784\",\"showbackground\":true,\"ticks\":\"\",\"zerolinecolor\":\"#C8D4E3\"},\"zaxis\":{\"backgroundcolor\":\"rgb(17,17,17)\",\"gridcolor\":\"#506784\",\"gridwidth\":2,\"linecolor\":\"#506784\",\"showbackground\":true,\"ticks\":\"\",\"zerolinecolor\":\"#C8D4E3\"}},\"shapedefaults\":{\"line\":{\"color\":\"#f2f5fa\"}},\"sliderdefaults\":{\"bgcolor\":\"#C8D4E3\",\"bordercolor\":\"rgb(17,17,17)\",\"borderwidth\":1,\"tickwidth\":0},\"ternary\":{\"aaxis\":{\"gridcolor\":\"#506784\",\"linecolor\":\"#506784\",\"ticks\":\"\"},\"baxis\":{\"gridcolor\":\"#506784\",\"linecolor\":\"#506784\",\"ticks\":\"\"},\"bgcolor\":\"rgb(17,17,17)\",\"caxis\":{\"gridcolor\":\"#506784\",\"linecolor\":\"#506784\",\"ticks\":\"\"}},\"title\":{\"x\":0.05},\"updatemenudefaults\":{\"bgcolor\":\"#506784\",\"borderwidth\":0},\"xaxis\":{\"automargin\":true,\"gridcolor\":\"#283442\",\"linecolor\":\"#506784\",\"ticks\":\"\",\"title\":{\"standoff\":15},\"zerolinecolor\":\"#283442\",\"zerolinewidth\":2},\"yaxis\":{\"automargin\":true,\"gridcolor\":\"#283442\",\"linecolor\":\"#506784\",\"ticks\":\"\",\"title\":{\"standoff\":15},\"zerolinecolor\":\"#283442\",\"zerolinewidth\":2}}},\"xaxis\":{\"title\":{\"text\":\"Month\"},\"tickmode\":\"array\",\"tickvals\":[\"Jan\",\"Feb\",\"Mar\",\"Apr\",\"May\",\"Jun\",\"Jul\",\"Aug\",\"Sep\",\"Oct\",\"Nov\",\"Dec\"],\"ticktext\":[\"Jan\",\"Feb\",\"Mar\",\"Apr\",\"May\",\"Jun\",\"Jul\",\"Aug\",\"Sep\",\"Oct\",\"Nov\",\"Dec\"]},\"yaxis\":{\"title\":{\"text\":\"Number of Reactions\"}},\"height\":800},                        {\"responsive\": true}                    ).then(function(){\n",
       "                            \n",
       "var gd = document.getElementById('44032386-9061-4001-baf8-a05052bd3d98');\n",
       "var x = new MutationObserver(function (mutations, observer) {{\n",
       "        var display = window.getComputedStyle(gd).display;\n",
       "        if (!display || display === 'none') {{\n",
       "            console.log([gd, 'removed!']);\n",
       "            Plotly.purge(gd);\n",
       "            observer.disconnect();\n",
       "        }}\n",
       "}});\n",
       "\n",
       "// Listen for the removal of the full notebook cells\n",
       "var notebookContainer = gd.closest('#notebook-container');\n",
       "if (notebookContainer) {{\n",
       "    x.observe(notebookContainer, {childList: true});\n",
       "}}\n",
       "\n",
       "// Listen for the clearing of the current output cell\n",
       "var outputEl = gd.closest('.output');\n",
       "if (outputEl) {{\n",
       "    x.observe(outputEl, {childList: true});\n",
       "}}\n",
       "\n",
       "                        })                };                });            </script>        </div>"
      ]
     },
     "metadata": {},
     "output_type": "display_data"
    }
   ],
   "source": [
    "plot_bar2(all_records, 2020)"
   ]
  },
  {
   "cell_type": "code",
   "execution_count": 72,
   "id": "8a45bc14-07f1-4fa3-b062-d581dc2b442c",
   "metadata": {},
   "outputs": [
    {
     "data": {
      "application/vnd.plotly.v1+json": {
       "config": {
        "plotlyServerURL": "https://plot.ly"
       },
       "data": [
        {
         "colorbar": {
          "title": {
           "text": "Number of Samples Sequenced"
          }
         },
         "colorscale": [
          [
           0,
           "rgb(92, 83, 165)"
          ],
          [
           0.16666666666666666,
           "rgb(160, 89, 160)"
          ],
          [
           0.3333333333333333,
           "rgb(206, 102, 147)"
          ],
          [
           0.5,
           "rgb(235, 127, 134)"
          ],
          [
           0.6666666666666666,
           "rgb(248, 160, 126)"
          ],
          [
           0.8333333333333334,
           "rgb(250, 196, 132)"
          ],
          [
           1,
           "rgb(243, 231, 155)"
          ]
         ],
         "customdata": [
          [
           0,
           0,
           0,
           0,
           6,
           8,
           8,
           34,
           0,
           0,
           20,
           0,
           48,
           52,
           18,
           0,
           0,
           12,
           4,
           4,
           20,
           12,
           0,
           0,
           24,
           6,
           6,
           33,
           10,
           0,
           0
          ],
          [
           54,
           44,
           0,
           4,
           0,
           0,
           0,
           40,
           13,
           14,
           0,
           0,
           0,
           0,
           30,
           38,
           48,
           4,
           16,
           0,
           0,
           46,
           0,
           28,
           4,
           0,
           0,
           0,
           0,
           0,
           0
          ],
          [
           10,
           6,
           14,
           0,
           60,
           0,
           0,
           0,
           6,
           0,
           39,
           8,
           0,
           0,
           9,
           2,
           0,
           20,
           12,
           0,
           0,
           12,
           5,
           6,
           28,
           12,
           0,
           0,
           0,
           0,
           48
          ],
          [
           0,
           0,
           0,
           0,
           58,
           12,
           4,
           4,
           53,
           0,
           16,
           32,
           24,
           63,
           24,
           0,
           0,
           0,
           26,
           9,
           23,
           2,
           20,
           0,
           0,
           18,
           8,
           12,
           31,
           0,
           0
          ],
          [
           0,
           10,
           105,
           20,
           13,
           24,
           30,
           0,
           0,
           15,
           12,
           36,
           12,
           24,
           0,
           0,
           17,
           1,
           23,
           0,
           45,
           0,
           0,
           70,
           13,
           36,
           38,
           14,
           0,
           4,
           66
          ],
          [
           23,
           32,
           52,
           31,
           0,
           0,
           14,
           12,
           18,
           0,
           0,
           0,
           0,
           16,
           5,
           34,
           20,
           42,
           0,
           0,
           10,
           26,
           36,
           0,
           12,
           0,
           0,
           0,
           8,
           26,
           0
          ],
          [
           6,
           38,
           0,
           0,
           12,
           29,
           6,
           12,
           52,
           0,
           0,
           40,
           4,
           15,
           0,
           16,
           0,
           0,
           0,
           0,
           66,
           4,
           10,
           0,
           0,
           8,
           9,
           22,
           0,
           5,
           1
          ],
          [
           0,
           0,
           0,
           0,
           0,
           0,
           0,
           0,
           0,
           0,
           0,
           0,
           0,
           0,
           0,
           0,
           0,
           0,
           0,
           0,
           0,
           0,
           0,
           0,
           0,
           0,
           0,
           0,
           0,
           0,
           12
          ],
          [
           26,
           0,
           20,
           0,
           0,
           28,
           4,
           10,
           4,
           1,
           0,
           0,
           22,
           2,
           11,
           35,
           0,
           0,
           0,
           18,
           0,
           5,
           16,
           110,
           0,
           0,
           0,
           55,
           21,
           4,
           0
          ],
          [
           18,
           0,
           0,
           22,
           27,
           2,
           20,
           8,
           0,
           0,
           84,
           8,
           32,
           0,
           4,
           0,
           0,
           0,
           24,
           52,
           28,
           26,
           0,
           0,
           80,
           12,
           20,
           4,
           28,
           0,
           0
          ],
          [
           50,
           0,
           6,
           0,
           0,
           0,
           0,
           42,
           0,
           0,
           4,
           64,
           0,
           0,
           78,
           16,
           6,
           2,
           59,
           0,
           0,
           68,
           26,
           20,
           28,
           78,
           0,
           0,
           28,
           32,
           0
          ],
          [
           70,
           12,
           38,
           0,
           0,
           14,
           25,
           40,
           8,
           8,
           0,
           0,
           50,
           9,
           78,
           34,
           34,
           0,
           0,
           26,
           16,
           4,
           22,
           0,
           0,
           0,
           48,
           0,
           0,
           0,
           0
          ]
         ],
         "hovertemplate": "Month: %{y}<br>Day: %{x}<br>Number of Samples Sequenced: %{customdata}<extra></extra>",
         "type": "heatmap",
         "x": [
          1,
          2,
          3,
          4,
          5,
          6,
          7,
          8,
          9,
          10,
          11,
          12,
          13,
          14,
          15,
          16,
          17,
          18,
          19,
          20,
          21,
          22,
          23,
          24,
          25,
          26,
          27,
          28,
          29,
          30,
          31
         ],
         "y": [
          1,
          2,
          3,
          4,
          5,
          6,
          7,
          8,
          9,
          10,
          11,
          12
         ],
         "z": [
          [
           0,
           0,
           0,
           0,
           6,
           8,
           8,
           34,
           0,
           0,
           20,
           0,
           48,
           52,
           18,
           0,
           0,
           12,
           4,
           4,
           20,
           12,
           0,
           0,
           24,
           6,
           6,
           33,
           10,
           0,
           0
          ],
          [
           54,
           44,
           0,
           4,
           0,
           0,
           0,
           40,
           13,
           14,
           0,
           0,
           0,
           0,
           30,
           38,
           48,
           4,
           16,
           0,
           0,
           46,
           0,
           28,
           4,
           0,
           0,
           0,
           0,
           0,
           0
          ],
          [
           10,
           6,
           14,
           0,
           60,
           0,
           0,
           0,
           6,
           0,
           39,
           8,
           0,
           0,
           9,
           2,
           0,
           20,
           12,
           0,
           0,
           12,
           5,
           6,
           28,
           12,
           0,
           0,
           0,
           0,
           48
          ],
          [
           0,
           0,
           0,
           0,
           58,
           12,
           4,
           4,
           53,
           0,
           16,
           32,
           24,
           63,
           24,
           0,
           0,
           0,
           26,
           9,
           23,
           2,
           20,
           0,
           0,
           18,
           8,
           12,
           31,
           0,
           0
          ],
          [
           0,
           10,
           105,
           20,
           13,
           24,
           30,
           0,
           0,
           15,
           12,
           36,
           12,
           24,
           0,
           0,
           17,
           1,
           23,
           0,
           45,
           0,
           0,
           70,
           13,
           36,
           38,
           14,
           0,
           4,
           66
          ],
          [
           23,
           32,
           52,
           31,
           0,
           0,
           14,
           12,
           18,
           0,
           0,
           0,
           0,
           16,
           5,
           34,
           20,
           42,
           0,
           0,
           10,
           26,
           36,
           0,
           12,
           0,
           0,
           0,
           8,
           26,
           0
          ],
          [
           6,
           38,
           0,
           0,
           12,
           29,
           6,
           12,
           52,
           0,
           0,
           40,
           4,
           15,
           0,
           16,
           0,
           0,
           0,
           0,
           66,
           4,
           10,
           0,
           0,
           8,
           9,
           22,
           0,
           5,
           1
          ],
          [
           0,
           0,
           0,
           0,
           0,
           0,
           0,
           0,
           0,
           0,
           0,
           0,
           0,
           0,
           0,
           0,
           0,
           0,
           0,
           0,
           0,
           0,
           0,
           0,
           0,
           0,
           0,
           0,
           0,
           0,
           12
          ],
          [
           26,
           0,
           20,
           0,
           0,
           28,
           4,
           10,
           4,
           1,
           0,
           0,
           22,
           2,
           11,
           35,
           0,
           0,
           0,
           18,
           0,
           5,
           16,
           110,
           0,
           0,
           0,
           55,
           21,
           4,
           0
          ],
          [
           18,
           0,
           0,
           22,
           27,
           2,
           20,
           8,
           0,
           0,
           84,
           8,
           32,
           0,
           4,
           0,
           0,
           0,
           24,
           52,
           28,
           26,
           0,
           0,
           80,
           12,
           20,
           4,
           28,
           0,
           0
          ],
          [
           50,
           0,
           6,
           0,
           0,
           0,
           0,
           42,
           0,
           0,
           4,
           64,
           0,
           0,
           78,
           16,
           6,
           2,
           59,
           0,
           0,
           68,
           26,
           20,
           28,
           78,
           0,
           0,
           28,
           32,
           0
          ],
          [
           70,
           12,
           38,
           0,
           0,
           14,
           25,
           40,
           8,
           8,
           0,
           0,
           50,
           9,
           78,
           34,
           34,
           0,
           0,
           26,
           16,
           4,
           22,
           0,
           0,
           0,
           48,
           0,
           0,
           0,
           0
          ]
         ]
        }
       ],
       "layout": {
        "height": 500,
        "shapes": [
         {
          "line": {
           "color": "grey",
           "width": 1
          },
          "type": "rect",
          "x0": 0.5,
          "x1": 1.5,
          "y0": 0.5,
          "y1": 1.5
         },
         {
          "line": {
           "color": "grey",
           "width": 1
          },
          "type": "rect",
          "x0": 1.5,
          "x1": 2.5,
          "y0": 0.5,
          "y1": 1.5
         },
         {
          "line": {
           "color": "grey",
           "width": 1
          },
          "type": "rect",
          "x0": 2.5,
          "x1": 3.5,
          "y0": 0.5,
          "y1": 1.5
         },
         {
          "line": {
           "color": "grey",
           "width": 1
          },
          "type": "rect",
          "x0": 3.5,
          "x1": 4.5,
          "y0": 0.5,
          "y1": 1.5
         },
         {
          "line": {
           "color": "grey",
           "width": 1
          },
          "type": "rect",
          "x0": 4.5,
          "x1": 5.5,
          "y0": 0.5,
          "y1": 1.5
         },
         {
          "line": {
           "color": "grey",
           "width": 1
          },
          "type": "rect",
          "x0": 5.5,
          "x1": 6.5,
          "y0": 0.5,
          "y1": 1.5
         },
         {
          "line": {
           "color": "grey",
           "width": 1
          },
          "type": "rect",
          "x0": 6.5,
          "x1": 7.5,
          "y0": 0.5,
          "y1": 1.5
         },
         {
          "line": {
           "color": "grey",
           "width": 1
          },
          "type": "rect",
          "x0": 7.5,
          "x1": 8.5,
          "y0": 0.5,
          "y1": 1.5
         },
         {
          "line": {
           "color": "grey",
           "width": 1
          },
          "type": "rect",
          "x0": 8.5,
          "x1": 9.5,
          "y0": 0.5,
          "y1": 1.5
         },
         {
          "line": {
           "color": "grey",
           "width": 1
          },
          "type": "rect",
          "x0": 9.5,
          "x1": 10.5,
          "y0": 0.5,
          "y1": 1.5
         },
         {
          "line": {
           "color": "grey",
           "width": 1
          },
          "type": "rect",
          "x0": 10.5,
          "x1": 11.5,
          "y0": 0.5,
          "y1": 1.5
         },
         {
          "line": {
           "color": "grey",
           "width": 1
          },
          "type": "rect",
          "x0": 11.5,
          "x1": 12.5,
          "y0": 0.5,
          "y1": 1.5
         },
         {
          "line": {
           "color": "grey",
           "width": 1
          },
          "type": "rect",
          "x0": 12.5,
          "x1": 13.5,
          "y0": 0.5,
          "y1": 1.5
         },
         {
          "line": {
           "color": "grey",
           "width": 1
          },
          "type": "rect",
          "x0": 13.5,
          "x1": 14.5,
          "y0": 0.5,
          "y1": 1.5
         },
         {
          "line": {
           "color": "grey",
           "width": 1
          },
          "type": "rect",
          "x0": 14.5,
          "x1": 15.5,
          "y0": 0.5,
          "y1": 1.5
         },
         {
          "line": {
           "color": "grey",
           "width": 1
          },
          "type": "rect",
          "x0": 15.5,
          "x1": 16.5,
          "y0": 0.5,
          "y1": 1.5
         },
         {
          "line": {
           "color": "grey",
           "width": 1
          },
          "type": "rect",
          "x0": 16.5,
          "x1": 17.5,
          "y0": 0.5,
          "y1": 1.5
         },
         {
          "line": {
           "color": "grey",
           "width": 1
          },
          "type": "rect",
          "x0": 17.5,
          "x1": 18.5,
          "y0": 0.5,
          "y1": 1.5
         },
         {
          "line": {
           "color": "grey",
           "width": 1
          },
          "type": "rect",
          "x0": 18.5,
          "x1": 19.5,
          "y0": 0.5,
          "y1": 1.5
         },
         {
          "line": {
           "color": "grey",
           "width": 1
          },
          "type": "rect",
          "x0": 19.5,
          "x1": 20.5,
          "y0": 0.5,
          "y1": 1.5
         },
         {
          "line": {
           "color": "grey",
           "width": 1
          },
          "type": "rect",
          "x0": 20.5,
          "x1": 21.5,
          "y0": 0.5,
          "y1": 1.5
         },
         {
          "line": {
           "color": "grey",
           "width": 1
          },
          "type": "rect",
          "x0": 21.5,
          "x1": 22.5,
          "y0": 0.5,
          "y1": 1.5
         },
         {
          "line": {
           "color": "grey",
           "width": 1
          },
          "type": "rect",
          "x0": 22.5,
          "x1": 23.5,
          "y0": 0.5,
          "y1": 1.5
         },
         {
          "line": {
           "color": "grey",
           "width": 1
          },
          "type": "rect",
          "x0": 23.5,
          "x1": 24.5,
          "y0": 0.5,
          "y1": 1.5
         },
         {
          "line": {
           "color": "grey",
           "width": 1
          },
          "type": "rect",
          "x0": 24.5,
          "x1": 25.5,
          "y0": 0.5,
          "y1": 1.5
         },
         {
          "line": {
           "color": "grey",
           "width": 1
          },
          "type": "rect",
          "x0": 25.5,
          "x1": 26.5,
          "y0": 0.5,
          "y1": 1.5
         },
         {
          "line": {
           "color": "grey",
           "width": 1
          },
          "type": "rect",
          "x0": 26.5,
          "x1": 27.5,
          "y0": 0.5,
          "y1": 1.5
         },
         {
          "line": {
           "color": "grey",
           "width": 1
          },
          "type": "rect",
          "x0": 27.5,
          "x1": 28.5,
          "y0": 0.5,
          "y1": 1.5
         },
         {
          "line": {
           "color": "grey",
           "width": 1
          },
          "type": "rect",
          "x0": 28.5,
          "x1": 29.5,
          "y0": 0.5,
          "y1": 1.5
         },
         {
          "line": {
           "color": "grey",
           "width": 1
          },
          "type": "rect",
          "x0": 29.5,
          "x1": 30.5,
          "y0": 0.5,
          "y1": 1.5
         },
         {
          "line": {
           "color": "grey",
           "width": 1
          },
          "type": "rect",
          "x0": 30.5,
          "x1": 31.5,
          "y0": 0.5,
          "y1": 1.5
         },
         {
          "line": {
           "color": "grey",
           "width": 1
          },
          "type": "rect",
          "x0": 0.5,
          "x1": 1.5,
          "y0": 1.5,
          "y1": 2.5
         },
         {
          "line": {
           "color": "grey",
           "width": 1
          },
          "type": "rect",
          "x0": 1.5,
          "x1": 2.5,
          "y0": 1.5,
          "y1": 2.5
         },
         {
          "line": {
           "color": "grey",
           "width": 1
          },
          "type": "rect",
          "x0": 2.5,
          "x1": 3.5,
          "y0": 1.5,
          "y1": 2.5
         },
         {
          "line": {
           "color": "grey",
           "width": 1
          },
          "type": "rect",
          "x0": 3.5,
          "x1": 4.5,
          "y0": 1.5,
          "y1": 2.5
         },
         {
          "line": {
           "color": "grey",
           "width": 1
          },
          "type": "rect",
          "x0": 4.5,
          "x1": 5.5,
          "y0": 1.5,
          "y1": 2.5
         },
         {
          "line": {
           "color": "grey",
           "width": 1
          },
          "type": "rect",
          "x0": 5.5,
          "x1": 6.5,
          "y0": 1.5,
          "y1": 2.5
         },
         {
          "line": {
           "color": "grey",
           "width": 1
          },
          "type": "rect",
          "x0": 6.5,
          "x1": 7.5,
          "y0": 1.5,
          "y1": 2.5
         },
         {
          "line": {
           "color": "grey",
           "width": 1
          },
          "type": "rect",
          "x0": 7.5,
          "x1": 8.5,
          "y0": 1.5,
          "y1": 2.5
         },
         {
          "line": {
           "color": "grey",
           "width": 1
          },
          "type": "rect",
          "x0": 8.5,
          "x1": 9.5,
          "y0": 1.5,
          "y1": 2.5
         },
         {
          "line": {
           "color": "grey",
           "width": 1
          },
          "type": "rect",
          "x0": 9.5,
          "x1": 10.5,
          "y0": 1.5,
          "y1": 2.5
         },
         {
          "line": {
           "color": "grey",
           "width": 1
          },
          "type": "rect",
          "x0": 10.5,
          "x1": 11.5,
          "y0": 1.5,
          "y1": 2.5
         },
         {
          "line": {
           "color": "grey",
           "width": 1
          },
          "type": "rect",
          "x0": 11.5,
          "x1": 12.5,
          "y0": 1.5,
          "y1": 2.5
         },
         {
          "line": {
           "color": "grey",
           "width": 1
          },
          "type": "rect",
          "x0": 12.5,
          "x1": 13.5,
          "y0": 1.5,
          "y1": 2.5
         },
         {
          "line": {
           "color": "grey",
           "width": 1
          },
          "type": "rect",
          "x0": 13.5,
          "x1": 14.5,
          "y0": 1.5,
          "y1": 2.5
         },
         {
          "line": {
           "color": "grey",
           "width": 1
          },
          "type": "rect",
          "x0": 14.5,
          "x1": 15.5,
          "y0": 1.5,
          "y1": 2.5
         },
         {
          "line": {
           "color": "grey",
           "width": 1
          },
          "type": "rect",
          "x0": 15.5,
          "x1": 16.5,
          "y0": 1.5,
          "y1": 2.5
         },
         {
          "line": {
           "color": "grey",
           "width": 1
          },
          "type": "rect",
          "x0": 16.5,
          "x1": 17.5,
          "y0": 1.5,
          "y1": 2.5
         },
         {
          "line": {
           "color": "grey",
           "width": 1
          },
          "type": "rect",
          "x0": 17.5,
          "x1": 18.5,
          "y0": 1.5,
          "y1": 2.5
         },
         {
          "line": {
           "color": "grey",
           "width": 1
          },
          "type": "rect",
          "x0": 18.5,
          "x1": 19.5,
          "y0": 1.5,
          "y1": 2.5
         },
         {
          "line": {
           "color": "grey",
           "width": 1
          },
          "type": "rect",
          "x0": 19.5,
          "x1": 20.5,
          "y0": 1.5,
          "y1": 2.5
         },
         {
          "line": {
           "color": "grey",
           "width": 1
          },
          "type": "rect",
          "x0": 20.5,
          "x1": 21.5,
          "y0": 1.5,
          "y1": 2.5
         },
         {
          "line": {
           "color": "grey",
           "width": 1
          },
          "type": "rect",
          "x0": 21.5,
          "x1": 22.5,
          "y0": 1.5,
          "y1": 2.5
         },
         {
          "line": {
           "color": "grey",
           "width": 1
          },
          "type": "rect",
          "x0": 22.5,
          "x1": 23.5,
          "y0": 1.5,
          "y1": 2.5
         },
         {
          "line": {
           "color": "grey",
           "width": 1
          },
          "type": "rect",
          "x0": 23.5,
          "x1": 24.5,
          "y0": 1.5,
          "y1": 2.5
         },
         {
          "line": {
           "color": "grey",
           "width": 1
          },
          "type": "rect",
          "x0": 24.5,
          "x1": 25.5,
          "y0": 1.5,
          "y1": 2.5
         },
         {
          "line": {
           "color": "grey",
           "width": 1
          },
          "type": "rect",
          "x0": 25.5,
          "x1": 26.5,
          "y0": 1.5,
          "y1": 2.5
         },
         {
          "line": {
           "color": "grey",
           "width": 1
          },
          "type": "rect",
          "x0": 26.5,
          "x1": 27.5,
          "y0": 1.5,
          "y1": 2.5
         },
         {
          "line": {
           "color": "grey",
           "width": 1
          },
          "type": "rect",
          "x0": 27.5,
          "x1": 28.5,
          "y0": 1.5,
          "y1": 2.5
         },
         {
          "line": {
           "color": "grey",
           "width": 1
          },
          "type": "rect",
          "x0": 28.5,
          "x1": 29.5,
          "y0": 1.5,
          "y1": 2.5
         },
         {
          "line": {
           "color": "grey",
           "width": 1
          },
          "type": "rect",
          "x0": 29.5,
          "x1": 30.5,
          "y0": 1.5,
          "y1": 2.5
         },
         {
          "line": {
           "color": "grey",
           "width": 1
          },
          "type": "rect",
          "x0": 30.5,
          "x1": 31.5,
          "y0": 1.5,
          "y1": 2.5
         },
         {
          "line": {
           "color": "grey",
           "width": 1
          },
          "type": "rect",
          "x0": 0.5,
          "x1": 1.5,
          "y0": 2.5,
          "y1": 3.5
         },
         {
          "line": {
           "color": "grey",
           "width": 1
          },
          "type": "rect",
          "x0": 1.5,
          "x1": 2.5,
          "y0": 2.5,
          "y1": 3.5
         },
         {
          "line": {
           "color": "grey",
           "width": 1
          },
          "type": "rect",
          "x0": 2.5,
          "x1": 3.5,
          "y0": 2.5,
          "y1": 3.5
         },
         {
          "line": {
           "color": "grey",
           "width": 1
          },
          "type": "rect",
          "x0": 3.5,
          "x1": 4.5,
          "y0": 2.5,
          "y1": 3.5
         },
         {
          "line": {
           "color": "grey",
           "width": 1
          },
          "type": "rect",
          "x0": 4.5,
          "x1": 5.5,
          "y0": 2.5,
          "y1": 3.5
         },
         {
          "line": {
           "color": "grey",
           "width": 1
          },
          "type": "rect",
          "x0": 5.5,
          "x1": 6.5,
          "y0": 2.5,
          "y1": 3.5
         },
         {
          "line": {
           "color": "grey",
           "width": 1
          },
          "type": "rect",
          "x0": 6.5,
          "x1": 7.5,
          "y0": 2.5,
          "y1": 3.5
         },
         {
          "line": {
           "color": "grey",
           "width": 1
          },
          "type": "rect",
          "x0": 7.5,
          "x1": 8.5,
          "y0": 2.5,
          "y1": 3.5
         },
         {
          "line": {
           "color": "grey",
           "width": 1
          },
          "type": "rect",
          "x0": 8.5,
          "x1": 9.5,
          "y0": 2.5,
          "y1": 3.5
         },
         {
          "line": {
           "color": "grey",
           "width": 1
          },
          "type": "rect",
          "x0": 9.5,
          "x1": 10.5,
          "y0": 2.5,
          "y1": 3.5
         },
         {
          "line": {
           "color": "grey",
           "width": 1
          },
          "type": "rect",
          "x0": 10.5,
          "x1": 11.5,
          "y0": 2.5,
          "y1": 3.5
         },
         {
          "line": {
           "color": "grey",
           "width": 1
          },
          "type": "rect",
          "x0": 11.5,
          "x1": 12.5,
          "y0": 2.5,
          "y1": 3.5
         },
         {
          "line": {
           "color": "grey",
           "width": 1
          },
          "type": "rect",
          "x0": 12.5,
          "x1": 13.5,
          "y0": 2.5,
          "y1": 3.5
         },
         {
          "line": {
           "color": "grey",
           "width": 1
          },
          "type": "rect",
          "x0": 13.5,
          "x1": 14.5,
          "y0": 2.5,
          "y1": 3.5
         },
         {
          "line": {
           "color": "grey",
           "width": 1
          },
          "type": "rect",
          "x0": 14.5,
          "x1": 15.5,
          "y0": 2.5,
          "y1": 3.5
         },
         {
          "line": {
           "color": "grey",
           "width": 1
          },
          "type": "rect",
          "x0": 15.5,
          "x1": 16.5,
          "y0": 2.5,
          "y1": 3.5
         },
         {
          "line": {
           "color": "grey",
           "width": 1
          },
          "type": "rect",
          "x0": 16.5,
          "x1": 17.5,
          "y0": 2.5,
          "y1": 3.5
         },
         {
          "line": {
           "color": "grey",
           "width": 1
          },
          "type": "rect",
          "x0": 17.5,
          "x1": 18.5,
          "y0": 2.5,
          "y1": 3.5
         },
         {
          "line": {
           "color": "grey",
           "width": 1
          },
          "type": "rect",
          "x0": 18.5,
          "x1": 19.5,
          "y0": 2.5,
          "y1": 3.5
         },
         {
          "line": {
           "color": "grey",
           "width": 1
          },
          "type": "rect",
          "x0": 19.5,
          "x1": 20.5,
          "y0": 2.5,
          "y1": 3.5
         },
         {
          "line": {
           "color": "grey",
           "width": 1
          },
          "type": "rect",
          "x0": 20.5,
          "x1": 21.5,
          "y0": 2.5,
          "y1": 3.5
         },
         {
          "line": {
           "color": "grey",
           "width": 1
          },
          "type": "rect",
          "x0": 21.5,
          "x1": 22.5,
          "y0": 2.5,
          "y1": 3.5
         },
         {
          "line": {
           "color": "grey",
           "width": 1
          },
          "type": "rect",
          "x0": 22.5,
          "x1": 23.5,
          "y0": 2.5,
          "y1": 3.5
         },
         {
          "line": {
           "color": "grey",
           "width": 1
          },
          "type": "rect",
          "x0": 23.5,
          "x1": 24.5,
          "y0": 2.5,
          "y1": 3.5
         },
         {
          "line": {
           "color": "grey",
           "width": 1
          },
          "type": "rect",
          "x0": 24.5,
          "x1": 25.5,
          "y0": 2.5,
          "y1": 3.5
         },
         {
          "line": {
           "color": "grey",
           "width": 1
          },
          "type": "rect",
          "x0": 25.5,
          "x1": 26.5,
          "y0": 2.5,
          "y1": 3.5
         },
         {
          "line": {
           "color": "grey",
           "width": 1
          },
          "type": "rect",
          "x0": 26.5,
          "x1": 27.5,
          "y0": 2.5,
          "y1": 3.5
         },
         {
          "line": {
           "color": "grey",
           "width": 1
          },
          "type": "rect",
          "x0": 27.5,
          "x1": 28.5,
          "y0": 2.5,
          "y1": 3.5
         },
         {
          "line": {
           "color": "grey",
           "width": 1
          },
          "type": "rect",
          "x0": 28.5,
          "x1": 29.5,
          "y0": 2.5,
          "y1": 3.5
         },
         {
          "line": {
           "color": "grey",
           "width": 1
          },
          "type": "rect",
          "x0": 29.5,
          "x1": 30.5,
          "y0": 2.5,
          "y1": 3.5
         },
         {
          "line": {
           "color": "grey",
           "width": 1
          },
          "type": "rect",
          "x0": 30.5,
          "x1": 31.5,
          "y0": 2.5,
          "y1": 3.5
         },
         {
          "line": {
           "color": "grey",
           "width": 1
          },
          "type": "rect",
          "x0": 0.5,
          "x1": 1.5,
          "y0": 3.5,
          "y1": 4.5
         },
         {
          "line": {
           "color": "grey",
           "width": 1
          },
          "type": "rect",
          "x0": 1.5,
          "x1": 2.5,
          "y0": 3.5,
          "y1": 4.5
         },
         {
          "line": {
           "color": "grey",
           "width": 1
          },
          "type": "rect",
          "x0": 2.5,
          "x1": 3.5,
          "y0": 3.5,
          "y1": 4.5
         },
         {
          "line": {
           "color": "grey",
           "width": 1
          },
          "type": "rect",
          "x0": 3.5,
          "x1": 4.5,
          "y0": 3.5,
          "y1": 4.5
         },
         {
          "line": {
           "color": "grey",
           "width": 1
          },
          "type": "rect",
          "x0": 4.5,
          "x1": 5.5,
          "y0": 3.5,
          "y1": 4.5
         },
         {
          "line": {
           "color": "grey",
           "width": 1
          },
          "type": "rect",
          "x0": 5.5,
          "x1": 6.5,
          "y0": 3.5,
          "y1": 4.5
         },
         {
          "line": {
           "color": "grey",
           "width": 1
          },
          "type": "rect",
          "x0": 6.5,
          "x1": 7.5,
          "y0": 3.5,
          "y1": 4.5
         },
         {
          "line": {
           "color": "grey",
           "width": 1
          },
          "type": "rect",
          "x0": 7.5,
          "x1": 8.5,
          "y0": 3.5,
          "y1": 4.5
         },
         {
          "line": {
           "color": "grey",
           "width": 1
          },
          "type": "rect",
          "x0": 8.5,
          "x1": 9.5,
          "y0": 3.5,
          "y1": 4.5
         },
         {
          "line": {
           "color": "grey",
           "width": 1
          },
          "type": "rect",
          "x0": 9.5,
          "x1": 10.5,
          "y0": 3.5,
          "y1": 4.5
         },
         {
          "line": {
           "color": "grey",
           "width": 1
          },
          "type": "rect",
          "x0": 10.5,
          "x1": 11.5,
          "y0": 3.5,
          "y1": 4.5
         },
         {
          "line": {
           "color": "grey",
           "width": 1
          },
          "type": "rect",
          "x0": 11.5,
          "x1": 12.5,
          "y0": 3.5,
          "y1": 4.5
         },
         {
          "line": {
           "color": "grey",
           "width": 1
          },
          "type": "rect",
          "x0": 12.5,
          "x1": 13.5,
          "y0": 3.5,
          "y1": 4.5
         },
         {
          "line": {
           "color": "grey",
           "width": 1
          },
          "type": "rect",
          "x0": 13.5,
          "x1": 14.5,
          "y0": 3.5,
          "y1": 4.5
         },
         {
          "line": {
           "color": "grey",
           "width": 1
          },
          "type": "rect",
          "x0": 14.5,
          "x1": 15.5,
          "y0": 3.5,
          "y1": 4.5
         },
         {
          "line": {
           "color": "grey",
           "width": 1
          },
          "type": "rect",
          "x0": 15.5,
          "x1": 16.5,
          "y0": 3.5,
          "y1": 4.5
         },
         {
          "line": {
           "color": "grey",
           "width": 1
          },
          "type": "rect",
          "x0": 16.5,
          "x1": 17.5,
          "y0": 3.5,
          "y1": 4.5
         },
         {
          "line": {
           "color": "grey",
           "width": 1
          },
          "type": "rect",
          "x0": 17.5,
          "x1": 18.5,
          "y0": 3.5,
          "y1": 4.5
         },
         {
          "line": {
           "color": "grey",
           "width": 1
          },
          "type": "rect",
          "x0": 18.5,
          "x1": 19.5,
          "y0": 3.5,
          "y1": 4.5
         },
         {
          "line": {
           "color": "grey",
           "width": 1
          },
          "type": "rect",
          "x0": 19.5,
          "x1": 20.5,
          "y0": 3.5,
          "y1": 4.5
         },
         {
          "line": {
           "color": "grey",
           "width": 1
          },
          "type": "rect",
          "x0": 20.5,
          "x1": 21.5,
          "y0": 3.5,
          "y1": 4.5
         },
         {
          "line": {
           "color": "grey",
           "width": 1
          },
          "type": "rect",
          "x0": 21.5,
          "x1": 22.5,
          "y0": 3.5,
          "y1": 4.5
         },
         {
          "line": {
           "color": "grey",
           "width": 1
          },
          "type": "rect",
          "x0": 22.5,
          "x1": 23.5,
          "y0": 3.5,
          "y1": 4.5
         },
         {
          "line": {
           "color": "grey",
           "width": 1
          },
          "type": "rect",
          "x0": 23.5,
          "x1": 24.5,
          "y0": 3.5,
          "y1": 4.5
         },
         {
          "line": {
           "color": "grey",
           "width": 1
          },
          "type": "rect",
          "x0": 24.5,
          "x1": 25.5,
          "y0": 3.5,
          "y1": 4.5
         },
         {
          "line": {
           "color": "grey",
           "width": 1
          },
          "type": "rect",
          "x0": 25.5,
          "x1": 26.5,
          "y0": 3.5,
          "y1": 4.5
         },
         {
          "line": {
           "color": "grey",
           "width": 1
          },
          "type": "rect",
          "x0": 26.5,
          "x1": 27.5,
          "y0": 3.5,
          "y1": 4.5
         },
         {
          "line": {
           "color": "grey",
           "width": 1
          },
          "type": "rect",
          "x0": 27.5,
          "x1": 28.5,
          "y0": 3.5,
          "y1": 4.5
         },
         {
          "line": {
           "color": "grey",
           "width": 1
          },
          "type": "rect",
          "x0": 28.5,
          "x1": 29.5,
          "y0": 3.5,
          "y1": 4.5
         },
         {
          "line": {
           "color": "grey",
           "width": 1
          },
          "type": "rect",
          "x0": 29.5,
          "x1": 30.5,
          "y0": 3.5,
          "y1": 4.5
         },
         {
          "line": {
           "color": "grey",
           "width": 1
          },
          "type": "rect",
          "x0": 30.5,
          "x1": 31.5,
          "y0": 3.5,
          "y1": 4.5
         },
         {
          "line": {
           "color": "grey",
           "width": 1
          },
          "type": "rect",
          "x0": 0.5,
          "x1": 1.5,
          "y0": 4.5,
          "y1": 5.5
         },
         {
          "line": {
           "color": "grey",
           "width": 1
          },
          "type": "rect",
          "x0": 1.5,
          "x1": 2.5,
          "y0": 4.5,
          "y1": 5.5
         },
         {
          "line": {
           "color": "grey",
           "width": 1
          },
          "type": "rect",
          "x0": 2.5,
          "x1": 3.5,
          "y0": 4.5,
          "y1": 5.5
         },
         {
          "line": {
           "color": "grey",
           "width": 1
          },
          "type": "rect",
          "x0": 3.5,
          "x1": 4.5,
          "y0": 4.5,
          "y1": 5.5
         },
         {
          "line": {
           "color": "grey",
           "width": 1
          },
          "type": "rect",
          "x0": 4.5,
          "x1": 5.5,
          "y0": 4.5,
          "y1": 5.5
         },
         {
          "line": {
           "color": "grey",
           "width": 1
          },
          "type": "rect",
          "x0": 5.5,
          "x1": 6.5,
          "y0": 4.5,
          "y1": 5.5
         },
         {
          "line": {
           "color": "grey",
           "width": 1
          },
          "type": "rect",
          "x0": 6.5,
          "x1": 7.5,
          "y0": 4.5,
          "y1": 5.5
         },
         {
          "line": {
           "color": "grey",
           "width": 1
          },
          "type": "rect",
          "x0": 7.5,
          "x1": 8.5,
          "y0": 4.5,
          "y1": 5.5
         },
         {
          "line": {
           "color": "grey",
           "width": 1
          },
          "type": "rect",
          "x0": 8.5,
          "x1": 9.5,
          "y0": 4.5,
          "y1": 5.5
         },
         {
          "line": {
           "color": "grey",
           "width": 1
          },
          "type": "rect",
          "x0": 9.5,
          "x1": 10.5,
          "y0": 4.5,
          "y1": 5.5
         },
         {
          "line": {
           "color": "grey",
           "width": 1
          },
          "type": "rect",
          "x0": 10.5,
          "x1": 11.5,
          "y0": 4.5,
          "y1": 5.5
         },
         {
          "line": {
           "color": "grey",
           "width": 1
          },
          "type": "rect",
          "x0": 11.5,
          "x1": 12.5,
          "y0": 4.5,
          "y1": 5.5
         },
         {
          "line": {
           "color": "grey",
           "width": 1
          },
          "type": "rect",
          "x0": 12.5,
          "x1": 13.5,
          "y0": 4.5,
          "y1": 5.5
         },
         {
          "line": {
           "color": "grey",
           "width": 1
          },
          "type": "rect",
          "x0": 13.5,
          "x1": 14.5,
          "y0": 4.5,
          "y1": 5.5
         },
         {
          "line": {
           "color": "grey",
           "width": 1
          },
          "type": "rect",
          "x0": 14.5,
          "x1": 15.5,
          "y0": 4.5,
          "y1": 5.5
         },
         {
          "line": {
           "color": "grey",
           "width": 1
          },
          "type": "rect",
          "x0": 15.5,
          "x1": 16.5,
          "y0": 4.5,
          "y1": 5.5
         },
         {
          "line": {
           "color": "grey",
           "width": 1
          },
          "type": "rect",
          "x0": 16.5,
          "x1": 17.5,
          "y0": 4.5,
          "y1": 5.5
         },
         {
          "line": {
           "color": "grey",
           "width": 1
          },
          "type": "rect",
          "x0": 17.5,
          "x1": 18.5,
          "y0": 4.5,
          "y1": 5.5
         },
         {
          "line": {
           "color": "grey",
           "width": 1
          },
          "type": "rect",
          "x0": 18.5,
          "x1": 19.5,
          "y0": 4.5,
          "y1": 5.5
         },
         {
          "line": {
           "color": "grey",
           "width": 1
          },
          "type": "rect",
          "x0": 19.5,
          "x1": 20.5,
          "y0": 4.5,
          "y1": 5.5
         },
         {
          "line": {
           "color": "grey",
           "width": 1
          },
          "type": "rect",
          "x0": 20.5,
          "x1": 21.5,
          "y0": 4.5,
          "y1": 5.5
         },
         {
          "line": {
           "color": "grey",
           "width": 1
          },
          "type": "rect",
          "x0": 21.5,
          "x1": 22.5,
          "y0": 4.5,
          "y1": 5.5
         },
         {
          "line": {
           "color": "grey",
           "width": 1
          },
          "type": "rect",
          "x0": 22.5,
          "x1": 23.5,
          "y0": 4.5,
          "y1": 5.5
         },
         {
          "line": {
           "color": "grey",
           "width": 1
          },
          "type": "rect",
          "x0": 23.5,
          "x1": 24.5,
          "y0": 4.5,
          "y1": 5.5
         },
         {
          "line": {
           "color": "grey",
           "width": 1
          },
          "type": "rect",
          "x0": 24.5,
          "x1": 25.5,
          "y0": 4.5,
          "y1": 5.5
         },
         {
          "line": {
           "color": "grey",
           "width": 1
          },
          "type": "rect",
          "x0": 25.5,
          "x1": 26.5,
          "y0": 4.5,
          "y1": 5.5
         },
         {
          "line": {
           "color": "grey",
           "width": 1
          },
          "type": "rect",
          "x0": 26.5,
          "x1": 27.5,
          "y0": 4.5,
          "y1": 5.5
         },
         {
          "line": {
           "color": "grey",
           "width": 1
          },
          "type": "rect",
          "x0": 27.5,
          "x1": 28.5,
          "y0": 4.5,
          "y1": 5.5
         },
         {
          "line": {
           "color": "grey",
           "width": 1
          },
          "type": "rect",
          "x0": 28.5,
          "x1": 29.5,
          "y0": 4.5,
          "y1": 5.5
         },
         {
          "line": {
           "color": "grey",
           "width": 1
          },
          "type": "rect",
          "x0": 29.5,
          "x1": 30.5,
          "y0": 4.5,
          "y1": 5.5
         },
         {
          "line": {
           "color": "grey",
           "width": 1
          },
          "type": "rect",
          "x0": 30.5,
          "x1": 31.5,
          "y0": 4.5,
          "y1": 5.5
         },
         {
          "line": {
           "color": "grey",
           "width": 1
          },
          "type": "rect",
          "x0": 0.5,
          "x1": 1.5,
          "y0": 5.5,
          "y1": 6.5
         },
         {
          "line": {
           "color": "grey",
           "width": 1
          },
          "type": "rect",
          "x0": 1.5,
          "x1": 2.5,
          "y0": 5.5,
          "y1": 6.5
         },
         {
          "line": {
           "color": "grey",
           "width": 1
          },
          "type": "rect",
          "x0": 2.5,
          "x1": 3.5,
          "y0": 5.5,
          "y1": 6.5
         },
         {
          "line": {
           "color": "grey",
           "width": 1
          },
          "type": "rect",
          "x0": 3.5,
          "x1": 4.5,
          "y0": 5.5,
          "y1": 6.5
         },
         {
          "line": {
           "color": "grey",
           "width": 1
          },
          "type": "rect",
          "x0": 4.5,
          "x1": 5.5,
          "y0": 5.5,
          "y1": 6.5
         },
         {
          "line": {
           "color": "grey",
           "width": 1
          },
          "type": "rect",
          "x0": 5.5,
          "x1": 6.5,
          "y0": 5.5,
          "y1": 6.5
         },
         {
          "line": {
           "color": "grey",
           "width": 1
          },
          "type": "rect",
          "x0": 6.5,
          "x1": 7.5,
          "y0": 5.5,
          "y1": 6.5
         },
         {
          "line": {
           "color": "grey",
           "width": 1
          },
          "type": "rect",
          "x0": 7.5,
          "x1": 8.5,
          "y0": 5.5,
          "y1": 6.5
         },
         {
          "line": {
           "color": "grey",
           "width": 1
          },
          "type": "rect",
          "x0": 8.5,
          "x1": 9.5,
          "y0": 5.5,
          "y1": 6.5
         },
         {
          "line": {
           "color": "grey",
           "width": 1
          },
          "type": "rect",
          "x0": 9.5,
          "x1": 10.5,
          "y0": 5.5,
          "y1": 6.5
         },
         {
          "line": {
           "color": "grey",
           "width": 1
          },
          "type": "rect",
          "x0": 10.5,
          "x1": 11.5,
          "y0": 5.5,
          "y1": 6.5
         },
         {
          "line": {
           "color": "grey",
           "width": 1
          },
          "type": "rect",
          "x0": 11.5,
          "x1": 12.5,
          "y0": 5.5,
          "y1": 6.5
         },
         {
          "line": {
           "color": "grey",
           "width": 1
          },
          "type": "rect",
          "x0": 12.5,
          "x1": 13.5,
          "y0": 5.5,
          "y1": 6.5
         },
         {
          "line": {
           "color": "grey",
           "width": 1
          },
          "type": "rect",
          "x0": 13.5,
          "x1": 14.5,
          "y0": 5.5,
          "y1": 6.5
         },
         {
          "line": {
           "color": "grey",
           "width": 1
          },
          "type": "rect",
          "x0": 14.5,
          "x1": 15.5,
          "y0": 5.5,
          "y1": 6.5
         },
         {
          "line": {
           "color": "grey",
           "width": 1
          },
          "type": "rect",
          "x0": 15.5,
          "x1": 16.5,
          "y0": 5.5,
          "y1": 6.5
         },
         {
          "line": {
           "color": "grey",
           "width": 1
          },
          "type": "rect",
          "x0": 16.5,
          "x1": 17.5,
          "y0": 5.5,
          "y1": 6.5
         },
         {
          "line": {
           "color": "grey",
           "width": 1
          },
          "type": "rect",
          "x0": 17.5,
          "x1": 18.5,
          "y0": 5.5,
          "y1": 6.5
         },
         {
          "line": {
           "color": "grey",
           "width": 1
          },
          "type": "rect",
          "x0": 18.5,
          "x1": 19.5,
          "y0": 5.5,
          "y1": 6.5
         },
         {
          "line": {
           "color": "grey",
           "width": 1
          },
          "type": "rect",
          "x0": 19.5,
          "x1": 20.5,
          "y0": 5.5,
          "y1": 6.5
         },
         {
          "line": {
           "color": "grey",
           "width": 1
          },
          "type": "rect",
          "x0": 20.5,
          "x1": 21.5,
          "y0": 5.5,
          "y1": 6.5
         },
         {
          "line": {
           "color": "grey",
           "width": 1
          },
          "type": "rect",
          "x0": 21.5,
          "x1": 22.5,
          "y0": 5.5,
          "y1": 6.5
         },
         {
          "line": {
           "color": "grey",
           "width": 1
          },
          "type": "rect",
          "x0": 22.5,
          "x1": 23.5,
          "y0": 5.5,
          "y1": 6.5
         },
         {
          "line": {
           "color": "grey",
           "width": 1
          },
          "type": "rect",
          "x0": 23.5,
          "x1": 24.5,
          "y0": 5.5,
          "y1": 6.5
         },
         {
          "line": {
           "color": "grey",
           "width": 1
          },
          "type": "rect",
          "x0": 24.5,
          "x1": 25.5,
          "y0": 5.5,
          "y1": 6.5
         },
         {
          "line": {
           "color": "grey",
           "width": 1
          },
          "type": "rect",
          "x0": 25.5,
          "x1": 26.5,
          "y0": 5.5,
          "y1": 6.5
         },
         {
          "line": {
           "color": "grey",
           "width": 1
          },
          "type": "rect",
          "x0": 26.5,
          "x1": 27.5,
          "y0": 5.5,
          "y1": 6.5
         },
         {
          "line": {
           "color": "grey",
           "width": 1
          },
          "type": "rect",
          "x0": 27.5,
          "x1": 28.5,
          "y0": 5.5,
          "y1": 6.5
         },
         {
          "line": {
           "color": "grey",
           "width": 1
          },
          "type": "rect",
          "x0": 28.5,
          "x1": 29.5,
          "y0": 5.5,
          "y1": 6.5
         },
         {
          "line": {
           "color": "grey",
           "width": 1
          },
          "type": "rect",
          "x0": 29.5,
          "x1": 30.5,
          "y0": 5.5,
          "y1": 6.5
         },
         {
          "line": {
           "color": "grey",
           "width": 1
          },
          "type": "rect",
          "x0": 30.5,
          "x1": 31.5,
          "y0": 5.5,
          "y1": 6.5
         },
         {
          "line": {
           "color": "grey",
           "width": 1
          },
          "type": "rect",
          "x0": 0.5,
          "x1": 1.5,
          "y0": 6.5,
          "y1": 7.5
         },
         {
          "line": {
           "color": "grey",
           "width": 1
          },
          "type": "rect",
          "x0": 1.5,
          "x1": 2.5,
          "y0": 6.5,
          "y1": 7.5
         },
         {
          "line": {
           "color": "grey",
           "width": 1
          },
          "type": "rect",
          "x0": 2.5,
          "x1": 3.5,
          "y0": 6.5,
          "y1": 7.5
         },
         {
          "line": {
           "color": "grey",
           "width": 1
          },
          "type": "rect",
          "x0": 3.5,
          "x1": 4.5,
          "y0": 6.5,
          "y1": 7.5
         },
         {
          "line": {
           "color": "grey",
           "width": 1
          },
          "type": "rect",
          "x0": 4.5,
          "x1": 5.5,
          "y0": 6.5,
          "y1": 7.5
         },
         {
          "line": {
           "color": "grey",
           "width": 1
          },
          "type": "rect",
          "x0": 5.5,
          "x1": 6.5,
          "y0": 6.5,
          "y1": 7.5
         },
         {
          "line": {
           "color": "grey",
           "width": 1
          },
          "type": "rect",
          "x0": 6.5,
          "x1": 7.5,
          "y0": 6.5,
          "y1": 7.5
         },
         {
          "line": {
           "color": "grey",
           "width": 1
          },
          "type": "rect",
          "x0": 7.5,
          "x1": 8.5,
          "y0": 6.5,
          "y1": 7.5
         },
         {
          "line": {
           "color": "grey",
           "width": 1
          },
          "type": "rect",
          "x0": 8.5,
          "x1": 9.5,
          "y0": 6.5,
          "y1": 7.5
         },
         {
          "line": {
           "color": "grey",
           "width": 1
          },
          "type": "rect",
          "x0": 9.5,
          "x1": 10.5,
          "y0": 6.5,
          "y1": 7.5
         },
         {
          "line": {
           "color": "grey",
           "width": 1
          },
          "type": "rect",
          "x0": 10.5,
          "x1": 11.5,
          "y0": 6.5,
          "y1": 7.5
         },
         {
          "line": {
           "color": "grey",
           "width": 1
          },
          "type": "rect",
          "x0": 11.5,
          "x1": 12.5,
          "y0": 6.5,
          "y1": 7.5
         },
         {
          "line": {
           "color": "grey",
           "width": 1
          },
          "type": "rect",
          "x0": 12.5,
          "x1": 13.5,
          "y0": 6.5,
          "y1": 7.5
         },
         {
          "line": {
           "color": "grey",
           "width": 1
          },
          "type": "rect",
          "x0": 13.5,
          "x1": 14.5,
          "y0": 6.5,
          "y1": 7.5
         },
         {
          "line": {
           "color": "grey",
           "width": 1
          },
          "type": "rect",
          "x0": 14.5,
          "x1": 15.5,
          "y0": 6.5,
          "y1": 7.5
         },
         {
          "line": {
           "color": "grey",
           "width": 1
          },
          "type": "rect",
          "x0": 15.5,
          "x1": 16.5,
          "y0": 6.5,
          "y1": 7.5
         },
         {
          "line": {
           "color": "grey",
           "width": 1
          },
          "type": "rect",
          "x0": 16.5,
          "x1": 17.5,
          "y0": 6.5,
          "y1": 7.5
         },
         {
          "line": {
           "color": "grey",
           "width": 1
          },
          "type": "rect",
          "x0": 17.5,
          "x1": 18.5,
          "y0": 6.5,
          "y1": 7.5
         },
         {
          "line": {
           "color": "grey",
           "width": 1
          },
          "type": "rect",
          "x0": 18.5,
          "x1": 19.5,
          "y0": 6.5,
          "y1": 7.5
         },
         {
          "line": {
           "color": "grey",
           "width": 1
          },
          "type": "rect",
          "x0": 19.5,
          "x1": 20.5,
          "y0": 6.5,
          "y1": 7.5
         },
         {
          "line": {
           "color": "grey",
           "width": 1
          },
          "type": "rect",
          "x0": 20.5,
          "x1": 21.5,
          "y0": 6.5,
          "y1": 7.5
         },
         {
          "line": {
           "color": "grey",
           "width": 1
          },
          "type": "rect",
          "x0": 21.5,
          "x1": 22.5,
          "y0": 6.5,
          "y1": 7.5
         },
         {
          "line": {
           "color": "grey",
           "width": 1
          },
          "type": "rect",
          "x0": 22.5,
          "x1": 23.5,
          "y0": 6.5,
          "y1": 7.5
         },
         {
          "line": {
           "color": "grey",
           "width": 1
          },
          "type": "rect",
          "x0": 23.5,
          "x1": 24.5,
          "y0": 6.5,
          "y1": 7.5
         },
         {
          "line": {
           "color": "grey",
           "width": 1
          },
          "type": "rect",
          "x0": 24.5,
          "x1": 25.5,
          "y0": 6.5,
          "y1": 7.5
         },
         {
          "line": {
           "color": "grey",
           "width": 1
          },
          "type": "rect",
          "x0": 25.5,
          "x1": 26.5,
          "y0": 6.5,
          "y1": 7.5
         },
         {
          "line": {
           "color": "grey",
           "width": 1
          },
          "type": "rect",
          "x0": 26.5,
          "x1": 27.5,
          "y0": 6.5,
          "y1": 7.5
         },
         {
          "line": {
           "color": "grey",
           "width": 1
          },
          "type": "rect",
          "x0": 27.5,
          "x1": 28.5,
          "y0": 6.5,
          "y1": 7.5
         },
         {
          "line": {
           "color": "grey",
           "width": 1
          },
          "type": "rect",
          "x0": 28.5,
          "x1": 29.5,
          "y0": 6.5,
          "y1": 7.5
         },
         {
          "line": {
           "color": "grey",
           "width": 1
          },
          "type": "rect",
          "x0": 29.5,
          "x1": 30.5,
          "y0": 6.5,
          "y1": 7.5
         },
         {
          "line": {
           "color": "grey",
           "width": 1
          },
          "type": "rect",
          "x0": 30.5,
          "x1": 31.5,
          "y0": 6.5,
          "y1": 7.5
         },
         {
          "line": {
           "color": "grey",
           "width": 1
          },
          "type": "rect",
          "x0": 0.5,
          "x1": 1.5,
          "y0": 7.5,
          "y1": 8.5
         },
         {
          "line": {
           "color": "grey",
           "width": 1
          },
          "type": "rect",
          "x0": 1.5,
          "x1": 2.5,
          "y0": 7.5,
          "y1": 8.5
         },
         {
          "line": {
           "color": "grey",
           "width": 1
          },
          "type": "rect",
          "x0": 2.5,
          "x1": 3.5,
          "y0": 7.5,
          "y1": 8.5
         },
         {
          "line": {
           "color": "grey",
           "width": 1
          },
          "type": "rect",
          "x0": 3.5,
          "x1": 4.5,
          "y0": 7.5,
          "y1": 8.5
         },
         {
          "line": {
           "color": "grey",
           "width": 1
          },
          "type": "rect",
          "x0": 4.5,
          "x1": 5.5,
          "y0": 7.5,
          "y1": 8.5
         },
         {
          "line": {
           "color": "grey",
           "width": 1
          },
          "type": "rect",
          "x0": 5.5,
          "x1": 6.5,
          "y0": 7.5,
          "y1": 8.5
         },
         {
          "line": {
           "color": "grey",
           "width": 1
          },
          "type": "rect",
          "x0": 6.5,
          "x1": 7.5,
          "y0": 7.5,
          "y1": 8.5
         },
         {
          "line": {
           "color": "grey",
           "width": 1
          },
          "type": "rect",
          "x0": 7.5,
          "x1": 8.5,
          "y0": 7.5,
          "y1": 8.5
         },
         {
          "line": {
           "color": "grey",
           "width": 1
          },
          "type": "rect",
          "x0": 8.5,
          "x1": 9.5,
          "y0": 7.5,
          "y1": 8.5
         },
         {
          "line": {
           "color": "grey",
           "width": 1
          },
          "type": "rect",
          "x0": 9.5,
          "x1": 10.5,
          "y0": 7.5,
          "y1": 8.5
         },
         {
          "line": {
           "color": "grey",
           "width": 1
          },
          "type": "rect",
          "x0": 10.5,
          "x1": 11.5,
          "y0": 7.5,
          "y1": 8.5
         },
         {
          "line": {
           "color": "grey",
           "width": 1
          },
          "type": "rect",
          "x0": 11.5,
          "x1": 12.5,
          "y0": 7.5,
          "y1": 8.5
         },
         {
          "line": {
           "color": "grey",
           "width": 1
          },
          "type": "rect",
          "x0": 12.5,
          "x1": 13.5,
          "y0": 7.5,
          "y1": 8.5
         },
         {
          "line": {
           "color": "grey",
           "width": 1
          },
          "type": "rect",
          "x0": 13.5,
          "x1": 14.5,
          "y0": 7.5,
          "y1": 8.5
         },
         {
          "line": {
           "color": "grey",
           "width": 1
          },
          "type": "rect",
          "x0": 14.5,
          "x1": 15.5,
          "y0": 7.5,
          "y1": 8.5
         },
         {
          "line": {
           "color": "grey",
           "width": 1
          },
          "type": "rect",
          "x0": 15.5,
          "x1": 16.5,
          "y0": 7.5,
          "y1": 8.5
         },
         {
          "line": {
           "color": "grey",
           "width": 1
          },
          "type": "rect",
          "x0": 16.5,
          "x1": 17.5,
          "y0": 7.5,
          "y1": 8.5
         },
         {
          "line": {
           "color": "grey",
           "width": 1
          },
          "type": "rect",
          "x0": 17.5,
          "x1": 18.5,
          "y0": 7.5,
          "y1": 8.5
         },
         {
          "line": {
           "color": "grey",
           "width": 1
          },
          "type": "rect",
          "x0": 18.5,
          "x1": 19.5,
          "y0": 7.5,
          "y1": 8.5
         },
         {
          "line": {
           "color": "grey",
           "width": 1
          },
          "type": "rect",
          "x0": 19.5,
          "x1": 20.5,
          "y0": 7.5,
          "y1": 8.5
         },
         {
          "line": {
           "color": "grey",
           "width": 1
          },
          "type": "rect",
          "x0": 20.5,
          "x1": 21.5,
          "y0": 7.5,
          "y1": 8.5
         },
         {
          "line": {
           "color": "grey",
           "width": 1
          },
          "type": "rect",
          "x0": 21.5,
          "x1": 22.5,
          "y0": 7.5,
          "y1": 8.5
         },
         {
          "line": {
           "color": "grey",
           "width": 1
          },
          "type": "rect",
          "x0": 22.5,
          "x1": 23.5,
          "y0": 7.5,
          "y1": 8.5
         },
         {
          "line": {
           "color": "grey",
           "width": 1
          },
          "type": "rect",
          "x0": 23.5,
          "x1": 24.5,
          "y0": 7.5,
          "y1": 8.5
         },
         {
          "line": {
           "color": "grey",
           "width": 1
          },
          "type": "rect",
          "x0": 24.5,
          "x1": 25.5,
          "y0": 7.5,
          "y1": 8.5
         },
         {
          "line": {
           "color": "grey",
           "width": 1
          },
          "type": "rect",
          "x0": 25.5,
          "x1": 26.5,
          "y0": 7.5,
          "y1": 8.5
         },
         {
          "line": {
           "color": "grey",
           "width": 1
          },
          "type": "rect",
          "x0": 26.5,
          "x1": 27.5,
          "y0": 7.5,
          "y1": 8.5
         },
         {
          "line": {
           "color": "grey",
           "width": 1
          },
          "type": "rect",
          "x0": 27.5,
          "x1": 28.5,
          "y0": 7.5,
          "y1": 8.5
         },
         {
          "line": {
           "color": "grey",
           "width": 1
          },
          "type": "rect",
          "x0": 28.5,
          "x1": 29.5,
          "y0": 7.5,
          "y1": 8.5
         },
         {
          "line": {
           "color": "grey",
           "width": 1
          },
          "type": "rect",
          "x0": 29.5,
          "x1": 30.5,
          "y0": 7.5,
          "y1": 8.5
         },
         {
          "line": {
           "color": "grey",
           "width": 1
          },
          "type": "rect",
          "x0": 30.5,
          "x1": 31.5,
          "y0": 7.5,
          "y1": 8.5
         },
         {
          "line": {
           "color": "grey",
           "width": 1
          },
          "type": "rect",
          "x0": 0.5,
          "x1": 1.5,
          "y0": 8.5,
          "y1": 9.5
         },
         {
          "line": {
           "color": "grey",
           "width": 1
          },
          "type": "rect",
          "x0": 1.5,
          "x1": 2.5,
          "y0": 8.5,
          "y1": 9.5
         },
         {
          "line": {
           "color": "grey",
           "width": 1
          },
          "type": "rect",
          "x0": 2.5,
          "x1": 3.5,
          "y0": 8.5,
          "y1": 9.5
         },
         {
          "line": {
           "color": "grey",
           "width": 1
          },
          "type": "rect",
          "x0": 3.5,
          "x1": 4.5,
          "y0": 8.5,
          "y1": 9.5
         },
         {
          "line": {
           "color": "grey",
           "width": 1
          },
          "type": "rect",
          "x0": 4.5,
          "x1": 5.5,
          "y0": 8.5,
          "y1": 9.5
         },
         {
          "line": {
           "color": "grey",
           "width": 1
          },
          "type": "rect",
          "x0": 5.5,
          "x1": 6.5,
          "y0": 8.5,
          "y1": 9.5
         },
         {
          "line": {
           "color": "grey",
           "width": 1
          },
          "type": "rect",
          "x0": 6.5,
          "x1": 7.5,
          "y0": 8.5,
          "y1": 9.5
         },
         {
          "line": {
           "color": "grey",
           "width": 1
          },
          "type": "rect",
          "x0": 7.5,
          "x1": 8.5,
          "y0": 8.5,
          "y1": 9.5
         },
         {
          "line": {
           "color": "grey",
           "width": 1
          },
          "type": "rect",
          "x0": 8.5,
          "x1": 9.5,
          "y0": 8.5,
          "y1": 9.5
         },
         {
          "line": {
           "color": "grey",
           "width": 1
          },
          "type": "rect",
          "x0": 9.5,
          "x1": 10.5,
          "y0": 8.5,
          "y1": 9.5
         },
         {
          "line": {
           "color": "grey",
           "width": 1
          },
          "type": "rect",
          "x0": 10.5,
          "x1": 11.5,
          "y0": 8.5,
          "y1": 9.5
         },
         {
          "line": {
           "color": "grey",
           "width": 1
          },
          "type": "rect",
          "x0": 11.5,
          "x1": 12.5,
          "y0": 8.5,
          "y1": 9.5
         },
         {
          "line": {
           "color": "grey",
           "width": 1
          },
          "type": "rect",
          "x0": 12.5,
          "x1": 13.5,
          "y0": 8.5,
          "y1": 9.5
         },
         {
          "line": {
           "color": "grey",
           "width": 1
          },
          "type": "rect",
          "x0": 13.5,
          "x1": 14.5,
          "y0": 8.5,
          "y1": 9.5
         },
         {
          "line": {
           "color": "grey",
           "width": 1
          },
          "type": "rect",
          "x0": 14.5,
          "x1": 15.5,
          "y0": 8.5,
          "y1": 9.5
         },
         {
          "line": {
           "color": "grey",
           "width": 1
          },
          "type": "rect",
          "x0": 15.5,
          "x1": 16.5,
          "y0": 8.5,
          "y1": 9.5
         },
         {
          "line": {
           "color": "grey",
           "width": 1
          },
          "type": "rect",
          "x0": 16.5,
          "x1": 17.5,
          "y0": 8.5,
          "y1": 9.5
         },
         {
          "line": {
           "color": "grey",
           "width": 1
          },
          "type": "rect",
          "x0": 17.5,
          "x1": 18.5,
          "y0": 8.5,
          "y1": 9.5
         },
         {
          "line": {
           "color": "grey",
           "width": 1
          },
          "type": "rect",
          "x0": 18.5,
          "x1": 19.5,
          "y0": 8.5,
          "y1": 9.5
         },
         {
          "line": {
           "color": "grey",
           "width": 1
          },
          "type": "rect",
          "x0": 19.5,
          "x1": 20.5,
          "y0": 8.5,
          "y1": 9.5
         },
         {
          "line": {
           "color": "grey",
           "width": 1
          },
          "type": "rect",
          "x0": 20.5,
          "x1": 21.5,
          "y0": 8.5,
          "y1": 9.5
         },
         {
          "line": {
           "color": "grey",
           "width": 1
          },
          "type": "rect",
          "x0": 21.5,
          "x1": 22.5,
          "y0": 8.5,
          "y1": 9.5
         },
         {
          "line": {
           "color": "grey",
           "width": 1
          },
          "type": "rect",
          "x0": 22.5,
          "x1": 23.5,
          "y0": 8.5,
          "y1": 9.5
         },
         {
          "line": {
           "color": "grey",
           "width": 1
          },
          "type": "rect",
          "x0": 23.5,
          "x1": 24.5,
          "y0": 8.5,
          "y1": 9.5
         },
         {
          "line": {
           "color": "grey",
           "width": 1
          },
          "type": "rect",
          "x0": 24.5,
          "x1": 25.5,
          "y0": 8.5,
          "y1": 9.5
         },
         {
          "line": {
           "color": "grey",
           "width": 1
          },
          "type": "rect",
          "x0": 25.5,
          "x1": 26.5,
          "y0": 8.5,
          "y1": 9.5
         },
         {
          "line": {
           "color": "grey",
           "width": 1
          },
          "type": "rect",
          "x0": 26.5,
          "x1": 27.5,
          "y0": 8.5,
          "y1": 9.5
         },
         {
          "line": {
           "color": "grey",
           "width": 1
          },
          "type": "rect",
          "x0": 27.5,
          "x1": 28.5,
          "y0": 8.5,
          "y1": 9.5
         },
         {
          "line": {
           "color": "grey",
           "width": 1
          },
          "type": "rect",
          "x0": 28.5,
          "x1": 29.5,
          "y0": 8.5,
          "y1": 9.5
         },
         {
          "line": {
           "color": "grey",
           "width": 1
          },
          "type": "rect",
          "x0": 29.5,
          "x1": 30.5,
          "y0": 8.5,
          "y1": 9.5
         },
         {
          "line": {
           "color": "grey",
           "width": 1
          },
          "type": "rect",
          "x0": 30.5,
          "x1": 31.5,
          "y0": 8.5,
          "y1": 9.5
         },
         {
          "line": {
           "color": "grey",
           "width": 1
          },
          "type": "rect",
          "x0": 0.5,
          "x1": 1.5,
          "y0": 9.5,
          "y1": 10.5
         },
         {
          "line": {
           "color": "grey",
           "width": 1
          },
          "type": "rect",
          "x0": 1.5,
          "x1": 2.5,
          "y0": 9.5,
          "y1": 10.5
         },
         {
          "line": {
           "color": "grey",
           "width": 1
          },
          "type": "rect",
          "x0": 2.5,
          "x1": 3.5,
          "y0": 9.5,
          "y1": 10.5
         },
         {
          "line": {
           "color": "grey",
           "width": 1
          },
          "type": "rect",
          "x0": 3.5,
          "x1": 4.5,
          "y0": 9.5,
          "y1": 10.5
         },
         {
          "line": {
           "color": "grey",
           "width": 1
          },
          "type": "rect",
          "x0": 4.5,
          "x1": 5.5,
          "y0": 9.5,
          "y1": 10.5
         },
         {
          "line": {
           "color": "grey",
           "width": 1
          },
          "type": "rect",
          "x0": 5.5,
          "x1": 6.5,
          "y0": 9.5,
          "y1": 10.5
         },
         {
          "line": {
           "color": "grey",
           "width": 1
          },
          "type": "rect",
          "x0": 6.5,
          "x1": 7.5,
          "y0": 9.5,
          "y1": 10.5
         },
         {
          "line": {
           "color": "grey",
           "width": 1
          },
          "type": "rect",
          "x0": 7.5,
          "x1": 8.5,
          "y0": 9.5,
          "y1": 10.5
         },
         {
          "line": {
           "color": "grey",
           "width": 1
          },
          "type": "rect",
          "x0": 8.5,
          "x1": 9.5,
          "y0": 9.5,
          "y1": 10.5
         },
         {
          "line": {
           "color": "grey",
           "width": 1
          },
          "type": "rect",
          "x0": 9.5,
          "x1": 10.5,
          "y0": 9.5,
          "y1": 10.5
         },
         {
          "line": {
           "color": "grey",
           "width": 1
          },
          "type": "rect",
          "x0": 10.5,
          "x1": 11.5,
          "y0": 9.5,
          "y1": 10.5
         },
         {
          "line": {
           "color": "grey",
           "width": 1
          },
          "type": "rect",
          "x0": 11.5,
          "x1": 12.5,
          "y0": 9.5,
          "y1": 10.5
         },
         {
          "line": {
           "color": "grey",
           "width": 1
          },
          "type": "rect",
          "x0": 12.5,
          "x1": 13.5,
          "y0": 9.5,
          "y1": 10.5
         },
         {
          "line": {
           "color": "grey",
           "width": 1
          },
          "type": "rect",
          "x0": 13.5,
          "x1": 14.5,
          "y0": 9.5,
          "y1": 10.5
         },
         {
          "line": {
           "color": "grey",
           "width": 1
          },
          "type": "rect",
          "x0": 14.5,
          "x1": 15.5,
          "y0": 9.5,
          "y1": 10.5
         },
         {
          "line": {
           "color": "grey",
           "width": 1
          },
          "type": "rect",
          "x0": 15.5,
          "x1": 16.5,
          "y0": 9.5,
          "y1": 10.5
         },
         {
          "line": {
           "color": "grey",
           "width": 1
          },
          "type": "rect",
          "x0": 16.5,
          "x1": 17.5,
          "y0": 9.5,
          "y1": 10.5
         },
         {
          "line": {
           "color": "grey",
           "width": 1
          },
          "type": "rect",
          "x0": 17.5,
          "x1": 18.5,
          "y0": 9.5,
          "y1": 10.5
         },
         {
          "line": {
           "color": "grey",
           "width": 1
          },
          "type": "rect",
          "x0": 18.5,
          "x1": 19.5,
          "y0": 9.5,
          "y1": 10.5
         },
         {
          "line": {
           "color": "grey",
           "width": 1
          },
          "type": "rect",
          "x0": 19.5,
          "x1": 20.5,
          "y0": 9.5,
          "y1": 10.5
         },
         {
          "line": {
           "color": "grey",
           "width": 1
          },
          "type": "rect",
          "x0": 20.5,
          "x1": 21.5,
          "y0": 9.5,
          "y1": 10.5
         },
         {
          "line": {
           "color": "grey",
           "width": 1
          },
          "type": "rect",
          "x0": 21.5,
          "x1": 22.5,
          "y0": 9.5,
          "y1": 10.5
         },
         {
          "line": {
           "color": "grey",
           "width": 1
          },
          "type": "rect",
          "x0": 22.5,
          "x1": 23.5,
          "y0": 9.5,
          "y1": 10.5
         },
         {
          "line": {
           "color": "grey",
           "width": 1
          },
          "type": "rect",
          "x0": 23.5,
          "x1": 24.5,
          "y0": 9.5,
          "y1": 10.5
         },
         {
          "line": {
           "color": "grey",
           "width": 1
          },
          "type": "rect",
          "x0": 24.5,
          "x1": 25.5,
          "y0": 9.5,
          "y1": 10.5
         },
         {
          "line": {
           "color": "grey",
           "width": 1
          },
          "type": "rect",
          "x0": 25.5,
          "x1": 26.5,
          "y0": 9.5,
          "y1": 10.5
         },
         {
          "line": {
           "color": "grey",
           "width": 1
          },
          "type": "rect",
          "x0": 26.5,
          "x1": 27.5,
          "y0": 9.5,
          "y1": 10.5
         },
         {
          "line": {
           "color": "grey",
           "width": 1
          },
          "type": "rect",
          "x0": 27.5,
          "x1": 28.5,
          "y0": 9.5,
          "y1": 10.5
         },
         {
          "line": {
           "color": "grey",
           "width": 1
          },
          "type": "rect",
          "x0": 28.5,
          "x1": 29.5,
          "y0": 9.5,
          "y1": 10.5
         },
         {
          "line": {
           "color": "grey",
           "width": 1
          },
          "type": "rect",
          "x0": 29.5,
          "x1": 30.5,
          "y0": 9.5,
          "y1": 10.5
         },
         {
          "line": {
           "color": "grey",
           "width": 1
          },
          "type": "rect",
          "x0": 30.5,
          "x1": 31.5,
          "y0": 9.5,
          "y1": 10.5
         },
         {
          "line": {
           "color": "grey",
           "width": 1
          },
          "type": "rect",
          "x0": 0.5,
          "x1": 1.5,
          "y0": 10.5,
          "y1": 11.5
         },
         {
          "line": {
           "color": "grey",
           "width": 1
          },
          "type": "rect",
          "x0": 1.5,
          "x1": 2.5,
          "y0": 10.5,
          "y1": 11.5
         },
         {
          "line": {
           "color": "grey",
           "width": 1
          },
          "type": "rect",
          "x0": 2.5,
          "x1": 3.5,
          "y0": 10.5,
          "y1": 11.5
         },
         {
          "line": {
           "color": "grey",
           "width": 1
          },
          "type": "rect",
          "x0": 3.5,
          "x1": 4.5,
          "y0": 10.5,
          "y1": 11.5
         },
         {
          "line": {
           "color": "grey",
           "width": 1
          },
          "type": "rect",
          "x0": 4.5,
          "x1": 5.5,
          "y0": 10.5,
          "y1": 11.5
         },
         {
          "line": {
           "color": "grey",
           "width": 1
          },
          "type": "rect",
          "x0": 5.5,
          "x1": 6.5,
          "y0": 10.5,
          "y1": 11.5
         },
         {
          "line": {
           "color": "grey",
           "width": 1
          },
          "type": "rect",
          "x0": 6.5,
          "x1": 7.5,
          "y0": 10.5,
          "y1": 11.5
         },
         {
          "line": {
           "color": "grey",
           "width": 1
          },
          "type": "rect",
          "x0": 7.5,
          "x1": 8.5,
          "y0": 10.5,
          "y1": 11.5
         },
         {
          "line": {
           "color": "grey",
           "width": 1
          },
          "type": "rect",
          "x0": 8.5,
          "x1": 9.5,
          "y0": 10.5,
          "y1": 11.5
         },
         {
          "line": {
           "color": "grey",
           "width": 1
          },
          "type": "rect",
          "x0": 9.5,
          "x1": 10.5,
          "y0": 10.5,
          "y1": 11.5
         },
         {
          "line": {
           "color": "grey",
           "width": 1
          },
          "type": "rect",
          "x0": 10.5,
          "x1": 11.5,
          "y0": 10.5,
          "y1": 11.5
         },
         {
          "line": {
           "color": "grey",
           "width": 1
          },
          "type": "rect",
          "x0": 11.5,
          "x1": 12.5,
          "y0": 10.5,
          "y1": 11.5
         },
         {
          "line": {
           "color": "grey",
           "width": 1
          },
          "type": "rect",
          "x0": 12.5,
          "x1": 13.5,
          "y0": 10.5,
          "y1": 11.5
         },
         {
          "line": {
           "color": "grey",
           "width": 1
          },
          "type": "rect",
          "x0": 13.5,
          "x1": 14.5,
          "y0": 10.5,
          "y1": 11.5
         },
         {
          "line": {
           "color": "grey",
           "width": 1
          },
          "type": "rect",
          "x0": 14.5,
          "x1": 15.5,
          "y0": 10.5,
          "y1": 11.5
         },
         {
          "line": {
           "color": "grey",
           "width": 1
          },
          "type": "rect",
          "x0": 15.5,
          "x1": 16.5,
          "y0": 10.5,
          "y1": 11.5
         },
         {
          "line": {
           "color": "grey",
           "width": 1
          },
          "type": "rect",
          "x0": 16.5,
          "x1": 17.5,
          "y0": 10.5,
          "y1": 11.5
         },
         {
          "line": {
           "color": "grey",
           "width": 1
          },
          "type": "rect",
          "x0": 17.5,
          "x1": 18.5,
          "y0": 10.5,
          "y1": 11.5
         },
         {
          "line": {
           "color": "grey",
           "width": 1
          },
          "type": "rect",
          "x0": 18.5,
          "x1": 19.5,
          "y0": 10.5,
          "y1": 11.5
         },
         {
          "line": {
           "color": "grey",
           "width": 1
          },
          "type": "rect",
          "x0": 19.5,
          "x1": 20.5,
          "y0": 10.5,
          "y1": 11.5
         },
         {
          "line": {
           "color": "grey",
           "width": 1
          },
          "type": "rect",
          "x0": 20.5,
          "x1": 21.5,
          "y0": 10.5,
          "y1": 11.5
         },
         {
          "line": {
           "color": "grey",
           "width": 1
          },
          "type": "rect",
          "x0": 21.5,
          "x1": 22.5,
          "y0": 10.5,
          "y1": 11.5
         },
         {
          "line": {
           "color": "grey",
           "width": 1
          },
          "type": "rect",
          "x0": 22.5,
          "x1": 23.5,
          "y0": 10.5,
          "y1": 11.5
         },
         {
          "line": {
           "color": "grey",
           "width": 1
          },
          "type": "rect",
          "x0": 23.5,
          "x1": 24.5,
          "y0": 10.5,
          "y1": 11.5
         },
         {
          "line": {
           "color": "grey",
           "width": 1
          },
          "type": "rect",
          "x0": 24.5,
          "x1": 25.5,
          "y0": 10.5,
          "y1": 11.5
         },
         {
          "line": {
           "color": "grey",
           "width": 1
          },
          "type": "rect",
          "x0": 25.5,
          "x1": 26.5,
          "y0": 10.5,
          "y1": 11.5
         },
         {
          "line": {
           "color": "grey",
           "width": 1
          },
          "type": "rect",
          "x0": 26.5,
          "x1": 27.5,
          "y0": 10.5,
          "y1": 11.5
         },
         {
          "line": {
           "color": "grey",
           "width": 1
          },
          "type": "rect",
          "x0": 27.5,
          "x1": 28.5,
          "y0": 10.5,
          "y1": 11.5
         },
         {
          "line": {
           "color": "grey",
           "width": 1
          },
          "type": "rect",
          "x0": 28.5,
          "x1": 29.5,
          "y0": 10.5,
          "y1": 11.5
         },
         {
          "line": {
           "color": "grey",
           "width": 1
          },
          "type": "rect",
          "x0": 29.5,
          "x1": 30.5,
          "y0": 10.5,
          "y1": 11.5
         },
         {
          "line": {
           "color": "grey",
           "width": 1
          },
          "type": "rect",
          "x0": 30.5,
          "x1": 31.5,
          "y0": 10.5,
          "y1": 11.5
         },
         {
          "line": {
           "color": "grey",
           "width": 1
          },
          "type": "rect",
          "x0": 0.5,
          "x1": 1.5,
          "y0": 11.5,
          "y1": 12.5
         },
         {
          "line": {
           "color": "grey",
           "width": 1
          },
          "type": "rect",
          "x0": 1.5,
          "x1": 2.5,
          "y0": 11.5,
          "y1": 12.5
         },
         {
          "line": {
           "color": "grey",
           "width": 1
          },
          "type": "rect",
          "x0": 2.5,
          "x1": 3.5,
          "y0": 11.5,
          "y1": 12.5
         },
         {
          "line": {
           "color": "grey",
           "width": 1
          },
          "type": "rect",
          "x0": 3.5,
          "x1": 4.5,
          "y0": 11.5,
          "y1": 12.5
         },
         {
          "line": {
           "color": "grey",
           "width": 1
          },
          "type": "rect",
          "x0": 4.5,
          "x1": 5.5,
          "y0": 11.5,
          "y1": 12.5
         },
         {
          "line": {
           "color": "grey",
           "width": 1
          },
          "type": "rect",
          "x0": 5.5,
          "x1": 6.5,
          "y0": 11.5,
          "y1": 12.5
         },
         {
          "line": {
           "color": "grey",
           "width": 1
          },
          "type": "rect",
          "x0": 6.5,
          "x1": 7.5,
          "y0": 11.5,
          "y1": 12.5
         },
         {
          "line": {
           "color": "grey",
           "width": 1
          },
          "type": "rect",
          "x0": 7.5,
          "x1": 8.5,
          "y0": 11.5,
          "y1": 12.5
         },
         {
          "line": {
           "color": "grey",
           "width": 1
          },
          "type": "rect",
          "x0": 8.5,
          "x1": 9.5,
          "y0": 11.5,
          "y1": 12.5
         },
         {
          "line": {
           "color": "grey",
           "width": 1
          },
          "type": "rect",
          "x0": 9.5,
          "x1": 10.5,
          "y0": 11.5,
          "y1": 12.5
         },
         {
          "line": {
           "color": "grey",
           "width": 1
          },
          "type": "rect",
          "x0": 10.5,
          "x1": 11.5,
          "y0": 11.5,
          "y1": 12.5
         },
         {
          "line": {
           "color": "grey",
           "width": 1
          },
          "type": "rect",
          "x0": 11.5,
          "x1": 12.5,
          "y0": 11.5,
          "y1": 12.5
         },
         {
          "line": {
           "color": "grey",
           "width": 1
          },
          "type": "rect",
          "x0": 12.5,
          "x1": 13.5,
          "y0": 11.5,
          "y1": 12.5
         },
         {
          "line": {
           "color": "grey",
           "width": 1
          },
          "type": "rect",
          "x0": 13.5,
          "x1": 14.5,
          "y0": 11.5,
          "y1": 12.5
         },
         {
          "line": {
           "color": "grey",
           "width": 1
          },
          "type": "rect",
          "x0": 14.5,
          "x1": 15.5,
          "y0": 11.5,
          "y1": 12.5
         },
         {
          "line": {
           "color": "grey",
           "width": 1
          },
          "type": "rect",
          "x0": 15.5,
          "x1": 16.5,
          "y0": 11.5,
          "y1": 12.5
         },
         {
          "line": {
           "color": "grey",
           "width": 1
          },
          "type": "rect",
          "x0": 16.5,
          "x1": 17.5,
          "y0": 11.5,
          "y1": 12.5
         },
         {
          "line": {
           "color": "grey",
           "width": 1
          },
          "type": "rect",
          "x0": 17.5,
          "x1": 18.5,
          "y0": 11.5,
          "y1": 12.5
         },
         {
          "line": {
           "color": "grey",
           "width": 1
          },
          "type": "rect",
          "x0": 18.5,
          "x1": 19.5,
          "y0": 11.5,
          "y1": 12.5
         },
         {
          "line": {
           "color": "grey",
           "width": 1
          },
          "type": "rect",
          "x0": 19.5,
          "x1": 20.5,
          "y0": 11.5,
          "y1": 12.5
         },
         {
          "line": {
           "color": "grey",
           "width": 1
          },
          "type": "rect",
          "x0": 20.5,
          "x1": 21.5,
          "y0": 11.5,
          "y1": 12.5
         },
         {
          "line": {
           "color": "grey",
           "width": 1
          },
          "type": "rect",
          "x0": 21.5,
          "x1": 22.5,
          "y0": 11.5,
          "y1": 12.5
         },
         {
          "line": {
           "color": "grey",
           "width": 1
          },
          "type": "rect",
          "x0": 22.5,
          "x1": 23.5,
          "y0": 11.5,
          "y1": 12.5
         },
         {
          "line": {
           "color": "grey",
           "width": 1
          },
          "type": "rect",
          "x0": 23.5,
          "x1": 24.5,
          "y0": 11.5,
          "y1": 12.5
         },
         {
          "line": {
           "color": "grey",
           "width": 1
          },
          "type": "rect",
          "x0": 24.5,
          "x1": 25.5,
          "y0": 11.5,
          "y1": 12.5
         },
         {
          "line": {
           "color": "grey",
           "width": 1
          },
          "type": "rect",
          "x0": 25.5,
          "x1": 26.5,
          "y0": 11.5,
          "y1": 12.5
         },
         {
          "line": {
           "color": "grey",
           "width": 1
          },
          "type": "rect",
          "x0": 26.5,
          "x1": 27.5,
          "y0": 11.5,
          "y1": 12.5
         },
         {
          "line": {
           "color": "grey",
           "width": 1
          },
          "type": "rect",
          "x0": 27.5,
          "x1": 28.5,
          "y0": 11.5,
          "y1": 12.5
         },
         {
          "line": {
           "color": "grey",
           "width": 1
          },
          "type": "rect",
          "x0": 28.5,
          "x1": 29.5,
          "y0": 11.5,
          "y1": 12.5
         },
         {
          "line": {
           "color": "grey",
           "width": 1
          },
          "type": "rect",
          "x0": 29.5,
          "x1": 30.5,
          "y0": 11.5,
          "y1": 12.5
         },
         {
          "line": {
           "color": "grey",
           "width": 1
          },
          "type": "rect",
          "x0": 30.5,
          "x1": 31.5,
          "y0": 11.5,
          "y1": 12.5
         }
        ],
        "template": {
         "data": {
          "bar": [
           {
            "error_x": {
             "color": "#f2f5fa"
            },
            "error_y": {
             "color": "#f2f5fa"
            },
            "marker": {
             "line": {
              "color": "rgb(17,17,17)",
              "width": 0.5
             },
             "pattern": {
              "fillmode": "overlay",
              "size": 10,
              "solidity": 0.2
             }
            },
            "type": "bar"
           }
          ],
          "barpolar": [
           {
            "marker": {
             "line": {
              "color": "rgb(17,17,17)",
              "width": 0.5
             },
             "pattern": {
              "fillmode": "overlay",
              "size": 10,
              "solidity": 0.2
             }
            },
            "type": "barpolar"
           }
          ],
          "carpet": [
           {
            "aaxis": {
             "endlinecolor": "#A2B1C6",
             "gridcolor": "#506784",
             "linecolor": "#506784",
             "minorgridcolor": "#506784",
             "startlinecolor": "#A2B1C6"
            },
            "baxis": {
             "endlinecolor": "#A2B1C6",
             "gridcolor": "#506784",
             "linecolor": "#506784",
             "minorgridcolor": "#506784",
             "startlinecolor": "#A2B1C6"
            },
            "type": "carpet"
           }
          ],
          "choropleth": [
           {
            "colorbar": {
             "outlinewidth": 0,
             "ticks": ""
            },
            "type": "choropleth"
           }
          ],
          "contour": [
           {
            "colorbar": {
             "outlinewidth": 0,
             "ticks": ""
            },
            "colorscale": [
             [
              0,
              "#0d0887"
             ],
             [
              0.1111111111111111,
              "#46039f"
             ],
             [
              0.2222222222222222,
              "#7201a8"
             ],
             [
              0.3333333333333333,
              "#9c179e"
             ],
             [
              0.4444444444444444,
              "#bd3786"
             ],
             [
              0.5555555555555556,
              "#d8576b"
             ],
             [
              0.6666666666666666,
              "#ed7953"
             ],
             [
              0.7777777777777778,
              "#fb9f3a"
             ],
             [
              0.8888888888888888,
              "#fdca26"
             ],
             [
              1,
              "#f0f921"
             ]
            ],
            "type": "contour"
           }
          ],
          "contourcarpet": [
           {
            "colorbar": {
             "outlinewidth": 0,
             "ticks": ""
            },
            "type": "contourcarpet"
           }
          ],
          "heatmap": [
           {
            "colorbar": {
             "outlinewidth": 0,
             "ticks": ""
            },
            "colorscale": [
             [
              0,
              "#0d0887"
             ],
             [
              0.1111111111111111,
              "#46039f"
             ],
             [
              0.2222222222222222,
              "#7201a8"
             ],
             [
              0.3333333333333333,
              "#9c179e"
             ],
             [
              0.4444444444444444,
              "#bd3786"
             ],
             [
              0.5555555555555556,
              "#d8576b"
             ],
             [
              0.6666666666666666,
              "#ed7953"
             ],
             [
              0.7777777777777778,
              "#fb9f3a"
             ],
             [
              0.8888888888888888,
              "#fdca26"
             ],
             [
              1,
              "#f0f921"
             ]
            ],
            "type": "heatmap"
           }
          ],
          "heatmapgl": [
           {
            "colorbar": {
             "outlinewidth": 0,
             "ticks": ""
            },
            "colorscale": [
             [
              0,
              "#0d0887"
             ],
             [
              0.1111111111111111,
              "#46039f"
             ],
             [
              0.2222222222222222,
              "#7201a8"
             ],
             [
              0.3333333333333333,
              "#9c179e"
             ],
             [
              0.4444444444444444,
              "#bd3786"
             ],
             [
              0.5555555555555556,
              "#d8576b"
             ],
             [
              0.6666666666666666,
              "#ed7953"
             ],
             [
              0.7777777777777778,
              "#fb9f3a"
             ],
             [
              0.8888888888888888,
              "#fdca26"
             ],
             [
              1,
              "#f0f921"
             ]
            ],
            "type": "heatmapgl"
           }
          ],
          "histogram": [
           {
            "marker": {
             "pattern": {
              "fillmode": "overlay",
              "size": 10,
              "solidity": 0.2
             }
            },
            "type": "histogram"
           }
          ],
          "histogram2d": [
           {
            "colorbar": {
             "outlinewidth": 0,
             "ticks": ""
            },
            "colorscale": [
             [
              0,
              "#0d0887"
             ],
             [
              0.1111111111111111,
              "#46039f"
             ],
             [
              0.2222222222222222,
              "#7201a8"
             ],
             [
              0.3333333333333333,
              "#9c179e"
             ],
             [
              0.4444444444444444,
              "#bd3786"
             ],
             [
              0.5555555555555556,
              "#d8576b"
             ],
             [
              0.6666666666666666,
              "#ed7953"
             ],
             [
              0.7777777777777778,
              "#fb9f3a"
             ],
             [
              0.8888888888888888,
              "#fdca26"
             ],
             [
              1,
              "#f0f921"
             ]
            ],
            "type": "histogram2d"
           }
          ],
          "histogram2dcontour": [
           {
            "colorbar": {
             "outlinewidth": 0,
             "ticks": ""
            },
            "colorscale": [
             [
              0,
              "#0d0887"
             ],
             [
              0.1111111111111111,
              "#46039f"
             ],
             [
              0.2222222222222222,
              "#7201a8"
             ],
             [
              0.3333333333333333,
              "#9c179e"
             ],
             [
              0.4444444444444444,
              "#bd3786"
             ],
             [
              0.5555555555555556,
              "#d8576b"
             ],
             [
              0.6666666666666666,
              "#ed7953"
             ],
             [
              0.7777777777777778,
              "#fb9f3a"
             ],
             [
              0.8888888888888888,
              "#fdca26"
             ],
             [
              1,
              "#f0f921"
             ]
            ],
            "type": "histogram2dcontour"
           }
          ],
          "mesh3d": [
           {
            "colorbar": {
             "outlinewidth": 0,
             "ticks": ""
            },
            "type": "mesh3d"
           }
          ],
          "parcoords": [
           {
            "line": {
             "colorbar": {
              "outlinewidth": 0,
              "ticks": ""
             }
            },
            "type": "parcoords"
           }
          ],
          "pie": [
           {
            "automargin": true,
            "type": "pie"
           }
          ],
          "scatter": [
           {
            "marker": {
             "line": {
              "color": "#283442"
             }
            },
            "type": "scatter"
           }
          ],
          "scatter3d": [
           {
            "line": {
             "colorbar": {
              "outlinewidth": 0,
              "ticks": ""
             }
            },
            "marker": {
             "colorbar": {
              "outlinewidth": 0,
              "ticks": ""
             }
            },
            "type": "scatter3d"
           }
          ],
          "scattercarpet": [
           {
            "marker": {
             "colorbar": {
              "outlinewidth": 0,
              "ticks": ""
             }
            },
            "type": "scattercarpet"
           }
          ],
          "scattergeo": [
           {
            "marker": {
             "colorbar": {
              "outlinewidth": 0,
              "ticks": ""
             }
            },
            "type": "scattergeo"
           }
          ],
          "scattergl": [
           {
            "marker": {
             "line": {
              "color": "#283442"
             }
            },
            "type": "scattergl"
           }
          ],
          "scattermapbox": [
           {
            "marker": {
             "colorbar": {
              "outlinewidth": 0,
              "ticks": ""
             }
            },
            "type": "scattermapbox"
           }
          ],
          "scatterpolar": [
           {
            "marker": {
             "colorbar": {
              "outlinewidth": 0,
              "ticks": ""
             }
            },
            "type": "scatterpolar"
           }
          ],
          "scatterpolargl": [
           {
            "marker": {
             "colorbar": {
              "outlinewidth": 0,
              "ticks": ""
             }
            },
            "type": "scatterpolargl"
           }
          ],
          "scatterternary": [
           {
            "marker": {
             "colorbar": {
              "outlinewidth": 0,
              "ticks": ""
             }
            },
            "type": "scatterternary"
           }
          ],
          "surface": [
           {
            "colorbar": {
             "outlinewidth": 0,
             "ticks": ""
            },
            "colorscale": [
             [
              0,
              "#0d0887"
             ],
             [
              0.1111111111111111,
              "#46039f"
             ],
             [
              0.2222222222222222,
              "#7201a8"
             ],
             [
              0.3333333333333333,
              "#9c179e"
             ],
             [
              0.4444444444444444,
              "#bd3786"
             ],
             [
              0.5555555555555556,
              "#d8576b"
             ],
             [
              0.6666666666666666,
              "#ed7953"
             ],
             [
              0.7777777777777778,
              "#fb9f3a"
             ],
             [
              0.8888888888888888,
              "#fdca26"
             ],
             [
              1,
              "#f0f921"
             ]
            ],
            "type": "surface"
           }
          ],
          "table": [
           {
            "cells": {
             "fill": {
              "color": "#506784"
             },
             "line": {
              "color": "rgb(17,17,17)"
             }
            },
            "header": {
             "fill": {
              "color": "#2a3f5f"
             },
             "line": {
              "color": "rgb(17,17,17)"
             }
            },
            "type": "table"
           }
          ]
         },
         "layout": {
          "annotationdefaults": {
           "arrowcolor": "#f2f5fa",
           "arrowhead": 0,
           "arrowwidth": 1
          },
          "autotypenumbers": "strict",
          "coloraxis": {
           "colorbar": {
            "outlinewidth": 0,
            "ticks": ""
           }
          },
          "colorscale": {
           "diverging": [
            [
             0,
             "#8e0152"
            ],
            [
             0.1,
             "#c51b7d"
            ],
            [
             0.2,
             "#de77ae"
            ],
            [
             0.3,
             "#f1b6da"
            ],
            [
             0.4,
             "#fde0ef"
            ],
            [
             0.5,
             "#f7f7f7"
            ],
            [
             0.6,
             "#e6f5d0"
            ],
            [
             0.7,
             "#b8e186"
            ],
            [
             0.8,
             "#7fbc41"
            ],
            [
             0.9,
             "#4d9221"
            ],
            [
             1,
             "#276419"
            ]
           ],
           "sequential": [
            [
             0,
             "#0d0887"
            ],
            [
             0.1111111111111111,
             "#46039f"
            ],
            [
             0.2222222222222222,
             "#7201a8"
            ],
            [
             0.3333333333333333,
             "#9c179e"
            ],
            [
             0.4444444444444444,
             "#bd3786"
            ],
            [
             0.5555555555555556,
             "#d8576b"
            ],
            [
             0.6666666666666666,
             "#ed7953"
            ],
            [
             0.7777777777777778,
             "#fb9f3a"
            ],
            [
             0.8888888888888888,
             "#fdca26"
            ],
            [
             1,
             "#f0f921"
            ]
           ],
           "sequentialminus": [
            [
             0,
             "#0d0887"
            ],
            [
             0.1111111111111111,
             "#46039f"
            ],
            [
             0.2222222222222222,
             "#7201a8"
            ],
            [
             0.3333333333333333,
             "#9c179e"
            ],
            [
             0.4444444444444444,
             "#bd3786"
            ],
            [
             0.5555555555555556,
             "#d8576b"
            ],
            [
             0.6666666666666666,
             "#ed7953"
            ],
            [
             0.7777777777777778,
             "#fb9f3a"
            ],
            [
             0.8888888888888888,
             "#fdca26"
            ],
            [
             1,
             "#f0f921"
            ]
           ]
          },
          "colorway": [
           "#636efa",
           "#EF553B",
           "#00cc96",
           "#ab63fa",
           "#FFA15A",
           "#19d3f3",
           "#FF6692",
           "#B6E880",
           "#FF97FF",
           "#FECB52"
          ],
          "font": {
           "color": "#f2f5fa"
          },
          "geo": {
           "bgcolor": "rgb(17,17,17)",
           "lakecolor": "rgb(17,17,17)",
           "landcolor": "rgb(17,17,17)",
           "showlakes": true,
           "showland": true,
           "subunitcolor": "#506784"
          },
          "hoverlabel": {
           "align": "left"
          },
          "hovermode": "closest",
          "mapbox": {
           "style": "dark"
          },
          "paper_bgcolor": "rgb(17,17,17)",
          "plot_bgcolor": "rgb(17,17,17)",
          "polar": {
           "angularaxis": {
            "gridcolor": "#506784",
            "linecolor": "#506784",
            "ticks": ""
           },
           "bgcolor": "rgb(17,17,17)",
           "radialaxis": {
            "gridcolor": "#506784",
            "linecolor": "#506784",
            "ticks": ""
           }
          },
          "scene": {
           "xaxis": {
            "backgroundcolor": "rgb(17,17,17)",
            "gridcolor": "#506784",
            "gridwidth": 2,
            "linecolor": "#506784",
            "showbackground": true,
            "ticks": "",
            "zerolinecolor": "#C8D4E3"
           },
           "yaxis": {
            "backgroundcolor": "rgb(17,17,17)",
            "gridcolor": "#506784",
            "gridwidth": 2,
            "linecolor": "#506784",
            "showbackground": true,
            "ticks": "",
            "zerolinecolor": "#C8D4E3"
           },
           "zaxis": {
            "backgroundcolor": "rgb(17,17,17)",
            "gridcolor": "#506784",
            "gridwidth": 2,
            "linecolor": "#506784",
            "showbackground": true,
            "ticks": "",
            "zerolinecolor": "#C8D4E3"
           }
          },
          "shapedefaults": {
           "line": {
            "color": "#f2f5fa"
           }
          },
          "sliderdefaults": {
           "bgcolor": "#C8D4E3",
           "bordercolor": "rgb(17,17,17)",
           "borderwidth": 1,
           "tickwidth": 0
          },
          "ternary": {
           "aaxis": {
            "gridcolor": "#506784",
            "linecolor": "#506784",
            "ticks": ""
           },
           "baxis": {
            "gridcolor": "#506784",
            "linecolor": "#506784",
            "ticks": ""
           },
           "bgcolor": "rgb(17,17,17)",
           "caxis": {
            "gridcolor": "#506784",
            "linecolor": "#506784",
            "ticks": ""
           }
          },
          "title": {
           "x": 0.05
          },
          "updatemenudefaults": {
           "bgcolor": "#506784",
           "borderwidth": 0
          },
          "xaxis": {
           "automargin": true,
           "gridcolor": "#283442",
           "linecolor": "#506784",
           "ticks": "",
           "title": {
            "standoff": 15
           },
           "zerolinecolor": "#283442",
           "zerolinewidth": 2
          },
          "yaxis": {
           "automargin": true,
           "gridcolor": "#283442",
           "linecolor": "#506784",
           "ticks": "",
           "title": {
            "standoff": 15
           },
           "zerolinecolor": "#283442",
           "zerolinewidth": 2
          }
         }
        },
        "title": {
         "text": "Number of Samples Sequenced in 2021"
        },
        "width": 1200,
        "xaxis": {
         "autorange": true,
         "range": [
          0.4817432273262662,
          31.518256772673734
         ],
         "tickmode": "array",
         "tickvals": [
          1,
          2,
          3,
          4,
          5,
          6,
          7,
          8,
          9,
          10,
          11,
          12,
          13,
          14,
          15,
          16,
          17,
          18,
          19,
          20,
          21,
          22,
          23,
          24,
          25,
          26,
          27,
          28,
          29,
          30,
          31
         ],
         "title": {
          "text": "Day"
         },
         "type": "linear"
        },
        "yaxis": {
         "autorange": true,
         "range": [
          0.48119122257053293,
          12.518808777429467
         ],
         "tickmode": "array",
         "ticktext": [
          "Jan",
          "Feb",
          "Mar",
          "Apr",
          "May",
          "Jun",
          "Jul",
          "Aug",
          "Sep",
          "Oct",
          "Nov",
          "Dec"
         ],
         "tickvals": [
          1,
          2,
          3,
          4,
          5,
          6,
          7,
          8,
          9,
          10,
          11,
          12
         ],
         "title": {
          "text": "Month"
         },
         "type": "linear"
        }
       }
      },
      "image/png": "[encoded data removed]",
      "text/html": [
       "<div>                            <div id=\"033d6751-a281-440e-8a57-e0c953d8250c\" class=\"plotly-graph-div\" style=\"height:500px; width:1200px;\"></div>            <script type=\"text/javascript\">                require([\"plotly\"], function(Plotly) {                    window.PLOTLYENV=window.PLOTLYENV || {};                                    if (document.getElementById(\"033d6751-a281-440e-8a57-e0c953d8250c\")) {                    Plotly.newPlot(                        \"033d6751-a281-440e-8a57-e0c953d8250c\",                        [{\"colorbar\":{\"title\":{\"text\":\"Number of Samples Sequenced\"}},\"colorscale\":[[0.0,\"rgb(92, 83, 165)\"],[0.16666666666666666,\"rgb(160, 89, 160)\"],[0.3333333333333333,\"rgb(206, 102, 147)\"],[0.5,\"rgb(235, 127, 134)\"],[0.6666666666666666,\"rgb(248, 160, 126)\"],[0.8333333333333334,\"rgb(250, 196, 132)\"],[1.0,\"rgb(243, 231, 155)\"]],\"customdata\":[[0,0,0,0,6,8,8,34,0,0,20,0,48,52,18,0,0,12,4,4,20,12,0,0,24,6,6,33,10,0,0],[54,44,0,4,0,0,0,40,13,14,0,0,0,0,30,38,48,4,16,0,0,46,0,28,4,0,0,0,0,0,0],[10,6,14,0,60,0,0,0,6,0,39,8,0,0,9,2,0,20,12,0,0,12,5,6,28,12,0,0,0,0,48],[0,0,0,0,58,12,4,4,53,0,16,32,24,63,24,0,0,0,26,9,23,2,20,0,0,18,8,12,31,0,0],[0,10,105,20,13,24,30,0,0,15,12,36,12,24,0,0,17,1,23,0,45,0,0,70,13,36,38,14,0,4,66],[23,32,52,31,0,0,14,12,18,0,0,0,0,16,5,34,20,42,0,0,10,26,36,0,12,0,0,0,8,26,0],[6,38,0,0,12,29,6,12,52,0,0,40,4,15,0,16,0,0,0,0,66,4,10,0,0,8,9,22,0,5,1],[0,0,0,0,0,0,0,0,0,0,0,0,0,0,0,0,0,0,0,0,0,0,0,0,0,0,0,0,0,0,12],[26,0,20,0,0,28,4,10,4,1,0,0,22,2,11,35,0,0,0,18,0,5,16,110,0,0,0,55,21,4,0],[18,0,0,22,27,2,20,8,0,0,84,8,32,0,4,0,0,0,24,52,28,26,0,0,80,12,20,4,28,0,0],[50,0,6,0,0,0,0,42,0,0,4,64,0,0,78,16,6,2,59,0,0,68,26,20,28,78,0,0,28,32,0],[70,12,38,0,0,14,25,40,8,8,0,0,50,9,78,34,34,0,0,26,16,4,22,0,0,0,48,0,0,0,0]],\"hovertemplate\":\"Month: %{y}\\u003cbr\\u003eDay: %{x}\\u003cbr\\u003eNumber of Samples Sequenced: %{customdata}\\u003cextra\\u003e\\u003c\\u002fextra\\u003e\",\"x\":[1,2,3,4,5,6,7,8,9,10,11,12,13,14,15,16,17,18,19,20,21,22,23,24,25,26,27,28,29,30,31],\"y\":[1,2,3,4,5,6,7,8,9,10,11,12],\"z\":[[0,0,0,0,6,8,8,34,0,0,20,0,48,52,18,0,0,12,4,4,20,12,0,0,24,6,6,33,10,0,0],[54,44,0,4,0,0,0,40,13,14,0,0,0,0,30,38,48,4,16,0,0,46,0,28,4,0,0,0,0,0,0],[10,6,14,0,60,0,0,0,6,0,39,8,0,0,9,2,0,20,12,0,0,12,5,6,28,12,0,0,0,0,48],[0,0,0,0,58,12,4,4,53,0,16,32,24,63,24,0,0,0,26,9,23,2,20,0,0,18,8,12,31,0,0],[0,10,105,20,13,24,30,0,0,15,12,36,12,24,0,0,17,1,23,0,45,0,0,70,13,36,38,14,0,4,66],[23,32,52,31,0,0,14,12,18,0,0,0,0,16,5,34,20,42,0,0,10,26,36,0,12,0,0,0,8,26,0],[6,38,0,0,12,29,6,12,52,0,0,40,4,15,0,16,0,0,0,0,66,4,10,0,0,8,9,22,0,5,1],[0,0,0,0,0,0,0,0,0,0,0,0,0,0,0,0,0,0,0,0,0,0,0,0,0,0,0,0,0,0,12],[26,0,20,0,0,28,4,10,4,1,0,0,22,2,11,35,0,0,0,18,0,5,16,110,0,0,0,55,21,4,0],[18,0,0,22,27,2,20,8,0,0,84,8,32,0,4,0,0,0,24,52,28,26,0,0,80,12,20,4,28,0,0],[50,0,6,0,0,0,0,42,0,0,4,64,0,0,78,16,6,2,59,0,0,68,26,20,28,78,0,0,28,32,0],[70,12,38,0,0,14,25,40,8,8,0,0,50,9,78,34,34,0,0,26,16,4,22,0,0,0,48,0,0,0,0]],\"type\":\"heatmap\"}],                        {\"template\":{\"data\":{\"barpolar\":[{\"marker\":{\"line\":{\"color\":\"rgb(17,17,17)\",\"width\":0.5},\"pattern\":{\"fillmode\":\"overlay\",\"size\":10,\"solidity\":0.2}},\"type\":\"barpolar\"}],\"bar\":[{\"error_x\":{\"color\":\"#f2f5fa\"},\"error_y\":{\"color\":\"#f2f5fa\"},\"marker\":{\"line\":{\"color\":\"rgb(17,17,17)\",\"width\":0.5},\"pattern\":{\"fillmode\":\"overlay\",\"size\":10,\"solidity\":0.2}},\"type\":\"bar\"}],\"carpet\":[{\"aaxis\":{\"endlinecolor\":\"#A2B1C6\",\"gridcolor\":\"#506784\",\"linecolor\":\"#506784\",\"minorgridcolor\":\"#506784\",\"startlinecolor\":\"#A2B1C6\"},\"baxis\":{\"endlinecolor\":\"#A2B1C6\",\"gridcolor\":\"#506784\",\"linecolor\":\"#506784\",\"minorgridcolor\":\"#506784\",\"startlinecolor\":\"#A2B1C6\"},\"type\":\"carpet\"}],\"choropleth\":[{\"colorbar\":{\"outlinewidth\":0,\"ticks\":\"\"},\"type\":\"choropleth\"}],\"contourcarpet\":[{\"colorbar\":{\"outlinewidth\":0,\"ticks\":\"\"},\"type\":\"contourcarpet\"}],\"contour\":[{\"colorbar\":{\"outlinewidth\":0,\"ticks\":\"\"},\"colorscale\":[[0.0,\"#0d0887\"],[0.1111111111111111,\"#46039f\"],[0.2222222222222222,\"#7201a8\"],[0.3333333333333333,\"#9c179e\"],[0.4444444444444444,\"#bd3786\"],[0.5555555555555556,\"#d8576b\"],[0.6666666666666666,\"#ed7953\"],[0.7777777777777778,\"#fb9f3a\"],[0.8888888888888888,\"#fdca26\"],[1.0,\"#f0f921\"]],\"type\":\"contour\"}],\"heatmapgl\":[{\"colorbar\":{\"outlinewidth\":0,\"ticks\":\"\"},\"colorscale\":[[0.0,\"#0d0887\"],[0.1111111111111111,\"#46039f\"],[0.2222222222222222,\"#7201a8\"],[0.3333333333333333,\"#9c179e\"],[0.4444444444444444,\"#bd3786\"],[0.5555555555555556,\"#d8576b\"],[0.6666666666666666,\"#ed7953\"],[0.7777777777777778,\"#fb9f3a\"],[0.8888888888888888,\"#fdca26\"],[1.0,\"#f0f921\"]],\"type\":\"heatmapgl\"}],\"heatmap\":[{\"colorbar\":{\"outlinewidth\":0,\"ticks\":\"\"},\"colorscale\":[[0.0,\"#0d0887\"],[0.1111111111111111,\"#46039f\"],[0.2222222222222222,\"#7201a8\"],[0.3333333333333333,\"#9c179e\"],[0.4444444444444444,\"#bd3786\"],[0.5555555555555556,\"#d8576b\"],[0.6666666666666666,\"#ed7953\"],[0.7777777777777778,\"#fb9f3a\"],[0.8888888888888888,\"#fdca26\"],[1.0,\"#f0f921\"]],\"type\":\"heatmap\"}],\"histogram2dcontour\":[{\"colorbar\":{\"outlinewidth\":0,\"ticks\":\"\"},\"colorscale\":[[0.0,\"#0d0887\"],[0.1111111111111111,\"#46039f\"],[0.2222222222222222,\"#7201a8\"],[0.3333333333333333,\"#9c179e\"],[0.4444444444444444,\"#bd3786\"],[0.5555555555555556,\"#d8576b\"],[0.6666666666666666,\"#ed7953\"],[0.7777777777777778,\"#fb9f3a\"],[0.8888888888888888,\"#fdca26\"],[1.0,\"#f0f921\"]],\"type\":\"histogram2dcontour\"}],\"histogram2d\":[{\"colorbar\":{\"outlinewidth\":0,\"ticks\":\"\"},\"colorscale\":[[0.0,\"#0d0887\"],[0.1111111111111111,\"#46039f\"],[0.2222222222222222,\"#7201a8\"],[0.3333333333333333,\"#9c179e\"],[0.4444444444444444,\"#bd3786\"],[0.5555555555555556,\"#d8576b\"],[0.6666666666666666,\"#ed7953\"],[0.7777777777777778,\"#fb9f3a\"],[0.8888888888888888,\"#fdca26\"],[1.0,\"#f0f921\"]],\"type\":\"histogram2d\"}],\"histogram\":[{\"marker\":{\"pattern\":{\"fillmode\":\"overlay\",\"size\":10,\"solidity\":0.2}},\"type\":\"histogram\"}],\"mesh3d\":[{\"colorbar\":{\"outlinewidth\":0,\"ticks\":\"\"},\"type\":\"mesh3d\"}],\"parcoords\":[{\"line\":{\"colorbar\":{\"outlinewidth\":0,\"ticks\":\"\"}},\"type\":\"parcoords\"}],\"pie\":[{\"automargin\":true,\"type\":\"pie\"}],\"scatter3d\":[{\"line\":{\"colorbar\":{\"outlinewidth\":0,\"ticks\":\"\"}},\"marker\":{\"colorbar\":{\"outlinewidth\":0,\"ticks\":\"\"}},\"type\":\"scatter3d\"}],\"scattercarpet\":[{\"marker\":{\"colorbar\":{\"outlinewidth\":0,\"ticks\":\"\"}},\"type\":\"scattercarpet\"}],\"scattergeo\":[{\"marker\":{\"colorbar\":{\"outlinewidth\":0,\"ticks\":\"\"}},\"type\":\"scattergeo\"}],\"scattergl\":[{\"marker\":{\"line\":{\"color\":\"#283442\"}},\"type\":\"scattergl\"}],\"scattermapbox\":[{\"marker\":{\"colorbar\":{\"outlinewidth\":0,\"ticks\":\"\"}},\"type\":\"scattermapbox\"}],\"scatterpolargl\":[{\"marker\":{\"colorbar\":{\"outlinewidth\":0,\"ticks\":\"\"}},\"type\":\"scatterpolargl\"}],\"scatterpolar\":[{\"marker\":{\"colorbar\":{\"outlinewidth\":0,\"ticks\":\"\"}},\"type\":\"scatterpolar\"}],\"scatter\":[{\"marker\":{\"line\":{\"color\":\"#283442\"}},\"type\":\"scatter\"}],\"scatterternary\":[{\"marker\":{\"colorbar\":{\"outlinewidth\":0,\"ticks\":\"\"}},\"type\":\"scatterternary\"}],\"surface\":[{\"colorbar\":{\"outlinewidth\":0,\"ticks\":\"\"},\"colorscale\":[[0.0,\"#0d0887\"],[0.1111111111111111,\"#46039f\"],[0.2222222222222222,\"#7201a8\"],[0.3333333333333333,\"#9c179e\"],[0.4444444444444444,\"#bd3786\"],[0.5555555555555556,\"#d8576b\"],[0.6666666666666666,\"#ed7953\"],[0.7777777777777778,\"#fb9f3a\"],[0.8888888888888888,\"#fdca26\"],[1.0,\"#f0f921\"]],\"type\":\"surface\"}],\"table\":[{\"cells\":{\"fill\":{\"color\":\"#506784\"},\"line\":{\"color\":\"rgb(17,17,17)\"}},\"header\":{\"fill\":{\"color\":\"#2a3f5f\"},\"line\":{\"color\":\"rgb(17,17,17)\"}},\"type\":\"table\"}]},\"layout\":{\"annotationdefaults\":{\"arrowcolor\":\"#f2f5fa\",\"arrowhead\":0,\"arrowwidth\":1},\"autotypenumbers\":\"strict\",\"coloraxis\":{\"colorbar\":{\"outlinewidth\":0,\"ticks\":\"\"}},\"colorscale\":{\"diverging\":[[0,\"#8e0152\"],[0.1,\"#c51b7d\"],[0.2,\"#de77ae\"],[0.3,\"#f1b6da\"],[0.4,\"#fde0ef\"],[0.5,\"#f7f7f7\"],[0.6,\"#e6f5d0\"],[0.7,\"#b8e186\"],[0.8,\"#7fbc41\"],[0.9,\"#4d9221\"],[1,\"#276419\"]],\"sequential\":[[0.0,\"#0d0887\"],[0.1111111111111111,\"#46039f\"],[0.2222222222222222,\"#7201a8\"],[0.3333333333333333,\"#9c179e\"],[0.4444444444444444,\"#bd3786\"],[0.5555555555555556,\"#d8576b\"],[0.6666666666666666,\"#ed7953\"],[0.7777777777777778,\"#fb9f3a\"],[0.8888888888888888,\"#fdca26\"],[1.0,\"#f0f921\"]],\"sequentialminus\":[[0.0,\"#0d0887\"],[0.1111111111111111,\"#46039f\"],[0.2222222222222222,\"#7201a8\"],[0.3333333333333333,\"#9c179e\"],[0.4444444444444444,\"#bd3786\"],[0.5555555555555556,\"#d8576b\"],[0.6666666666666666,\"#ed7953\"],[0.7777777777777778,\"#fb9f3a\"],[0.8888888888888888,\"#fdca26\"],[1.0,\"#f0f921\"]]},\"colorway\":[\"#636efa\",\"#EF553B\",\"#00cc96\",\"#ab63fa\",\"#FFA15A\",\"#19d3f3\",\"#FF6692\",\"#B6E880\",\"#FF97FF\",\"#FECB52\"],\"font\":{\"color\":\"#f2f5fa\"},\"geo\":{\"bgcolor\":\"rgb(17,17,17)\",\"lakecolor\":\"rgb(17,17,17)\",\"landcolor\":\"rgb(17,17,17)\",\"showlakes\":true,\"showland\":true,\"subunitcolor\":\"#506784\"},\"hoverlabel\":{\"align\":\"left\"},\"hovermode\":\"closest\",\"mapbox\":{\"style\":\"dark\"},\"paper_bgcolor\":\"rgb(17,17,17)\",\"plot_bgcolor\":\"rgb(17,17,17)\",\"polar\":{\"angularaxis\":{\"gridcolor\":\"#506784\",\"linecolor\":\"#506784\",\"ticks\":\"\"},\"bgcolor\":\"rgb(17,17,17)\",\"radialaxis\":{\"gridcolor\":\"#506784\",\"linecolor\":\"#506784\",\"ticks\":\"\"}},\"scene\":{\"xaxis\":{\"backgroundcolor\":\"rgb(17,17,17)\",\"gridcolor\":\"#506784\",\"gridwidth\":2,\"linecolor\":\"#506784\",\"showbackground\":true,\"ticks\":\"\",\"zerolinecolor\":\"#C8D4E3\"},\"yaxis\":{\"backgroundcolor\":\"rgb(17,17,17)\",\"gridcolor\":\"#506784\",\"gridwidth\":2,\"linecolor\":\"#506784\",\"showbackground\":true,\"ticks\":\"\",\"zerolinecolor\":\"#C8D4E3\"},\"zaxis\":{\"backgroundcolor\":\"rgb(17,17,17)\",\"gridcolor\":\"#506784\",\"gridwidth\":2,\"linecolor\":\"#506784\",\"showbackground\":true,\"ticks\":\"\",\"zerolinecolor\":\"#C8D4E3\"}},\"shapedefaults\":{\"line\":{\"color\":\"#f2f5fa\"}},\"sliderdefaults\":{\"bgcolor\":\"#C8D4E3\",\"bordercolor\":\"rgb(17,17,17)\",\"borderwidth\":1,\"tickwidth\":0},\"ternary\":{\"aaxis\":{\"gridcolor\":\"#506784\",\"linecolor\":\"#506784\",\"ticks\":\"\"},\"baxis\":{\"gridcolor\":\"#506784\",\"linecolor\":\"#506784\",\"ticks\":\"\"},\"bgcolor\":\"rgb(17,17,17)\",\"caxis\":{\"gridcolor\":\"#506784\",\"linecolor\":\"#506784\",\"ticks\":\"\"}},\"title\":{\"x\":0.05},\"updatemenudefaults\":{\"bgcolor\":\"#506784\",\"borderwidth\":0},\"xaxis\":{\"automargin\":true,\"gridcolor\":\"#283442\",\"linecolor\":\"#506784\",\"ticks\":\"\",\"title\":{\"standoff\":15},\"zerolinecolor\":\"#283442\",\"zerolinewidth\":2},\"yaxis\":{\"automargin\":true,\"gridcolor\":\"#283442\",\"linecolor\":\"#506784\",\"ticks\":\"\",\"title\":{\"standoff\":15},\"zerolinecolor\":\"#283442\",\"zerolinewidth\":2}}},\"xaxis\":{\"title\":{\"text\":\"Day\"},\"tickmode\":\"array\",\"tickvals\":[1,2,3,4,5,6,7,8,9,10,11,12,13,14,15,16,17,18,19,20,21,22,23,24,25,26,27,28,29,30,31]},\"yaxis\":{\"title\":{\"text\":\"Month\"},\"tickmode\":\"array\",\"tickvals\":[1,2,3,4,5,6,7,8,9,10,11,12],\"ticktext\":[\"Jan\",\"Feb\",\"Mar\",\"Apr\",\"May\",\"Jun\",\"Jul\",\"Aug\",\"Sep\",\"Oct\",\"Nov\",\"Dec\"]},\"title\":{\"text\":\"Number of Samples Sequenced in 2021\"},\"shapes\":[{\"line\":{\"color\":\"grey\",\"width\":1},\"type\":\"rect\",\"x0\":0.5,\"x1\":1.5,\"y0\":0.5,\"y1\":1.5},{\"line\":{\"color\":\"grey\",\"width\":1},\"type\":\"rect\",\"x0\":1.5,\"x1\":2.5,\"y0\":0.5,\"y1\":1.5},{\"line\":{\"color\":\"grey\",\"width\":1},\"type\":\"rect\",\"x0\":2.5,\"x1\":3.5,\"y0\":0.5,\"y1\":1.5},{\"line\":{\"color\":\"grey\",\"width\":1},\"type\":\"rect\",\"x0\":3.5,\"x1\":4.5,\"y0\":0.5,\"y1\":1.5},{\"line\":{\"color\":\"grey\",\"width\":1},\"type\":\"rect\",\"x0\":4.5,\"x1\":5.5,\"y0\":0.5,\"y1\":1.5},{\"line\":{\"color\":\"grey\",\"width\":1},\"type\":\"rect\",\"x0\":5.5,\"x1\":6.5,\"y0\":0.5,\"y1\":1.5},{\"line\":{\"color\":\"grey\",\"width\":1},\"type\":\"rect\",\"x0\":6.5,\"x1\":7.5,\"y0\":0.5,\"y1\":1.5},{\"line\":{\"color\":\"grey\",\"width\":1},\"type\":\"rect\",\"x0\":7.5,\"x1\":8.5,\"y0\":0.5,\"y1\":1.5},{\"line\":{\"color\":\"grey\",\"width\":1},\"type\":\"rect\",\"x0\":8.5,\"x1\":9.5,\"y0\":0.5,\"y1\":1.5},{\"line\":{\"color\":\"grey\",\"width\":1},\"type\":\"rect\",\"x0\":9.5,\"x1\":10.5,\"y0\":0.5,\"y1\":1.5},{\"line\":{\"color\":\"grey\",\"width\":1},\"type\":\"rect\",\"x0\":10.5,\"x1\":11.5,\"y0\":0.5,\"y1\":1.5},{\"line\":{\"color\":\"grey\",\"width\":1},\"type\":\"rect\",\"x0\":11.5,\"x1\":12.5,\"y0\":0.5,\"y1\":1.5},{\"line\":{\"color\":\"grey\",\"width\":1},\"type\":\"rect\",\"x0\":12.5,\"x1\":13.5,\"y0\":0.5,\"y1\":1.5},{\"line\":{\"color\":\"grey\",\"width\":1},\"type\":\"rect\",\"x0\":13.5,\"x1\":14.5,\"y0\":0.5,\"y1\":1.5},{\"line\":{\"color\":\"grey\",\"width\":1},\"type\":\"rect\",\"x0\":14.5,\"x1\":15.5,\"y0\":0.5,\"y1\":1.5},{\"line\":{\"color\":\"grey\",\"width\":1},\"type\":\"rect\",\"x0\":15.5,\"x1\":16.5,\"y0\":0.5,\"y1\":1.5},{\"line\":{\"color\":\"grey\",\"width\":1},\"type\":\"rect\",\"x0\":16.5,\"x1\":17.5,\"y0\":0.5,\"y1\":1.5},{\"line\":{\"color\":\"grey\",\"width\":1},\"type\":\"rect\",\"x0\":17.5,\"x1\":18.5,\"y0\":0.5,\"y1\":1.5},{\"line\":{\"color\":\"grey\",\"width\":1},\"type\":\"rect\",\"x0\":18.5,\"x1\":19.5,\"y0\":0.5,\"y1\":1.5},{\"line\":{\"color\":\"grey\",\"width\":1},\"type\":\"rect\",\"x0\":19.5,\"x1\":20.5,\"y0\":0.5,\"y1\":1.5},{\"line\":{\"color\":\"grey\",\"width\":1},\"type\":\"rect\",\"x0\":20.5,\"x1\":21.5,\"y0\":0.5,\"y1\":1.5},{\"line\":{\"color\":\"grey\",\"width\":1},\"type\":\"rect\",\"x0\":21.5,\"x1\":22.5,\"y0\":0.5,\"y1\":1.5},{\"line\":{\"color\":\"grey\",\"width\":1},\"type\":\"rect\",\"x0\":22.5,\"x1\":23.5,\"y0\":0.5,\"y1\":1.5},{\"line\":{\"color\":\"grey\",\"width\":1},\"type\":\"rect\",\"x0\":23.5,\"x1\":24.5,\"y0\":0.5,\"y1\":1.5},{\"line\":{\"color\":\"grey\",\"width\":1},\"type\":\"rect\",\"x0\":24.5,\"x1\":25.5,\"y0\":0.5,\"y1\":1.5},{\"line\":{\"color\":\"grey\",\"width\":1},\"type\":\"rect\",\"x0\":25.5,\"x1\":26.5,\"y0\":0.5,\"y1\":1.5},{\"line\":{\"color\":\"grey\",\"width\":1},\"type\":\"rect\",\"x0\":26.5,\"x1\":27.5,\"y0\":0.5,\"y1\":1.5},{\"line\":{\"color\":\"grey\",\"width\":1},\"type\":\"rect\",\"x0\":27.5,\"x1\":28.5,\"y0\":0.5,\"y1\":1.5},{\"line\":{\"color\":\"grey\",\"width\":1},\"type\":\"rect\",\"x0\":28.5,\"x1\":29.5,\"y0\":0.5,\"y1\":1.5},{\"line\":{\"color\":\"grey\",\"width\":1},\"type\":\"rect\",\"x0\":29.5,\"x1\":30.5,\"y0\":0.5,\"y1\":1.5},{\"line\":{\"color\":\"grey\",\"width\":1},\"type\":\"rect\",\"x0\":30.5,\"x1\":31.5,\"y0\":0.5,\"y1\":1.5},{\"line\":{\"color\":\"grey\",\"width\":1},\"type\":\"rect\",\"x0\":0.5,\"x1\":1.5,\"y0\":1.5,\"y1\":2.5},{\"line\":{\"color\":\"grey\",\"width\":1},\"type\":\"rect\",\"x0\":1.5,\"x1\":2.5,\"y0\":1.5,\"y1\":2.5},{\"line\":{\"color\":\"grey\",\"width\":1},\"type\":\"rect\",\"x0\":2.5,\"x1\":3.5,\"y0\":1.5,\"y1\":2.5},{\"line\":{\"color\":\"grey\",\"width\":1},\"type\":\"rect\",\"x0\":3.5,\"x1\":4.5,\"y0\":1.5,\"y1\":2.5},{\"line\":{\"color\":\"grey\",\"width\":1},\"type\":\"rect\",\"x0\":4.5,\"x1\":5.5,\"y0\":1.5,\"y1\":2.5},{\"line\":{\"color\":\"grey\",\"width\":1},\"type\":\"rect\",\"x0\":5.5,\"x1\":6.5,\"y0\":1.5,\"y1\":2.5},{\"line\":{\"color\":\"grey\",\"width\":1},\"type\":\"rect\",\"x0\":6.5,\"x1\":7.5,\"y0\":1.5,\"y1\":2.5},{\"line\":{\"color\":\"grey\",\"width\":1},\"type\":\"rect\",\"x0\":7.5,\"x1\":8.5,\"y0\":1.5,\"y1\":2.5},{\"line\":{\"color\":\"grey\",\"width\":1},\"type\":\"rect\",\"x0\":8.5,\"x1\":9.5,\"y0\":1.5,\"y1\":2.5},{\"line\":{\"color\":\"grey\",\"width\":1},\"type\":\"rect\",\"x0\":9.5,\"x1\":10.5,\"y0\":1.5,\"y1\":2.5},{\"line\":{\"color\":\"grey\",\"width\":1},\"type\":\"rect\",\"x0\":10.5,\"x1\":11.5,\"y0\":1.5,\"y1\":2.5},{\"line\":{\"color\":\"grey\",\"width\":1},\"type\":\"rect\",\"x0\":11.5,\"x1\":12.5,\"y0\":1.5,\"y1\":2.5},{\"line\":{\"color\":\"grey\",\"width\":1},\"type\":\"rect\",\"x0\":12.5,\"x1\":13.5,\"y0\":1.5,\"y1\":2.5},{\"line\":{\"color\":\"grey\",\"width\":1},\"type\":\"rect\",\"x0\":13.5,\"x1\":14.5,\"y0\":1.5,\"y1\":2.5},{\"line\":{\"color\":\"grey\",\"width\":1},\"type\":\"rect\",\"x0\":14.5,\"x1\":15.5,\"y0\":1.5,\"y1\":2.5},{\"line\":{\"color\":\"grey\",\"width\":1},\"type\":\"rect\",\"x0\":15.5,\"x1\":16.5,\"y0\":1.5,\"y1\":2.5},{\"line\":{\"color\":\"grey\",\"width\":1},\"type\":\"rect\",\"x0\":16.5,\"x1\":17.5,\"y0\":1.5,\"y1\":2.5},{\"line\":{\"color\":\"grey\",\"width\":1},\"type\":\"rect\",\"x0\":17.5,\"x1\":18.5,\"y0\":1.5,\"y1\":2.5},{\"line\":{\"color\":\"grey\",\"width\":1},\"type\":\"rect\",\"x0\":18.5,\"x1\":19.5,\"y0\":1.5,\"y1\":2.5},{\"line\":{\"color\":\"grey\",\"width\":1},\"type\":\"rect\",\"x0\":19.5,\"x1\":20.5,\"y0\":1.5,\"y1\":2.5},{\"line\":{\"color\":\"grey\",\"width\":1},\"type\":\"rect\",\"x0\":20.5,\"x1\":21.5,\"y0\":1.5,\"y1\":2.5},{\"line\":{\"color\":\"grey\",\"width\":1},\"type\":\"rect\",\"x0\":21.5,\"x1\":22.5,\"y0\":1.5,\"y1\":2.5},{\"line\":{\"color\":\"grey\",\"width\":1},\"type\":\"rect\",\"x0\":22.5,\"x1\":23.5,\"y0\":1.5,\"y1\":2.5},{\"line\":{\"color\":\"grey\",\"width\":1},\"type\":\"rect\",\"x0\":23.5,\"x1\":24.5,\"y0\":1.5,\"y1\":2.5},{\"line\":{\"color\":\"grey\",\"width\":1},\"type\":\"rect\",\"x0\":24.5,\"x1\":25.5,\"y0\":1.5,\"y1\":2.5},{\"line\":{\"color\":\"grey\",\"width\":1},\"type\":\"rect\",\"x0\":25.5,\"x1\":26.5,\"y0\":1.5,\"y1\":2.5},{\"line\":{\"color\":\"grey\",\"width\":1},\"type\":\"rect\",\"x0\":26.5,\"x1\":27.5,\"y0\":1.5,\"y1\":2.5},{\"line\":{\"color\":\"grey\",\"width\":1},\"type\":\"rect\",\"x0\":27.5,\"x1\":28.5,\"y0\":1.5,\"y1\":2.5},{\"line\":{\"color\":\"grey\",\"width\":1},\"type\":\"rect\",\"x0\":28.5,\"x1\":29.5,\"y0\":1.5,\"y1\":2.5},{\"line\":{\"color\":\"grey\",\"width\":1},\"type\":\"rect\",\"x0\":29.5,\"x1\":30.5,\"y0\":1.5,\"y1\":2.5},{\"line\":{\"color\":\"grey\",\"width\":1},\"type\":\"rect\",\"x0\":30.5,\"x1\":31.5,\"y0\":1.5,\"y1\":2.5},{\"line\":{\"color\":\"grey\",\"width\":1},\"type\":\"rect\",\"x0\":0.5,\"x1\":1.5,\"y0\":2.5,\"y1\":3.5},{\"line\":{\"color\":\"grey\",\"width\":1},\"type\":\"rect\",\"x0\":1.5,\"x1\":2.5,\"y0\":2.5,\"y1\":3.5},{\"line\":{\"color\":\"grey\",\"width\":1},\"type\":\"rect\",\"x0\":2.5,\"x1\":3.5,\"y0\":2.5,\"y1\":3.5},{\"line\":{\"color\":\"grey\",\"width\":1},\"type\":\"rect\",\"x0\":3.5,\"x1\":4.5,\"y0\":2.5,\"y1\":3.5},{\"line\":{\"color\":\"grey\",\"width\":1},\"type\":\"rect\",\"x0\":4.5,\"x1\":5.5,\"y0\":2.5,\"y1\":3.5},{\"line\":{\"color\":\"grey\",\"width\":1},\"type\":\"rect\",\"x0\":5.5,\"x1\":6.5,\"y0\":2.5,\"y1\":3.5},{\"line\":{\"color\":\"grey\",\"width\":1},\"type\":\"rect\",\"x0\":6.5,\"x1\":7.5,\"y0\":2.5,\"y1\":3.5},{\"line\":{\"color\":\"grey\",\"width\":1},\"type\":\"rect\",\"x0\":7.5,\"x1\":8.5,\"y0\":2.5,\"y1\":3.5},{\"line\":{\"color\":\"grey\",\"width\":1},\"type\":\"rect\",\"x0\":8.5,\"x1\":9.5,\"y0\":2.5,\"y1\":3.5},{\"line\":{\"color\":\"grey\",\"width\":1},\"type\":\"rect\",\"x0\":9.5,\"x1\":10.5,\"y0\":2.5,\"y1\":3.5},{\"line\":{\"color\":\"grey\",\"width\":1},\"type\":\"rect\",\"x0\":10.5,\"x1\":11.5,\"y0\":2.5,\"y1\":3.5},{\"line\":{\"color\":\"grey\",\"width\":1},\"type\":\"rect\",\"x0\":11.5,\"x1\":12.5,\"y0\":2.5,\"y1\":3.5},{\"line\":{\"color\":\"grey\",\"width\":1},\"type\":\"rect\",\"x0\":12.5,\"x1\":13.5,\"y0\":2.5,\"y1\":3.5},{\"line\":{\"color\":\"grey\",\"width\":1},\"type\":\"rect\",\"x0\":13.5,\"x1\":14.5,\"y0\":2.5,\"y1\":3.5},{\"line\":{\"color\":\"grey\",\"width\":1},\"type\":\"rect\",\"x0\":14.5,\"x1\":15.5,\"y0\":2.5,\"y1\":3.5},{\"line\":{\"color\":\"grey\",\"width\":1},\"type\":\"rect\",\"x0\":15.5,\"x1\":16.5,\"y0\":2.5,\"y1\":3.5},{\"line\":{\"color\":\"grey\",\"width\":1},\"type\":\"rect\",\"x0\":16.5,\"x1\":17.5,\"y0\":2.5,\"y1\":3.5},{\"line\":{\"color\":\"grey\",\"width\":1},\"type\":\"rect\",\"x0\":17.5,\"x1\":18.5,\"y0\":2.5,\"y1\":3.5},{\"line\":{\"color\":\"grey\",\"width\":1},\"type\":\"rect\",\"x0\":18.5,\"x1\":19.5,\"y0\":2.5,\"y1\":3.5},{\"line\":{\"color\":\"grey\",\"width\":1},\"type\":\"rect\",\"x0\":19.5,\"x1\":20.5,\"y0\":2.5,\"y1\":3.5},{\"line\":{\"color\":\"grey\",\"width\":1},\"type\":\"rect\",\"x0\":20.5,\"x1\":21.5,\"y0\":2.5,\"y1\":3.5},{\"line\":{\"color\":\"grey\",\"width\":1},\"type\":\"rect\",\"x0\":21.5,\"x1\":22.5,\"y0\":2.5,\"y1\":3.5},{\"line\":{\"color\":\"grey\",\"width\":1},\"type\":\"rect\",\"x0\":22.5,\"x1\":23.5,\"y0\":2.5,\"y1\":3.5},{\"line\":{\"color\":\"grey\",\"width\":1},\"type\":\"rect\",\"x0\":23.5,\"x1\":24.5,\"y0\":2.5,\"y1\":3.5},{\"line\":{\"color\":\"grey\",\"width\":1},\"type\":\"rect\",\"x0\":24.5,\"x1\":25.5,\"y0\":2.5,\"y1\":3.5},{\"line\":{\"color\":\"grey\",\"width\":1},\"type\":\"rect\",\"x0\":25.5,\"x1\":26.5,\"y0\":2.5,\"y1\":3.5},{\"line\":{\"color\":\"grey\",\"width\":1},\"type\":\"rect\",\"x0\":26.5,\"x1\":27.5,\"y0\":2.5,\"y1\":3.5},{\"line\":{\"color\":\"grey\",\"width\":1},\"type\":\"rect\",\"x0\":27.5,\"x1\":28.5,\"y0\":2.5,\"y1\":3.5},{\"line\":{\"color\":\"grey\",\"width\":1},\"type\":\"rect\",\"x0\":28.5,\"x1\":29.5,\"y0\":2.5,\"y1\":3.5},{\"line\":{\"color\":\"grey\",\"width\":1},\"type\":\"rect\",\"x0\":29.5,\"x1\":30.5,\"y0\":2.5,\"y1\":3.5},{\"line\":{\"color\":\"grey\",\"width\":1},\"type\":\"rect\",\"x0\":30.5,\"x1\":31.5,\"y0\":2.5,\"y1\":3.5},{\"line\":{\"color\":\"grey\",\"width\":1},\"type\":\"rect\",\"x0\":0.5,\"x1\":1.5,\"y0\":3.5,\"y1\":4.5},{\"line\":{\"color\":\"grey\",\"width\":1},\"type\":\"rect\",\"x0\":1.5,\"x1\":2.5,\"y0\":3.5,\"y1\":4.5},{\"line\":{\"color\":\"grey\",\"width\":1},\"type\":\"rect\",\"x0\":2.5,\"x1\":3.5,\"y0\":3.5,\"y1\":4.5},{\"line\":{\"color\":\"grey\",\"width\":1},\"type\":\"rect\",\"x0\":3.5,\"x1\":4.5,\"y0\":3.5,\"y1\":4.5},{\"line\":{\"color\":\"grey\",\"width\":1},\"type\":\"rect\",\"x0\":4.5,\"x1\":5.5,\"y0\":3.5,\"y1\":4.5},{\"line\":{\"color\":\"grey\",\"width\":1},\"type\":\"rect\",\"x0\":5.5,\"x1\":6.5,\"y0\":3.5,\"y1\":4.5},{\"line\":{\"color\":\"grey\",\"width\":1},\"type\":\"rect\",\"x0\":6.5,\"x1\":7.5,\"y0\":3.5,\"y1\":4.5},{\"line\":{\"color\":\"grey\",\"width\":1},\"type\":\"rect\",\"x0\":7.5,\"x1\":8.5,\"y0\":3.5,\"y1\":4.5},{\"line\":{\"color\":\"grey\",\"width\":1},\"type\":\"rect\",\"x0\":8.5,\"x1\":9.5,\"y0\":3.5,\"y1\":4.5},{\"line\":{\"color\":\"grey\",\"width\":1},\"type\":\"rect\",\"x0\":9.5,\"x1\":10.5,\"y0\":3.5,\"y1\":4.5},{\"line\":{\"color\":\"grey\",\"width\":1},\"type\":\"rect\",\"x0\":10.5,\"x1\":11.5,\"y0\":3.5,\"y1\":4.5},{\"line\":{\"color\":\"grey\",\"width\":1},\"type\":\"rect\",\"x0\":11.5,\"x1\":12.5,\"y0\":3.5,\"y1\":4.5},{\"line\":{\"color\":\"grey\",\"width\":1},\"type\":\"rect\",\"x0\":12.5,\"x1\":13.5,\"y0\":3.5,\"y1\":4.5},{\"line\":{\"color\":\"grey\",\"width\":1},\"type\":\"rect\",\"x0\":13.5,\"x1\":14.5,\"y0\":3.5,\"y1\":4.5},{\"line\":{\"color\":\"grey\",\"width\":1},\"type\":\"rect\",\"x0\":14.5,\"x1\":15.5,\"y0\":3.5,\"y1\":4.5},{\"line\":{\"color\":\"grey\",\"width\":1},\"type\":\"rect\",\"x0\":15.5,\"x1\":16.5,\"y0\":3.5,\"y1\":4.5},{\"line\":{\"color\":\"grey\",\"width\":1},\"type\":\"rect\",\"x0\":16.5,\"x1\":17.5,\"y0\":3.5,\"y1\":4.5},{\"line\":{\"color\":\"grey\",\"width\":1},\"type\":\"rect\",\"x0\":17.5,\"x1\":18.5,\"y0\":3.5,\"y1\":4.5},{\"line\":{\"color\":\"grey\",\"width\":1},\"type\":\"rect\",\"x0\":18.5,\"x1\":19.5,\"y0\":3.5,\"y1\":4.5},{\"line\":{\"color\":\"grey\",\"width\":1},\"type\":\"rect\",\"x0\":19.5,\"x1\":20.5,\"y0\":3.5,\"y1\":4.5},{\"line\":{\"color\":\"grey\",\"width\":1},\"type\":\"rect\",\"x0\":20.5,\"x1\":21.5,\"y0\":3.5,\"y1\":4.5},{\"line\":{\"color\":\"grey\",\"width\":1},\"type\":\"rect\",\"x0\":21.5,\"x1\":22.5,\"y0\":3.5,\"y1\":4.5},{\"line\":{\"color\":\"grey\",\"width\":1},\"type\":\"rect\",\"x0\":22.5,\"x1\":23.5,\"y0\":3.5,\"y1\":4.5},{\"line\":{\"color\":\"grey\",\"width\":1},\"type\":\"rect\",\"x0\":23.5,\"x1\":24.5,\"y0\":3.5,\"y1\":4.5},{\"line\":{\"color\":\"grey\",\"width\":1},\"type\":\"rect\",\"x0\":24.5,\"x1\":25.5,\"y0\":3.5,\"y1\":4.5},{\"line\":{\"color\":\"grey\",\"width\":1},\"type\":\"rect\",\"x0\":25.5,\"x1\":26.5,\"y0\":3.5,\"y1\":4.5},{\"line\":{\"color\":\"grey\",\"width\":1},\"type\":\"rect\",\"x0\":26.5,\"x1\":27.5,\"y0\":3.5,\"y1\":4.5},{\"line\":{\"color\":\"grey\",\"width\":1},\"type\":\"rect\",\"x0\":27.5,\"x1\":28.5,\"y0\":3.5,\"y1\":4.5},{\"line\":{\"color\":\"grey\",\"width\":1},\"type\":\"rect\",\"x0\":28.5,\"x1\":29.5,\"y0\":3.5,\"y1\":4.5},{\"line\":{\"color\":\"grey\",\"width\":1},\"type\":\"rect\",\"x0\":29.5,\"x1\":30.5,\"y0\":3.5,\"y1\":4.5},{\"line\":{\"color\":\"grey\",\"width\":1},\"type\":\"rect\",\"x0\":30.5,\"x1\":31.5,\"y0\":3.5,\"y1\":4.5},{\"line\":{\"color\":\"grey\",\"width\":1},\"type\":\"rect\",\"x0\":0.5,\"x1\":1.5,\"y0\":4.5,\"y1\":5.5},{\"line\":{\"color\":\"grey\",\"width\":1},\"type\":\"rect\",\"x0\":1.5,\"x1\":2.5,\"y0\":4.5,\"y1\":5.5},{\"line\":{\"color\":\"grey\",\"width\":1},\"type\":\"rect\",\"x0\":2.5,\"x1\":3.5,\"y0\":4.5,\"y1\":5.5},{\"line\":{\"color\":\"grey\",\"width\":1},\"type\":\"rect\",\"x0\":3.5,\"x1\":4.5,\"y0\":4.5,\"y1\":5.5},{\"line\":{\"color\":\"grey\",\"width\":1},\"type\":\"rect\",\"x0\":4.5,\"x1\":5.5,\"y0\":4.5,\"y1\":5.5},{\"line\":{\"color\":\"grey\",\"width\":1},\"type\":\"rect\",\"x0\":5.5,\"x1\":6.5,\"y0\":4.5,\"y1\":5.5},{\"line\":{\"color\":\"grey\",\"width\":1},\"type\":\"rect\",\"x0\":6.5,\"x1\":7.5,\"y0\":4.5,\"y1\":5.5},{\"line\":{\"color\":\"grey\",\"width\":1},\"type\":\"rect\",\"x0\":7.5,\"x1\":8.5,\"y0\":4.5,\"y1\":5.5},{\"line\":{\"color\":\"grey\",\"width\":1},\"type\":\"rect\",\"x0\":8.5,\"x1\":9.5,\"y0\":4.5,\"y1\":5.5},{\"line\":{\"color\":\"grey\",\"width\":1},\"type\":\"rect\",\"x0\":9.5,\"x1\":10.5,\"y0\":4.5,\"y1\":5.5},{\"line\":{\"color\":\"grey\",\"width\":1},\"type\":\"rect\",\"x0\":10.5,\"x1\":11.5,\"y0\":4.5,\"y1\":5.5},{\"line\":{\"color\":\"grey\",\"width\":1},\"type\":\"rect\",\"x0\":11.5,\"x1\":12.5,\"y0\":4.5,\"y1\":5.5},{\"line\":{\"color\":\"grey\",\"width\":1},\"type\":\"rect\",\"x0\":12.5,\"x1\":13.5,\"y0\":4.5,\"y1\":5.5},{\"line\":{\"color\":\"grey\",\"width\":1},\"type\":\"rect\",\"x0\":13.5,\"x1\":14.5,\"y0\":4.5,\"y1\":5.5},{\"line\":{\"color\":\"grey\",\"width\":1},\"type\":\"rect\",\"x0\":14.5,\"x1\":15.5,\"y0\":4.5,\"y1\":5.5},{\"line\":{\"color\":\"grey\",\"width\":1},\"type\":\"rect\",\"x0\":15.5,\"x1\":16.5,\"y0\":4.5,\"y1\":5.5},{\"line\":{\"color\":\"grey\",\"width\":1},\"type\":\"rect\",\"x0\":16.5,\"x1\":17.5,\"y0\":4.5,\"y1\":5.5},{\"line\":{\"color\":\"grey\",\"width\":1},\"type\":\"rect\",\"x0\":17.5,\"x1\":18.5,\"y0\":4.5,\"y1\":5.5},{\"line\":{\"color\":\"grey\",\"width\":1},\"type\":\"rect\",\"x0\":18.5,\"x1\":19.5,\"y0\":4.5,\"y1\":5.5},{\"line\":{\"color\":\"grey\",\"width\":1},\"type\":\"rect\",\"x0\":19.5,\"x1\":20.5,\"y0\":4.5,\"y1\":5.5},{\"line\":{\"color\":\"grey\",\"width\":1},\"type\":\"rect\",\"x0\":20.5,\"x1\":21.5,\"y0\":4.5,\"y1\":5.5},{\"line\":{\"color\":\"grey\",\"width\":1},\"type\":\"rect\",\"x0\":21.5,\"x1\":22.5,\"y0\":4.5,\"y1\":5.5},{\"line\":{\"color\":\"grey\",\"width\":1},\"type\":\"rect\",\"x0\":22.5,\"x1\":23.5,\"y0\":4.5,\"y1\":5.5},{\"line\":{\"color\":\"grey\",\"width\":1},\"type\":\"rect\",\"x0\":23.5,\"x1\":24.5,\"y0\":4.5,\"y1\":5.5},{\"line\":{\"color\":\"grey\",\"width\":1},\"type\":\"rect\",\"x0\":24.5,\"x1\":25.5,\"y0\":4.5,\"y1\":5.5},{\"line\":{\"color\":\"grey\",\"width\":1},\"type\":\"rect\",\"x0\":25.5,\"x1\":26.5,\"y0\":4.5,\"y1\":5.5},{\"line\":{\"color\":\"grey\",\"width\":1},\"type\":\"rect\",\"x0\":26.5,\"x1\":27.5,\"y0\":4.5,\"y1\":5.5},{\"line\":{\"color\":\"grey\",\"width\":1},\"type\":\"rect\",\"x0\":27.5,\"x1\":28.5,\"y0\":4.5,\"y1\":5.5},{\"line\":{\"color\":\"grey\",\"width\":1},\"type\":\"rect\",\"x0\":28.5,\"x1\":29.5,\"y0\":4.5,\"y1\":5.5},{\"line\":{\"color\":\"grey\",\"width\":1},\"type\":\"rect\",\"x0\":29.5,\"x1\":30.5,\"y0\":4.5,\"y1\":5.5},{\"line\":{\"color\":\"grey\",\"width\":1},\"type\":\"rect\",\"x0\":30.5,\"x1\":31.5,\"y0\":4.5,\"y1\":5.5},{\"line\":{\"color\":\"grey\",\"width\":1},\"type\":\"rect\",\"x0\":0.5,\"x1\":1.5,\"y0\":5.5,\"y1\":6.5},{\"line\":{\"color\":\"grey\",\"width\":1},\"type\":\"rect\",\"x0\":1.5,\"x1\":2.5,\"y0\":5.5,\"y1\":6.5},{\"line\":{\"color\":\"grey\",\"width\":1},\"type\":\"rect\",\"x0\":2.5,\"x1\":3.5,\"y0\":5.5,\"y1\":6.5},{\"line\":{\"color\":\"grey\",\"width\":1},\"type\":\"rect\",\"x0\":3.5,\"x1\":4.5,\"y0\":5.5,\"y1\":6.5},{\"line\":{\"color\":\"grey\",\"width\":1},\"type\":\"rect\",\"x0\":4.5,\"x1\":5.5,\"y0\":5.5,\"y1\":6.5},{\"line\":{\"color\":\"grey\",\"width\":1},\"type\":\"rect\",\"x0\":5.5,\"x1\":6.5,\"y0\":5.5,\"y1\":6.5},{\"line\":{\"color\":\"grey\",\"width\":1},\"type\":\"rect\",\"x0\":6.5,\"x1\":7.5,\"y0\":5.5,\"y1\":6.5},{\"line\":{\"color\":\"grey\",\"width\":1},\"type\":\"rect\",\"x0\":7.5,\"x1\":8.5,\"y0\":5.5,\"y1\":6.5},{\"line\":{\"color\":\"grey\",\"width\":1},\"type\":\"rect\",\"x0\":8.5,\"x1\":9.5,\"y0\":5.5,\"y1\":6.5},{\"line\":{\"color\":\"grey\",\"width\":1},\"type\":\"rect\",\"x0\":9.5,\"x1\":10.5,\"y0\":5.5,\"y1\":6.5},{\"line\":{\"color\":\"grey\",\"width\":1},\"type\":\"rect\",\"x0\":10.5,\"x1\":11.5,\"y0\":5.5,\"y1\":6.5},{\"line\":{\"color\":\"grey\",\"width\":1},\"type\":\"rect\",\"x0\":11.5,\"x1\":12.5,\"y0\":5.5,\"y1\":6.5},{\"line\":{\"color\":\"grey\",\"width\":1},\"type\":\"rect\",\"x0\":12.5,\"x1\":13.5,\"y0\":5.5,\"y1\":6.5},{\"line\":{\"color\":\"grey\",\"width\":1},\"type\":\"rect\",\"x0\":13.5,\"x1\":14.5,\"y0\":5.5,\"y1\":6.5},{\"line\":{\"color\":\"grey\",\"width\":1},\"type\":\"rect\",\"x0\":14.5,\"x1\":15.5,\"y0\":5.5,\"y1\":6.5},{\"line\":{\"color\":\"grey\",\"width\":1},\"type\":\"rect\",\"x0\":15.5,\"x1\":16.5,\"y0\":5.5,\"y1\":6.5},{\"line\":{\"color\":\"grey\",\"width\":1},\"type\":\"rect\",\"x0\":16.5,\"x1\":17.5,\"y0\":5.5,\"y1\":6.5},{\"line\":{\"color\":\"grey\",\"width\":1},\"type\":\"rect\",\"x0\":17.5,\"x1\":18.5,\"y0\":5.5,\"y1\":6.5},{\"line\":{\"color\":\"grey\",\"width\":1},\"type\":\"rect\",\"x0\":18.5,\"x1\":19.5,\"y0\":5.5,\"y1\":6.5},{\"line\":{\"color\":\"grey\",\"width\":1},\"type\":\"rect\",\"x0\":19.5,\"x1\":20.5,\"y0\":5.5,\"y1\":6.5},{\"line\":{\"color\":\"grey\",\"width\":1},\"type\":\"rect\",\"x0\":20.5,\"x1\":21.5,\"y0\":5.5,\"y1\":6.5},{\"line\":{\"color\":\"grey\",\"width\":1},\"type\":\"rect\",\"x0\":21.5,\"x1\":22.5,\"y0\":5.5,\"y1\":6.5},{\"line\":{\"color\":\"grey\",\"width\":1},\"type\":\"rect\",\"x0\":22.5,\"x1\":23.5,\"y0\":5.5,\"y1\":6.5},{\"line\":{\"color\":\"grey\",\"width\":1},\"type\":\"rect\",\"x0\":23.5,\"x1\":24.5,\"y0\":5.5,\"y1\":6.5},{\"line\":{\"color\":\"grey\",\"width\":1},\"type\":\"rect\",\"x0\":24.5,\"x1\":25.5,\"y0\":5.5,\"y1\":6.5},{\"line\":{\"color\":\"grey\",\"width\":1},\"type\":\"rect\",\"x0\":25.5,\"x1\":26.5,\"y0\":5.5,\"y1\":6.5},{\"line\":{\"color\":\"grey\",\"width\":1},\"type\":\"rect\",\"x0\":26.5,\"x1\":27.5,\"y0\":5.5,\"y1\":6.5},{\"line\":{\"color\":\"grey\",\"width\":1},\"type\":\"rect\",\"x0\":27.5,\"x1\":28.5,\"y0\":5.5,\"y1\":6.5},{\"line\":{\"color\":\"grey\",\"width\":1},\"type\":\"rect\",\"x0\":28.5,\"x1\":29.5,\"y0\":5.5,\"y1\":6.5},{\"line\":{\"color\":\"grey\",\"width\":1},\"type\":\"rect\",\"x0\":29.5,\"x1\":30.5,\"y0\":5.5,\"y1\":6.5},{\"line\":{\"color\":\"grey\",\"width\":1},\"type\":\"rect\",\"x0\":30.5,\"x1\":31.5,\"y0\":5.5,\"y1\":6.5},{\"line\":{\"color\":\"grey\",\"width\":1},\"type\":\"rect\",\"x0\":0.5,\"x1\":1.5,\"y0\":6.5,\"y1\":7.5},{\"line\":{\"color\":\"grey\",\"width\":1},\"type\":\"rect\",\"x0\":1.5,\"x1\":2.5,\"y0\":6.5,\"y1\":7.5},{\"line\":{\"color\":\"grey\",\"width\":1},\"type\":\"rect\",\"x0\":2.5,\"x1\":3.5,\"y0\":6.5,\"y1\":7.5},{\"line\":{\"color\":\"grey\",\"width\":1},\"type\":\"rect\",\"x0\":3.5,\"x1\":4.5,\"y0\":6.5,\"y1\":7.5},{\"line\":{\"color\":\"grey\",\"width\":1},\"type\":\"rect\",\"x0\":4.5,\"x1\":5.5,\"y0\":6.5,\"y1\":7.5},{\"line\":{\"color\":\"grey\",\"width\":1},\"type\":\"rect\",\"x0\":5.5,\"x1\":6.5,\"y0\":6.5,\"y1\":7.5},{\"line\":{\"color\":\"grey\",\"width\":1},\"type\":\"rect\",\"x0\":6.5,\"x1\":7.5,\"y0\":6.5,\"y1\":7.5},{\"line\":{\"color\":\"grey\",\"width\":1},\"type\":\"rect\",\"x0\":7.5,\"x1\":8.5,\"y0\":6.5,\"y1\":7.5},{\"line\":{\"color\":\"grey\",\"width\":1},\"type\":\"rect\",\"x0\":8.5,\"x1\":9.5,\"y0\":6.5,\"y1\":7.5},{\"line\":{\"color\":\"grey\",\"width\":1},\"type\":\"rect\",\"x0\":9.5,\"x1\":10.5,\"y0\":6.5,\"y1\":7.5},{\"line\":{\"color\":\"grey\",\"width\":1},\"type\":\"rect\",\"x0\":10.5,\"x1\":11.5,\"y0\":6.5,\"y1\":7.5},{\"line\":{\"color\":\"grey\",\"width\":1},\"type\":\"rect\",\"x0\":11.5,\"x1\":12.5,\"y0\":6.5,\"y1\":7.5},{\"line\":{\"color\":\"grey\",\"width\":1},\"type\":\"rect\",\"x0\":12.5,\"x1\":13.5,\"y0\":6.5,\"y1\":7.5},{\"line\":{\"color\":\"grey\",\"width\":1},\"type\":\"rect\",\"x0\":13.5,\"x1\":14.5,\"y0\":6.5,\"y1\":7.5},{\"line\":{\"color\":\"grey\",\"width\":1},\"type\":\"rect\",\"x0\":14.5,\"x1\":15.5,\"y0\":6.5,\"y1\":7.5},{\"line\":{\"color\":\"grey\",\"width\":1},\"type\":\"rect\",\"x0\":15.5,\"x1\":16.5,\"y0\":6.5,\"y1\":7.5},{\"line\":{\"color\":\"grey\",\"width\":1},\"type\":\"rect\",\"x0\":16.5,\"x1\":17.5,\"y0\":6.5,\"y1\":7.5},{\"line\":{\"color\":\"grey\",\"width\":1},\"type\":\"rect\",\"x0\":17.5,\"x1\":18.5,\"y0\":6.5,\"y1\":7.5},{\"line\":{\"color\":\"grey\",\"width\":1},\"type\":\"rect\",\"x0\":18.5,\"x1\":19.5,\"y0\":6.5,\"y1\":7.5},{\"line\":{\"color\":\"grey\",\"width\":1},\"type\":\"rect\",\"x0\":19.5,\"x1\":20.5,\"y0\":6.5,\"y1\":7.5},{\"line\":{\"color\":\"grey\",\"width\":1},\"type\":\"rect\",\"x0\":20.5,\"x1\":21.5,\"y0\":6.5,\"y1\":7.5},{\"line\":{\"color\":\"grey\",\"width\":1},\"type\":\"rect\",\"x0\":21.5,\"x1\":22.5,\"y0\":6.5,\"y1\":7.5},{\"line\":{\"color\":\"grey\",\"width\":1},\"type\":\"rect\",\"x0\":22.5,\"x1\":23.5,\"y0\":6.5,\"y1\":7.5},{\"line\":{\"color\":\"grey\",\"width\":1},\"type\":\"rect\",\"x0\":23.5,\"x1\":24.5,\"y0\":6.5,\"y1\":7.5},{\"line\":{\"color\":\"grey\",\"width\":1},\"type\":\"rect\",\"x0\":24.5,\"x1\":25.5,\"y0\":6.5,\"y1\":7.5},{\"line\":{\"color\":\"grey\",\"width\":1},\"type\":\"rect\",\"x0\":25.5,\"x1\":26.5,\"y0\":6.5,\"y1\":7.5},{\"line\":{\"color\":\"grey\",\"width\":1},\"type\":\"rect\",\"x0\":26.5,\"x1\":27.5,\"y0\":6.5,\"y1\":7.5},{\"line\":{\"color\":\"grey\",\"width\":1},\"type\":\"rect\",\"x0\":27.5,\"x1\":28.5,\"y0\":6.5,\"y1\":7.5},{\"line\":{\"color\":\"grey\",\"width\":1},\"type\":\"rect\",\"x0\":28.5,\"x1\":29.5,\"y0\":6.5,\"y1\":7.5},{\"line\":{\"color\":\"grey\",\"width\":1},\"type\":\"rect\",\"x0\":29.5,\"x1\":30.5,\"y0\":6.5,\"y1\":7.5},{\"line\":{\"color\":\"grey\",\"width\":1},\"type\":\"rect\",\"x0\":30.5,\"x1\":31.5,\"y0\":6.5,\"y1\":7.5},{\"line\":{\"color\":\"grey\",\"width\":1},\"type\":\"rect\",\"x0\":0.5,\"x1\":1.5,\"y0\":7.5,\"y1\":8.5},{\"line\":{\"color\":\"grey\",\"width\":1},\"type\":\"rect\",\"x0\":1.5,\"x1\":2.5,\"y0\":7.5,\"y1\":8.5},{\"line\":{\"color\":\"grey\",\"width\":1},\"type\":\"rect\",\"x0\":2.5,\"x1\":3.5,\"y0\":7.5,\"y1\":8.5},{\"line\":{\"color\":\"grey\",\"width\":1},\"type\":\"rect\",\"x0\":3.5,\"x1\":4.5,\"y0\":7.5,\"y1\":8.5},{\"line\":{\"color\":\"grey\",\"width\":1},\"type\":\"rect\",\"x0\":4.5,\"x1\":5.5,\"y0\":7.5,\"y1\":8.5},{\"line\":{\"color\":\"grey\",\"width\":1},\"type\":\"rect\",\"x0\":5.5,\"x1\":6.5,\"y0\":7.5,\"y1\":8.5},{\"line\":{\"color\":\"grey\",\"width\":1},\"type\":\"rect\",\"x0\":6.5,\"x1\":7.5,\"y0\":7.5,\"y1\":8.5},{\"line\":{\"color\":\"grey\",\"width\":1},\"type\":\"rect\",\"x0\":7.5,\"x1\":8.5,\"y0\":7.5,\"y1\":8.5},{\"line\":{\"color\":\"grey\",\"width\":1},\"type\":\"rect\",\"x0\":8.5,\"x1\":9.5,\"y0\":7.5,\"y1\":8.5},{\"line\":{\"color\":\"grey\",\"width\":1},\"type\":\"rect\",\"x0\":9.5,\"x1\":10.5,\"y0\":7.5,\"y1\":8.5},{\"line\":{\"color\":\"grey\",\"width\":1},\"type\":\"rect\",\"x0\":10.5,\"x1\":11.5,\"y0\":7.5,\"y1\":8.5},{\"line\":{\"color\":\"grey\",\"width\":1},\"type\":\"rect\",\"x0\":11.5,\"x1\":12.5,\"y0\":7.5,\"y1\":8.5},{\"line\":{\"color\":\"grey\",\"width\":1},\"type\":\"rect\",\"x0\":12.5,\"x1\":13.5,\"y0\":7.5,\"y1\":8.5},{\"line\":{\"color\":\"grey\",\"width\":1},\"type\":\"rect\",\"x0\":13.5,\"x1\":14.5,\"y0\":7.5,\"y1\":8.5},{\"line\":{\"color\":\"grey\",\"width\":1},\"type\":\"rect\",\"x0\":14.5,\"x1\":15.5,\"y0\":7.5,\"y1\":8.5},{\"line\":{\"color\":\"grey\",\"width\":1},\"type\":\"rect\",\"x0\":15.5,\"x1\":16.5,\"y0\":7.5,\"y1\":8.5},{\"line\":{\"color\":\"grey\",\"width\":1},\"type\":\"rect\",\"x0\":16.5,\"x1\":17.5,\"y0\":7.5,\"y1\":8.5},{\"line\":{\"color\":\"grey\",\"width\":1},\"type\":\"rect\",\"x0\":17.5,\"x1\":18.5,\"y0\":7.5,\"y1\":8.5},{\"line\":{\"color\":\"grey\",\"width\":1},\"type\":\"rect\",\"x0\":18.5,\"x1\":19.5,\"y0\":7.5,\"y1\":8.5},{\"line\":{\"color\":\"grey\",\"width\":1},\"type\":\"rect\",\"x0\":19.5,\"x1\":20.5,\"y0\":7.5,\"y1\":8.5},{\"line\":{\"color\":\"grey\",\"width\":1},\"type\":\"rect\",\"x0\":20.5,\"x1\":21.5,\"y0\":7.5,\"y1\":8.5},{\"line\":{\"color\":\"grey\",\"width\":1},\"type\":\"rect\",\"x0\":21.5,\"x1\":22.5,\"y0\":7.5,\"y1\":8.5},{\"line\":{\"color\":\"grey\",\"width\":1},\"type\":\"rect\",\"x0\":22.5,\"x1\":23.5,\"y0\":7.5,\"y1\":8.5},{\"line\":{\"color\":\"grey\",\"width\":1},\"type\":\"rect\",\"x0\":23.5,\"x1\":24.5,\"y0\":7.5,\"y1\":8.5},{\"line\":{\"color\":\"grey\",\"width\":1},\"type\":\"rect\",\"x0\":24.5,\"x1\":25.5,\"y0\":7.5,\"y1\":8.5},{\"line\":{\"color\":\"grey\",\"width\":1},\"type\":\"rect\",\"x0\":25.5,\"x1\":26.5,\"y0\":7.5,\"y1\":8.5},{\"line\":{\"color\":\"grey\",\"width\":1},\"type\":\"rect\",\"x0\":26.5,\"x1\":27.5,\"y0\":7.5,\"y1\":8.5},{\"line\":{\"color\":\"grey\",\"width\":1},\"type\":\"rect\",\"x0\":27.5,\"x1\":28.5,\"y0\":7.5,\"y1\":8.5},{\"line\":{\"color\":\"grey\",\"width\":1},\"type\":\"rect\",\"x0\":28.5,\"x1\":29.5,\"y0\":7.5,\"y1\":8.5},{\"line\":{\"color\":\"grey\",\"width\":1},\"type\":\"rect\",\"x0\":29.5,\"x1\":30.5,\"y0\":7.5,\"y1\":8.5},{\"line\":{\"color\":\"grey\",\"width\":1},\"type\":\"rect\",\"x0\":30.5,\"x1\":31.5,\"y0\":7.5,\"y1\":8.5},{\"line\":{\"color\":\"grey\",\"width\":1},\"type\":\"rect\",\"x0\":0.5,\"x1\":1.5,\"y0\":8.5,\"y1\":9.5},{\"line\":{\"color\":\"grey\",\"width\":1},\"type\":\"rect\",\"x0\":1.5,\"x1\":2.5,\"y0\":8.5,\"y1\":9.5},{\"line\":{\"color\":\"grey\",\"width\":1},\"type\":\"rect\",\"x0\":2.5,\"x1\":3.5,\"y0\":8.5,\"y1\":9.5},{\"line\":{\"color\":\"grey\",\"width\":1},\"type\":\"rect\",\"x0\":3.5,\"x1\":4.5,\"y0\":8.5,\"y1\":9.5},{\"line\":{\"color\":\"grey\",\"width\":1},\"type\":\"rect\",\"x0\":4.5,\"x1\":5.5,\"y0\":8.5,\"y1\":9.5},{\"line\":{\"color\":\"grey\",\"width\":1},\"type\":\"rect\",\"x0\":5.5,\"x1\":6.5,\"y0\":8.5,\"y1\":9.5},{\"line\":{\"color\":\"grey\",\"width\":1},\"type\":\"rect\",\"x0\":6.5,\"x1\":7.5,\"y0\":8.5,\"y1\":9.5},{\"line\":{\"color\":\"grey\",\"width\":1},\"type\":\"rect\",\"x0\":7.5,\"x1\":8.5,\"y0\":8.5,\"y1\":9.5},{\"line\":{\"color\":\"grey\",\"width\":1},\"type\":\"rect\",\"x0\":8.5,\"x1\":9.5,\"y0\":8.5,\"y1\":9.5},{\"line\":{\"color\":\"grey\",\"width\":1},\"type\":\"rect\",\"x0\":9.5,\"x1\":10.5,\"y0\":8.5,\"y1\":9.5},{\"line\":{\"color\":\"grey\",\"width\":1},\"type\":\"rect\",\"x0\":10.5,\"x1\":11.5,\"y0\":8.5,\"y1\":9.5},{\"line\":{\"color\":\"grey\",\"width\":1},\"type\":\"rect\",\"x0\":11.5,\"x1\":12.5,\"y0\":8.5,\"y1\":9.5},{\"line\":{\"color\":\"grey\",\"width\":1},\"type\":\"rect\",\"x0\":12.5,\"x1\":13.5,\"y0\":8.5,\"y1\":9.5},{\"line\":{\"color\":\"grey\",\"width\":1},\"type\":\"rect\",\"x0\":13.5,\"x1\":14.5,\"y0\":8.5,\"y1\":9.5},{\"line\":{\"color\":\"grey\",\"width\":1},\"type\":\"rect\",\"x0\":14.5,\"x1\":15.5,\"y0\":8.5,\"y1\":9.5},{\"line\":{\"color\":\"grey\",\"width\":1},\"type\":\"rect\",\"x0\":15.5,\"x1\":16.5,\"y0\":8.5,\"y1\":9.5},{\"line\":{\"color\":\"grey\",\"width\":1},\"type\":\"rect\",\"x0\":16.5,\"x1\":17.5,\"y0\":8.5,\"y1\":9.5},{\"line\":{\"color\":\"grey\",\"width\":1},\"type\":\"rect\",\"x0\":17.5,\"x1\":18.5,\"y0\":8.5,\"y1\":9.5},{\"line\":{\"color\":\"grey\",\"width\":1},\"type\":\"rect\",\"x0\":18.5,\"x1\":19.5,\"y0\":8.5,\"y1\":9.5},{\"line\":{\"color\":\"grey\",\"width\":1},\"type\":\"rect\",\"x0\":19.5,\"x1\":20.5,\"y0\":8.5,\"y1\":9.5},{\"line\":{\"color\":\"grey\",\"width\":1},\"type\":\"rect\",\"x0\":20.5,\"x1\":21.5,\"y0\":8.5,\"y1\":9.5},{\"line\":{\"color\":\"grey\",\"width\":1},\"type\":\"rect\",\"x0\":21.5,\"x1\":22.5,\"y0\":8.5,\"y1\":9.5},{\"line\":{\"color\":\"grey\",\"width\":1},\"type\":\"rect\",\"x0\":22.5,\"x1\":23.5,\"y0\":8.5,\"y1\":9.5},{\"line\":{\"color\":\"grey\",\"width\":1},\"type\":\"rect\",\"x0\":23.5,\"x1\":24.5,\"y0\":8.5,\"y1\":9.5},{\"line\":{\"color\":\"grey\",\"width\":1},\"type\":\"rect\",\"x0\":24.5,\"x1\":25.5,\"y0\":8.5,\"y1\":9.5},{\"line\":{\"color\":\"grey\",\"width\":1},\"type\":\"rect\",\"x0\":25.5,\"x1\":26.5,\"y0\":8.5,\"y1\":9.5},{\"line\":{\"color\":\"grey\",\"width\":1},\"type\":\"rect\",\"x0\":26.5,\"x1\":27.5,\"y0\":8.5,\"y1\":9.5},{\"line\":{\"color\":\"grey\",\"width\":1},\"type\":\"rect\",\"x0\":27.5,\"x1\":28.5,\"y0\":8.5,\"y1\":9.5},{\"line\":{\"color\":\"grey\",\"width\":1},\"type\":\"rect\",\"x0\":28.5,\"x1\":29.5,\"y0\":8.5,\"y1\":9.5},{\"line\":{\"color\":\"grey\",\"width\":1},\"type\":\"rect\",\"x0\":29.5,\"x1\":30.5,\"y0\":8.5,\"y1\":9.5},{\"line\":{\"color\":\"grey\",\"width\":1},\"type\":\"rect\",\"x0\":30.5,\"x1\":31.5,\"y0\":8.5,\"y1\":9.5},{\"line\":{\"color\":\"grey\",\"width\":1},\"type\":\"rect\",\"x0\":0.5,\"x1\":1.5,\"y0\":9.5,\"y1\":10.5},{\"line\":{\"color\":\"grey\",\"width\":1},\"type\":\"rect\",\"x0\":1.5,\"x1\":2.5,\"y0\":9.5,\"y1\":10.5},{\"line\":{\"color\":\"grey\",\"width\":1},\"type\":\"rect\",\"x0\":2.5,\"x1\":3.5,\"y0\":9.5,\"y1\":10.5},{\"line\":{\"color\":\"grey\",\"width\":1},\"type\":\"rect\",\"x0\":3.5,\"x1\":4.5,\"y0\":9.5,\"y1\":10.5},{\"line\":{\"color\":\"grey\",\"width\":1},\"type\":\"rect\",\"x0\":4.5,\"x1\":5.5,\"y0\":9.5,\"y1\":10.5},{\"line\":{\"color\":\"grey\",\"width\":1},\"type\":\"rect\",\"x0\":5.5,\"x1\":6.5,\"y0\":9.5,\"y1\":10.5},{\"line\":{\"color\":\"grey\",\"width\":1},\"type\":\"rect\",\"x0\":6.5,\"x1\":7.5,\"y0\":9.5,\"y1\":10.5},{\"line\":{\"color\":\"grey\",\"width\":1},\"type\":\"rect\",\"x0\":7.5,\"x1\":8.5,\"y0\":9.5,\"y1\":10.5},{\"line\":{\"color\":\"grey\",\"width\":1},\"type\":\"rect\",\"x0\":8.5,\"x1\":9.5,\"y0\":9.5,\"y1\":10.5},{\"line\":{\"color\":\"grey\",\"width\":1},\"type\":\"rect\",\"x0\":9.5,\"x1\":10.5,\"y0\":9.5,\"y1\":10.5},{\"line\":{\"color\":\"grey\",\"width\":1},\"type\":\"rect\",\"x0\":10.5,\"x1\":11.5,\"y0\":9.5,\"y1\":10.5},{\"line\":{\"color\":\"grey\",\"width\":1},\"type\":\"rect\",\"x0\":11.5,\"x1\":12.5,\"y0\":9.5,\"y1\":10.5},{\"line\":{\"color\":\"grey\",\"width\":1},\"type\":\"rect\",\"x0\":12.5,\"x1\":13.5,\"y0\":9.5,\"y1\":10.5},{\"line\":{\"color\":\"grey\",\"width\":1},\"type\":\"rect\",\"x0\":13.5,\"x1\":14.5,\"y0\":9.5,\"y1\":10.5},{\"line\":{\"color\":\"grey\",\"width\":1},\"type\":\"rect\",\"x0\":14.5,\"x1\":15.5,\"y0\":9.5,\"y1\":10.5},{\"line\":{\"color\":\"grey\",\"width\":1},\"type\":\"rect\",\"x0\":15.5,\"x1\":16.5,\"y0\":9.5,\"y1\":10.5},{\"line\":{\"color\":\"grey\",\"width\":1},\"type\":\"rect\",\"x0\":16.5,\"x1\":17.5,\"y0\":9.5,\"y1\":10.5},{\"line\":{\"color\":\"grey\",\"width\":1},\"type\":\"rect\",\"x0\":17.5,\"x1\":18.5,\"y0\":9.5,\"y1\":10.5},{\"line\":{\"color\":\"grey\",\"width\":1},\"type\":\"rect\",\"x0\":18.5,\"x1\":19.5,\"y0\":9.5,\"y1\":10.5},{\"line\":{\"color\":\"grey\",\"width\":1},\"type\":\"rect\",\"x0\":19.5,\"x1\":20.5,\"y0\":9.5,\"y1\":10.5},{\"line\":{\"color\":\"grey\",\"width\":1},\"type\":\"rect\",\"x0\":20.5,\"x1\":21.5,\"y0\":9.5,\"y1\":10.5},{\"line\":{\"color\":\"grey\",\"width\":1},\"type\":\"rect\",\"x0\":21.5,\"x1\":22.5,\"y0\":9.5,\"y1\":10.5},{\"line\":{\"color\":\"grey\",\"width\":1},\"type\":\"rect\",\"x0\":22.5,\"x1\":23.5,\"y0\":9.5,\"y1\":10.5},{\"line\":{\"color\":\"grey\",\"width\":1},\"type\":\"rect\",\"x0\":23.5,\"x1\":24.5,\"y0\":9.5,\"y1\":10.5},{\"line\":{\"color\":\"grey\",\"width\":1},\"type\":\"rect\",\"x0\":24.5,\"x1\":25.5,\"y0\":9.5,\"y1\":10.5},{\"line\":{\"color\":\"grey\",\"width\":1},\"type\":\"rect\",\"x0\":25.5,\"x1\":26.5,\"y0\":9.5,\"y1\":10.5},{\"line\":{\"color\":\"grey\",\"width\":1},\"type\":\"rect\",\"x0\":26.5,\"x1\":27.5,\"y0\":9.5,\"y1\":10.5},{\"line\":{\"color\":\"grey\",\"width\":1},\"type\":\"rect\",\"x0\":27.5,\"x1\":28.5,\"y0\":9.5,\"y1\":10.5},{\"line\":{\"color\":\"grey\",\"width\":1},\"type\":\"rect\",\"x0\":28.5,\"x1\":29.5,\"y0\":9.5,\"y1\":10.5},{\"line\":{\"color\":\"grey\",\"width\":1},\"type\":\"rect\",\"x0\":29.5,\"x1\":30.5,\"y0\":9.5,\"y1\":10.5},{\"line\":{\"color\":\"grey\",\"width\":1},\"type\":\"rect\",\"x0\":30.5,\"x1\":31.5,\"y0\":9.5,\"y1\":10.5},{\"line\":{\"color\":\"grey\",\"width\":1},\"type\":\"rect\",\"x0\":0.5,\"x1\":1.5,\"y0\":10.5,\"y1\":11.5},{\"line\":{\"color\":\"grey\",\"width\":1},\"type\":\"rect\",\"x0\":1.5,\"x1\":2.5,\"y0\":10.5,\"y1\":11.5},{\"line\":{\"color\":\"grey\",\"width\":1},\"type\":\"rect\",\"x0\":2.5,\"x1\":3.5,\"y0\":10.5,\"y1\":11.5},{\"line\":{\"color\":\"grey\",\"width\":1},\"type\":\"rect\",\"x0\":3.5,\"x1\":4.5,\"y0\":10.5,\"y1\":11.5},{\"line\":{\"color\":\"grey\",\"width\":1},\"type\":\"rect\",\"x0\":4.5,\"x1\":5.5,\"y0\":10.5,\"y1\":11.5},{\"line\":{\"color\":\"grey\",\"width\":1},\"type\":\"rect\",\"x0\":5.5,\"x1\":6.5,\"y0\":10.5,\"y1\":11.5},{\"line\":{\"color\":\"grey\",\"width\":1},\"type\":\"rect\",\"x0\":6.5,\"x1\":7.5,\"y0\":10.5,\"y1\":11.5},{\"line\":{\"color\":\"grey\",\"width\":1},\"type\":\"rect\",\"x0\":7.5,\"x1\":8.5,\"y0\":10.5,\"y1\":11.5},{\"line\":{\"color\":\"grey\",\"width\":1},\"type\":\"rect\",\"x0\":8.5,\"x1\":9.5,\"y0\":10.5,\"y1\":11.5},{\"line\":{\"color\":\"grey\",\"width\":1},\"type\":\"rect\",\"x0\":9.5,\"x1\":10.5,\"y0\":10.5,\"y1\":11.5},{\"line\":{\"color\":\"grey\",\"width\":1},\"type\":\"rect\",\"x0\":10.5,\"x1\":11.5,\"y0\":10.5,\"y1\":11.5},{\"line\":{\"color\":\"grey\",\"width\":1},\"type\":\"rect\",\"x0\":11.5,\"x1\":12.5,\"y0\":10.5,\"y1\":11.5},{\"line\":{\"color\":\"grey\",\"width\":1},\"type\":\"rect\",\"x0\":12.5,\"x1\":13.5,\"y0\":10.5,\"y1\":11.5},{\"line\":{\"color\":\"grey\",\"width\":1},\"type\":\"rect\",\"x0\":13.5,\"x1\":14.5,\"y0\":10.5,\"y1\":11.5},{\"line\":{\"color\":\"grey\",\"width\":1},\"type\":\"rect\",\"x0\":14.5,\"x1\":15.5,\"y0\":10.5,\"y1\":11.5},{\"line\":{\"color\":\"grey\",\"width\":1},\"type\":\"rect\",\"x0\":15.5,\"x1\":16.5,\"y0\":10.5,\"y1\":11.5},{\"line\":{\"color\":\"grey\",\"width\":1},\"type\":\"rect\",\"x0\":16.5,\"x1\":17.5,\"y0\":10.5,\"y1\":11.5},{\"line\":{\"color\":\"grey\",\"width\":1},\"type\":\"rect\",\"x0\":17.5,\"x1\":18.5,\"y0\":10.5,\"y1\":11.5},{\"line\":{\"color\":\"grey\",\"width\":1},\"type\":\"rect\",\"x0\":18.5,\"x1\":19.5,\"y0\":10.5,\"y1\":11.5},{\"line\":{\"color\":\"grey\",\"width\":1},\"type\":\"rect\",\"x0\":19.5,\"x1\":20.5,\"y0\":10.5,\"y1\":11.5},{\"line\":{\"color\":\"grey\",\"width\":1},\"type\":\"rect\",\"x0\":20.5,\"x1\":21.5,\"y0\":10.5,\"y1\":11.5},{\"line\":{\"color\":\"grey\",\"width\":1},\"type\":\"rect\",\"x0\":21.5,\"x1\":22.5,\"y0\":10.5,\"y1\":11.5},{\"line\":{\"color\":\"grey\",\"width\":1},\"type\":\"rect\",\"x0\":22.5,\"x1\":23.5,\"y0\":10.5,\"y1\":11.5},{\"line\":{\"color\":\"grey\",\"width\":1},\"type\":\"rect\",\"x0\":23.5,\"x1\":24.5,\"y0\":10.5,\"y1\":11.5},{\"line\":{\"color\":\"grey\",\"width\":1},\"type\":\"rect\",\"x0\":24.5,\"x1\":25.5,\"y0\":10.5,\"y1\":11.5},{\"line\":{\"color\":\"grey\",\"width\":1},\"type\":\"rect\",\"x0\":25.5,\"x1\":26.5,\"y0\":10.5,\"y1\":11.5},{\"line\":{\"color\":\"grey\",\"width\":1},\"type\":\"rect\",\"x0\":26.5,\"x1\":27.5,\"y0\":10.5,\"y1\":11.5},{\"line\":{\"color\":\"grey\",\"width\":1},\"type\":\"rect\",\"x0\":27.5,\"x1\":28.5,\"y0\":10.5,\"y1\":11.5},{\"line\":{\"color\":\"grey\",\"width\":1},\"type\":\"rect\",\"x0\":28.5,\"x1\":29.5,\"y0\":10.5,\"y1\":11.5},{\"line\":{\"color\":\"grey\",\"width\":1},\"type\":\"rect\",\"x0\":29.5,\"x1\":30.5,\"y0\":10.5,\"y1\":11.5},{\"line\":{\"color\":\"grey\",\"width\":1},\"type\":\"rect\",\"x0\":30.5,\"x1\":31.5,\"y0\":10.5,\"y1\":11.5},{\"line\":{\"color\":\"grey\",\"width\":1},\"type\":\"rect\",\"x0\":0.5,\"x1\":1.5,\"y0\":11.5,\"y1\":12.5},{\"line\":{\"color\":\"grey\",\"width\":1},\"type\":\"rect\",\"x0\":1.5,\"x1\":2.5,\"y0\":11.5,\"y1\":12.5},{\"line\":{\"color\":\"grey\",\"width\":1},\"type\":\"rect\",\"x0\":2.5,\"x1\":3.5,\"y0\":11.5,\"y1\":12.5},{\"line\":{\"color\":\"grey\",\"width\":1},\"type\":\"rect\",\"x0\":3.5,\"x1\":4.5,\"y0\":11.5,\"y1\":12.5},{\"line\":{\"color\":\"grey\",\"width\":1},\"type\":\"rect\",\"x0\":4.5,\"x1\":5.5,\"y0\":11.5,\"y1\":12.5},{\"line\":{\"color\":\"grey\",\"width\":1},\"type\":\"rect\",\"x0\":5.5,\"x1\":6.5,\"y0\":11.5,\"y1\":12.5},{\"line\":{\"color\":\"grey\",\"width\":1},\"type\":\"rect\",\"x0\":6.5,\"x1\":7.5,\"y0\":11.5,\"y1\":12.5},{\"line\":{\"color\":\"grey\",\"width\":1},\"type\":\"rect\",\"x0\":7.5,\"x1\":8.5,\"y0\":11.5,\"y1\":12.5},{\"line\":{\"color\":\"grey\",\"width\":1},\"type\":\"rect\",\"x0\":8.5,\"x1\":9.5,\"y0\":11.5,\"y1\":12.5},{\"line\":{\"color\":\"grey\",\"width\":1},\"type\":\"rect\",\"x0\":9.5,\"x1\":10.5,\"y0\":11.5,\"y1\":12.5},{\"line\":{\"color\":\"grey\",\"width\":1},\"type\":\"rect\",\"x0\":10.5,\"x1\":11.5,\"y0\":11.5,\"y1\":12.5},{\"line\":{\"color\":\"grey\",\"width\":1},\"type\":\"rect\",\"x0\":11.5,\"x1\":12.5,\"y0\":11.5,\"y1\":12.5},{\"line\":{\"color\":\"grey\",\"width\":1},\"type\":\"rect\",\"x0\":12.5,\"x1\":13.5,\"y0\":11.5,\"y1\":12.5},{\"line\":{\"color\":\"grey\",\"width\":1},\"type\":\"rect\",\"x0\":13.5,\"x1\":14.5,\"y0\":11.5,\"y1\":12.5},{\"line\":{\"color\":\"grey\",\"width\":1},\"type\":\"rect\",\"x0\":14.5,\"x1\":15.5,\"y0\":11.5,\"y1\":12.5},{\"line\":{\"color\":\"grey\",\"width\":1},\"type\":\"rect\",\"x0\":15.5,\"x1\":16.5,\"y0\":11.5,\"y1\":12.5},{\"line\":{\"color\":\"grey\",\"width\":1},\"type\":\"rect\",\"x0\":16.5,\"x1\":17.5,\"y0\":11.5,\"y1\":12.5},{\"line\":{\"color\":\"grey\",\"width\":1},\"type\":\"rect\",\"x0\":17.5,\"x1\":18.5,\"y0\":11.5,\"y1\":12.5},{\"line\":{\"color\":\"grey\",\"width\":1},\"type\":\"rect\",\"x0\":18.5,\"x1\":19.5,\"y0\":11.5,\"y1\":12.5},{\"line\":{\"color\":\"grey\",\"width\":1},\"type\":\"rect\",\"x0\":19.5,\"x1\":20.5,\"y0\":11.5,\"y1\":12.5},{\"line\":{\"color\":\"grey\",\"width\":1},\"type\":\"rect\",\"x0\":20.5,\"x1\":21.5,\"y0\":11.5,\"y1\":12.5},{\"line\":{\"color\":\"grey\",\"width\":1},\"type\":\"rect\",\"x0\":21.5,\"x1\":22.5,\"y0\":11.5,\"y1\":12.5},{\"line\":{\"color\":\"grey\",\"width\":1},\"type\":\"rect\",\"x0\":22.5,\"x1\":23.5,\"y0\":11.5,\"y1\":12.5},{\"line\":{\"color\":\"grey\",\"width\":1},\"type\":\"rect\",\"x0\":23.5,\"x1\":24.5,\"y0\":11.5,\"y1\":12.5},{\"line\":{\"color\":\"grey\",\"width\":1},\"type\":\"rect\",\"x0\":24.5,\"x1\":25.5,\"y0\":11.5,\"y1\":12.5},{\"line\":{\"color\":\"grey\",\"width\":1},\"type\":\"rect\",\"x0\":25.5,\"x1\":26.5,\"y0\":11.5,\"y1\":12.5},{\"line\":{\"color\":\"grey\",\"width\":1},\"type\":\"rect\",\"x0\":26.5,\"x1\":27.5,\"y0\":11.5,\"y1\":12.5},{\"line\":{\"color\":\"grey\",\"width\":1},\"type\":\"rect\",\"x0\":27.5,\"x1\":28.5,\"y0\":11.5,\"y1\":12.5},{\"line\":{\"color\":\"grey\",\"width\":1},\"type\":\"rect\",\"x0\":28.5,\"x1\":29.5,\"y0\":11.5,\"y1\":12.5},{\"line\":{\"color\":\"grey\",\"width\":1},\"type\":\"rect\",\"x0\":29.5,\"x1\":30.5,\"y0\":11.5,\"y1\":12.5},{\"line\":{\"color\":\"grey\",\"width\":1},\"type\":\"rect\",\"x0\":30.5,\"x1\":31.5,\"y0\":11.5,\"y1\":12.5}],\"height\":500,\"width\":1200},                        {\"responsive\": true}                    ).then(function(){\n",
       "                            \n",
       "var gd = document.getElementById('033d6751-a281-440e-8a57-e0c953d8250c');\n",
       "var x = new MutationObserver(function (mutations, observer) {{\n",
       "        var display = window.getComputedStyle(gd).display;\n",
       "        if (!display || display === 'none') {{\n",
       "            console.log([gd, 'removed!']);\n",
       "            Plotly.purge(gd);\n",
       "            observer.disconnect();\n",
       "        }}\n",
       "}});\n",
       "\n",
       "// Listen for the removal of the full notebook cells\n",
       "var notebookContainer = gd.closest('#notebook-container');\n",
       "if (notebookContainer) {{\n",
       "    x.observe(notebookContainer, {childList: true});\n",
       "}}\n",
       "\n",
       "// Listen for the clearing of the current output cell\n",
       "var outputEl = gd.closest('.output');\n",
       "if (outputEl) {{\n",
       "    x.observe(outputEl, {childList: true});\n",
       "}}\n",
       "\n",
       "                        })                };                });            </script>        </div>"
      ]
     },
     "metadata": {},
     "output_type": "display_data"
    }
   ],
   "source": [
    "processed_inv = preprocess_heatmap(all_records)\n",
    "plot_heatmap(processed_inv,2021)"
   ]
  },
  {
   "cell_type": "code",
   "execution_count": null,
   "id": "3d47eafe-1bb6-4676-906c-d8a026a60e93",
   "metadata": {},
   "outputs": [],
   "source": []
  },
  {
   "cell_type": "code",
   "execution_count": 74,
   "id": "31061f11-8d1b-42ef-9051-b6d1268effd6",
   "metadata": {},
   "outputs": [
    {
     "data": {
      "text/html": [
       "<div>\n",
       "<style scoped>\n",
       "    .dataframe tbody tr th:only-of-type {\n",
       "        vertical-align: middle;\n",
       "    }\n",
       "\n",
       "    .dataframe tbody tr th {\n",
       "        vertical-align: top;\n",
       "    }\n",
       "\n",
       "    .dataframe thead th {\n",
       "        text-align: right;\n",
       "    }\n",
       "</style>\n",
       "<table border=\"1\" class=\"dataframe\">\n",
       "  <thead>\n",
       "    <tr style=\"text-align: right;\">\n",
       "      <th></th>\n",
       "      <th>Order_ID</th>\n",
       "      <th>Order_Date</th>\n",
       "      <th>User</th>\n",
       "      <th>Number_Samples</th>\n",
       "      <th>Year</th>\n",
       "      <th>Month</th>\n",
       "      <th>Day</th>\n",
       "    </tr>\n",
       "  </thead>\n",
       "  <tbody>\n",
       "    <tr>\n",
       "      <th>0</th>\n",
       "      <td>190508FN-095</td>\n",
       "      <td>2019-05-08</td>\n",
       "      <td>NaN</td>\n",
       "      <td>18</td>\n",
       "      <td>2019</td>\n",
       "      <td>5</td>\n",
       "      <td>8</td>\n",
       "    </tr>\n",
       "    <tr>\n",
       "      <th>1</th>\n",
       "      <td>190509FN-067</td>\n",
       "      <td>2019-05-09</td>\n",
       "      <td>NaN</td>\n",
       "      <td>4</td>\n",
       "      <td>2019</td>\n",
       "      <td>5</td>\n",
       "      <td>9</td>\n",
       "    </tr>\n",
       "    <tr>\n",
       "      <th>2</th>\n",
       "      <td>190508FN-082</td>\n",
       "      <td>2019-05-08</td>\n",
       "      <td>NaN</td>\n",
       "      <td>4</td>\n",
       "      <td>2019</td>\n",
       "      <td>5</td>\n",
       "      <td>8</td>\n",
       "    </tr>\n",
       "    <tr>\n",
       "      <th>3</th>\n",
       "      <td>190513FN-027</td>\n",
       "      <td>2019-05-13</td>\n",
       "      <td>NaN</td>\n",
       "      <td>8</td>\n",
       "      <td>2019</td>\n",
       "      <td>5</td>\n",
       "      <td>13</td>\n",
       "    </tr>\n",
       "    <tr>\n",
       "      <th>4</th>\n",
       "      <td>190513FN-043</td>\n",
       "      <td>2019-05-13</td>\n",
       "      <td>NaN</td>\n",
       "      <td>24</td>\n",
       "      <td>2019</td>\n",
       "      <td>5</td>\n",
       "      <td>13</td>\n",
       "    </tr>\n",
       "    <tr>\n",
       "      <th>...</th>\n",
       "      <td>...</td>\n",
       "      <td>...</td>\n",
       "      <td>...</td>\n",
       "      <td>...</td>\n",
       "      <td>...</td>\n",
       "      <td>...</td>\n",
       "      <td>...</td>\n",
       "    </tr>\n",
       "    <tr>\n",
       "      <th>1794</th>\n",
       "      <td>184696</td>\n",
       "      <td>2024-04-23</td>\n",
       "      <td>Justin Zik</td>\n",
       "      <td>24</td>\n",
       "      <td>2024</td>\n",
       "      <td>4</td>\n",
       "      <td>23</td>\n",
       "    </tr>\n",
       "    <tr>\n",
       "      <th>1795</th>\n",
       "      <td>184832</td>\n",
       "      <td>2024-04-25</td>\n",
       "      <td>Si Yin</td>\n",
       "      <td>12</td>\n",
       "      <td>2024</td>\n",
       "      <td>4</td>\n",
       "      <td>25</td>\n",
       "    </tr>\n",
       "    <tr>\n",
       "      <th>1796</th>\n",
       "      <td>184895</td>\n",
       "      <td>2024-04-26</td>\n",
       "      <td>Wanzhen</td>\n",
       "      <td>4</td>\n",
       "      <td>2024</td>\n",
       "      <td>4</td>\n",
       "      <td>26</td>\n",
       "    </tr>\n",
       "    <tr>\n",
       "      <th>1797</th>\n",
       "      <td>185025</td>\n",
       "      <td>2024-04-30</td>\n",
       "      <td>Dong Tianyun</td>\n",
       "      <td>16</td>\n",
       "      <td>2024</td>\n",
       "      <td>4</td>\n",
       "      <td>30</td>\n",
       "    </tr>\n",
       "    <tr>\n",
       "      <th>1798</th>\n",
       "      <td>185049</td>\n",
       "      <td>2024-04-30</td>\n",
       "      <td>Nicole</td>\n",
       "      <td>4</td>\n",
       "      <td>2024</td>\n",
       "      <td>4</td>\n",
       "      <td>30</td>\n",
       "    </tr>\n",
       "  </tbody>\n",
       "</table>\n",
       "<p>1799 rows × 7 columns</p>\n",
       "</div>"
      ],
      "text/plain": [
       "          Order_ID Order_Date          User  Number_Samples  Year  Month  Day\n",
       "0     190508FN-095 2019-05-08           NaN              18  2019      5    8\n",
       "1     190509FN-067 2019-05-09           NaN               4  2019      5    9\n",
       "2     190508FN-082 2019-05-08           NaN               4  2019      5    8\n",
       "3     190513FN-027 2019-05-13           NaN               8  2019      5   13\n",
       "4     190513FN-043 2019-05-13           NaN              24  2019      5   13\n",
       "...            ...        ...           ...             ...   ...    ...  ...\n",
       "1794        184696 2024-04-23    Justin Zik              24  2024      4   23\n",
       "1795        184832 2024-04-25        Si Yin              12  2024      4   25\n",
       "1796        184895 2024-04-26       Wanzhen               4  2024      4   26\n",
       "1797        185025 2024-04-30  Dong Tianyun              16  2024      4   30\n",
       "1798        185049 2024-04-30        Nicole               4  2024      4   30\n",
       "\n",
       "[1799 rows x 7 columns]"
      ]
     },
     "execution_count": 74,
     "metadata": {},
     "output_type": "execute_result"
    }
   ],
   "source": [
    "all_records"
   ]
  },
  {
   "cell_type": "code",
   "execution_count": 102,
   "id": "324c82c9-b106-4f49-8021-cdcd4915731f",
   "metadata": {},
   "outputs": [],
   "source": [
    "selected_data = all_records[all_records['Year']==2023]"
   ]
  },
  {
   "cell_type": "code",
   "execution_count": 76,
   "id": "07d0de84-74af-4a7d-872f-19517abc5b5c",
   "metadata": {},
   "outputs": [
    {
     "data": {
      "text/html": [
       "<div>\n",
       "<style scoped>\n",
       "    .dataframe tbody tr th:only-of-type {\n",
       "        vertical-align: middle;\n",
       "    }\n",
       "\n",
       "    .dataframe tbody tr th {\n",
       "        vertical-align: top;\n",
       "    }\n",
       "\n",
       "    .dataframe thead th {\n",
       "        text-align: right;\n",
       "    }\n",
       "</style>\n",
       "<table border=\"1\" class=\"dataframe\">\n",
       "  <thead>\n",
       "    <tr style=\"text-align: right;\">\n",
       "      <th></th>\n",
       "      <th>Order_ID</th>\n",
       "      <th>Order_Date</th>\n",
       "      <th>User</th>\n",
       "      <th>Number_Samples</th>\n",
       "      <th>Year</th>\n",
       "      <th>Month</th>\n",
       "      <th>Day</th>\n",
       "    </tr>\n",
       "  </thead>\n",
       "  <tbody>\n",
       "    <tr>\n",
       "      <th>930</th>\n",
       "      <td>220104FN-001</td>\n",
       "      <td>2022-01-04</td>\n",
       "      <td>Wanzhen</td>\n",
       "      <td>10</td>\n",
       "      <td>2022</td>\n",
       "      <td>1</td>\n",
       "      <td>4</td>\n",
       "    </tr>\n",
       "    <tr>\n",
       "      <th>931</th>\n",
       "      <td>220105FN-001</td>\n",
       "      <td>2022-01-05</td>\n",
       "      <td>Wanzhen</td>\n",
       "      <td>32</td>\n",
       "      <td>2022</td>\n",
       "      <td>1</td>\n",
       "      <td>5</td>\n",
       "    </tr>\n",
       "    <tr>\n",
       "      <th>932</th>\n",
       "      <td>220106FN-001</td>\n",
       "      <td>2022-01-06</td>\n",
       "      <td>Rachel</td>\n",
       "      <td>4</td>\n",
       "      <td>2022</td>\n",
       "      <td>1</td>\n",
       "      <td>6</td>\n",
       "    </tr>\n",
       "    <tr>\n",
       "      <th>933</th>\n",
       "      <td>220107FN-001</td>\n",
       "      <td>2022-01-07</td>\n",
       "      <td>Wanzhen</td>\n",
       "      <td>4</td>\n",
       "      <td>2022</td>\n",
       "      <td>1</td>\n",
       "      <td>7</td>\n",
       "    </tr>\n",
       "    <tr>\n",
       "      <th>934</th>\n",
       "      <td>220107FN-002</td>\n",
       "      <td>2022-01-07</td>\n",
       "      <td>Su Tong</td>\n",
       "      <td>28</td>\n",
       "      <td>2022</td>\n",
       "      <td>1</td>\n",
       "      <td>7</td>\n",
       "    </tr>\n",
       "    <tr>\n",
       "      <th>...</th>\n",
       "      <td>...</td>\n",
       "      <td>...</td>\n",
       "      <td>...</td>\n",
       "      <td>...</td>\n",
       "      <td>...</td>\n",
       "      <td>...</td>\n",
       "      <td>...</td>\n",
       "    </tr>\n",
       "    <tr>\n",
       "      <th>1266</th>\n",
       "      <td>221219FN-002</td>\n",
       "      <td>2022-12-19</td>\n",
       "      <td>Su Tong</td>\n",
       "      <td>4</td>\n",
       "      <td>2022</td>\n",
       "      <td>12</td>\n",
       "      <td>19</td>\n",
       "    </tr>\n",
       "    <tr>\n",
       "      <th>1267</th>\n",
       "      <td>221219FN-005</td>\n",
       "      <td>2022-12-19</td>\n",
       "      <td>Liu Yao</td>\n",
       "      <td>8</td>\n",
       "      <td>2022</td>\n",
       "      <td>12</td>\n",
       "      <td>19</td>\n",
       "    </tr>\n",
       "    <tr>\n",
       "      <th>1268</th>\n",
       "      <td>221221FN-001</td>\n",
       "      <td>2022-12-21</td>\n",
       "      <td>Su Tong</td>\n",
       "      <td>4</td>\n",
       "      <td>2022</td>\n",
       "      <td>12</td>\n",
       "      <td>21</td>\n",
       "    </tr>\n",
       "    <tr>\n",
       "      <th>1269</th>\n",
       "      <td>221222FN-002</td>\n",
       "      <td>2022-12-22</td>\n",
       "      <td>Clement Ng</td>\n",
       "      <td>8</td>\n",
       "      <td>2022</td>\n",
       "      <td>12</td>\n",
       "      <td>22</td>\n",
       "    </tr>\n",
       "    <tr>\n",
       "      <th>1270</th>\n",
       "      <td>221227FN-002</td>\n",
       "      <td>2022-12-27</td>\n",
       "      <td>Justin Zik</td>\n",
       "      <td>4</td>\n",
       "      <td>2022</td>\n",
       "      <td>12</td>\n",
       "      <td>27</td>\n",
       "    </tr>\n",
       "  </tbody>\n",
       "</table>\n",
       "<p>341 rows × 7 columns</p>\n",
       "</div>"
      ],
      "text/plain": [
       "          Order_ID Order_Date        User  Number_Samples  Year  Month  Day\n",
       "930   220104FN-001 2022-01-04     Wanzhen              10  2022      1    4\n",
       "931   220105FN-001 2022-01-05     Wanzhen              32  2022      1    5\n",
       "932   220106FN-001 2022-01-06      Rachel               4  2022      1    6\n",
       "933   220107FN-001 2022-01-07     Wanzhen               4  2022      1    7\n",
       "934   220107FN-002 2022-01-07     Su Tong              28  2022      1    7\n",
       "...            ...        ...         ...             ...   ...    ...  ...\n",
       "1266  221219FN-002 2022-12-19     Su Tong               4  2022     12   19\n",
       "1267  221219FN-005 2022-12-19     Liu Yao               8  2022     12   19\n",
       "1268  221221FN-001 2022-12-21     Su Tong               4  2022     12   21\n",
       "1269  221222FN-002 2022-12-22  Clement Ng               8  2022     12   22\n",
       "1270  221227FN-002 2022-12-27  Justin Zik               4  2022     12   27\n",
       "\n",
       "[341 rows x 7 columns]"
      ]
     },
     "execution_count": 76,
     "metadata": {},
     "output_type": "execute_result"
    }
   ],
   "source": [
    "selected_data"
   ]
  },
  {
   "cell_type": "code",
   "execution_count": 80,
   "id": "89ebd6b6-9183-45de-9a03-f8de11a82299",
   "metadata": {},
   "outputs": [],
   "source": [
    "def get_key_metrics(data):\n",
    "    import pandas as pd\n",
    "    total_expenses = round(data['Number_Samples'].sum() * 4.6, 2)\n",
    "    monthly_average = round(total_expenses/12, 2)\n",
    "    total_orders = data.shape[0]\n",
    "    total_rxn = data['Number_Samples'].sum()\n",
    "    number_of_users = data['User'].nunique()    \n",
    "    return [total_expenses, monthly_average, total_orders, total_rxn, number_of_users]"
   ]
  },
  {
   "cell_type": "code",
   "execution_count": 81,
   "id": "6ef7457d-63e8-434f-b71b-67ba7294e704",
   "metadata": {},
   "outputs": [
    {
     "data": {
      "text/plain": [
       "[20631.0, 1719.25, 341, 4485, 11]"
      ]
     },
     "execution_count": 81,
     "metadata": {},
     "output_type": "execute_result"
    }
   ],
   "source": [
    "get_key_metrics(selected_data)"
   ]
  },
  {
   "cell_type": "code",
   "execution_count": 103,
   "id": "783e51bd-c964-4961-b52f-c5a99a35284e",
   "metadata": {},
   "outputs": [
    {
     "data": {
      "text/plain": [
       "User\n",
       "Clement Ng         980\n",
       "Justin Zik         935\n",
       "Su Tong            734\n",
       "Wanzhen            689\n",
       "Sharifah           344\n",
       "Dylan Alexander    184\n",
       "Rei                166\n",
       "Si Yin             160\n",
       "Liu Yao            153\n",
       "Rachel             130\n",
       "Elaine Sng          76\n",
       "Jade Chun Ye Yu     42\n",
       "Name: Number_Samples, dtype: int64"
      ]
     },
     "execution_count": 103,
     "metadata": {},
     "output_type": "execute_result"
    }
   ],
   "source": [
    "selected_data = selected_data[~selected_data['User'].isna()]\n",
    "selected_data.groupby('User')['Number_Samples'].sum().sort_values(ascending=False)"
   ]
  },
  {
   "cell_type": "code",
   "execution_count": null,
   "id": "65bec9d6-7355-41d3-9638-898b3cffd04b",
   "metadata": {},
   "outputs": [],
   "source": []
  }
 ],
 "metadata": {
  "kernelspec": {
   "display_name": "Python 3 (ipykernel)",
   "language": "python",
   "name": "python3"
  },
  "language_info": {
   "codemirror_mode": {
    "name": "ipython",
    "version": 3
   },
   "file_extension": ".py",
   "mimetype": "text/x-python",
   "name": "python",
   "nbconvert_exporter": "python",
   "pygments_lexer": "ipython3",
   "version": "3.9.12"
  }
 },
 "nbformat": 4,
 "nbformat_minor": 5
}
